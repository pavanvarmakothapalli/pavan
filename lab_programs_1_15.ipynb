{
 "cells": [
  {
   "cell_type": "code",
   "execution_count": 5,
   "id": "cdc21284",
   "metadata": {},
   "outputs": [
    {
     "name": "stdout",
     "output_type": "stream",
     "text": [
      "Enter weight in kilograms: 96\n",
      "96.0 Kilograms is equal to 211.2Pounds\n"
     ]
    }
   ],
   "source": [
    "\"\"\"1.Write a program that asks the user for a weight in kilograms and converts it to pounds. \n",
    "There are 2.2 pounds in a kilogram.\"\"\"\n",
    "\n",
    "weight = float(input(\"Enter weight in kilograms: \"))\n",
    "pounds = round(2.2*weight,2) #Round used to round the value\n",
    "print(f\"{weight} Kilograms is equal to {pounds}Pounds\")"
   ]
  },
  {
   "cell_type": "code",
   "execution_count": 6,
   "id": "6e453d8c",
   "metadata": {},
   "outputs": [
    {
     "name": "stdout",
     "output_type": "stream",
     "text": [
      "Enter first number: 5\n",
      "Enter secod number: 6\n",
      "Enter third number: 7\n",
      "Sum of three numbers is: 18\n",
      "Average of three numbers is: 6.0\n"
     ]
    }
   ],
   "source": [
    "\"\"\"2.Write a program that asks the user to enter three numbers (use three separate input statements).\n",
    "Create variables called total and average that hold the sum and average of the three numbers and\n",
    "print out the values of total and average.\"\"\"\n",
    "\n",
    "n1 = int(input(\"Enter first number: \"))\n",
    "n2 = int(input(\"Enter secod number: \"))\n",
    "n3 = int(input(\"Enter third number: \"))\n",
    "total = n1 + n2 + n3\n",
    "average = total/3\n",
    "print(\"Sum of three numbers is:\",total)\n",
    "print(\"Average of three numbers is:\",average)\n"
   ]
  },
  {
   "cell_type": "code",
   "execution_count": 10,
   "id": "75b80eb5",
   "metadata": {},
   "outputs": [
    {
     "name": "stdout",
     "output_type": "stream",
     "text": [
      "Enter range: 90\n",
      "8, 11, 14, 17, 20, 23, 26, 29, 32, 35, 38, 41, 44, 47, 50, 53, 56, 59, 62, 65, 68, 71, 74, 77, 80, 83, 86, 89"
     ]
    }
   ],
   "source": [
    "#3.Write a program that uses a for loop to print the numbers 8, 11, 14, 17, 20, . . . , 83, 86, 89.\n",
    "\n",
    "n = int(input(\"Enter range: \"))\n",
    "for i in range(8,n,3):\n",
    "    print(i,end=\"\")\n",
    "    if i<n-3:\n",
    "        print(\", \",end=\"\")"
   ]
  },
  {
   "cell_type": "code",
   "execution_count": 15,
   "id": "b87c5f8d",
   "metadata": {},
   "outputs": [
    {
     "name": "stdout",
     "output_type": "stream",
     "text": [
      "Enter your name: PAVAN\n",
      "How many times you want to print? 5\n",
      "Printing With For Loop\n",
      "PAVAN\n",
      "PAVAN\n",
      "PAVAN\n",
      "PAVAN\n",
      "PAVAN\n",
      "Printing With While Loop\n",
      "PAVAN\n",
      "PAVAN\n",
      "PAVAN\n",
      "PAVAN\n",
      "PAVAN\n"
     ]
    }
   ],
   "source": [
    "\"\"\"4.Write a program that asks the user for their name and how many times to print it. \n",
    "The program should print out the user’s name the specified number of times.\"\"\"\n",
    "name = input(\"Enter your name: \")\n",
    "n = int(input(\"How many times you want to print? \"))\n",
    "#using for loop\n",
    "print(\"Printing With For Loop\")\n",
    "for i in range(n):\n",
    "    print(name)\n",
    "#using while loop\n",
    "print(\"Printing With While Loop\")\n",
    "i=0\n",
    "while i<n:\n",
    "    print(name)\n",
    "    i=i+1"
   ]
  },
  {
   "cell_type": "code",
   "execution_count": 16,
   "id": "f2027098",
   "metadata": {},
   "outputs": [
    {
     "name": "stdout",
     "output_type": "stream",
     "text": [
      "Enter height of triangle: 5\n",
      "*\n",
      "**\n",
      "***\n",
      "****\n",
      "*****\n"
     ]
    }
   ],
   "source": [
    "\"\"\"5.Use a forloop to print a triangle like the one below. \n",
    "Allow the user to specify how high the triangle should be.\n",
    "*\n",
    "**\n",
    "***\n",
    "****\n",
    "\"\"\"\n",
    "\n",
    "num = int(input(\"Enter height of triangle: \"))\n",
    "for i in range(num):\n",
    "    for j in range(i+1):\n",
    "        print(\"*\",end=\"\")\n",
    "    print()"
   ]
  },
  {
   "cell_type": "code",
   "execution_count": 17,
   "id": "c3dd2037",
   "metadata": {},
   "outputs": [
    {
     "name": "stdout",
     "output_type": "stream",
     "text": [
      "Guess a number between 1 and 10: 5\n",
      "Sorry! System generated number is 6\n"
     ]
    }
   ],
   "source": [
    "\"\"\"6.Generate a random number between 1 and 10. Ask the user to guess the number and print a\n",
    "message based on whether they get it right or not.\"\"\"\n",
    "import random\n",
    "rand_num = random.randint(1,10)\n",
    "num = int(input(\"Guess a number between 1 and 10: \"))\n",
    "if num==rand_num :\n",
    "    print(\"You guess is right.\")\n",
    "else:\n",
    "    print(\"Sorry! System generated number is\",rand_num )"
   ]
  },
  {
   "cell_type": "code",
   "execution_count": 18,
   "id": "d479d466",
   "metadata": {},
   "outputs": [
    {
     "name": "stdout",
     "output_type": "stream",
     "text": [
      "Enter first number: 3.58899\n",
      "Enter second number: 3.5888\n",
      "Close\n"
     ]
    }
   ],
   "source": [
    "\"\"\"7.Write a program that asks the user for two numbers and prints Close if the numbers are \n",
    "within .001 of each other and Not close otherwise.\"\"\"\n",
    "\n",
    "num1 = float(input(\"Enter first number: \"))\n",
    "num2 = float(input(\"Enter second number: \"))\n",
    "if abs(num1-num2)<0.001:\n",
    "    print(\"Close\")\n",
    "else:\n",
    "    print(\"Not Close\")"
   ]
  },
  {
   "cell_type": "code",
   "execution_count": 22,
   "id": "1517481f",
   "metadata": {},
   "outputs": [
    {
     "name": "stdout",
     "output_type": "stream",
     "text": [
      "Enter a word: p\n",
      "No Vowels in word.\n"
     ]
    }
   ],
   "source": [
    "\"\"\"8.Write a program that asks the user to enter a word and \n",
    "prints out whether that word contains any vowels.\"\"\"\n",
    "\n",
    "word = input(\"Enter a word: \")\n",
    "flag=0\n",
    "for ch in word:\n",
    "    if ch in 'aeiouAEIOU':\n",
    "        flag=1\n",
    "if flag==0:\n",
    "    print(\"No Vowels in word.\")\n",
    "else:\n",
    "    print(\"Vowels in word.\")"
   ]
  },
  {
   "cell_type": "code",
   "execution_count": 23,
   "id": "7d42c8a3",
   "metadata": {},
   "outputs": [
    {
     "name": "stdout",
     "output_type": "stream",
     "text": [
      "enter string1pavan\n",
      "enter string2PAVAN\n",
      "Alternate the characters of the two strings:: pPaAvVaAnN\n"
     ]
    }
   ],
   "source": [
    "\"\"\"9.Write a program that asks the user to enter two strings of the same length. The program should\n",
    "then check to see if the strings are of the same length. If they are not, the program should print an\n",
    "appropriate message and exit. If they are of the same length, the program should alternate the\n",
    "characters of the two strings. For example, if the user enters abcdeandABCDEthe program should\n",
    "print out AaBbCcDdEe.\"\"\"\n",
    "\n",
    "string1=input(\"enter string1\")\n",
    "string2=input(\"enter string2\")\n",
    "result='' #temprare variable for storing data\n",
    "if(len(string1)==len(string2)):\n",
    "    for i in range(len(string1)):\n",
    "        result+=string1[i]+string2[i]        \n",
    "    else:\n",
    "        print(\"Alternate the characters of the two strings::\",result)        \n",
    "else:\n",
    "    print('Both string are Not Equal::')"
   ]
  },
  {
   "cell_type": "code",
   "execution_count": 24,
   "id": "cae467b6",
   "metadata": {},
   "outputs": [
    {
     "name": "stdout",
     "output_type": "stream",
     "text": [
      "enter a long integer1000000\n",
      "standard American convention format= 1,000,000\n"
     ]
    }
   ],
   "source": [
    "\"\"\"10.Write a program that asks the user for a large integer and inserts commas into it according \n",
    "to the standard American convention for commas in large numbers. For instance, if the user enters\n",
    "1000000, the output should be 1,000,000.\"\"\"\n",
    "\n",
    "num=int(input('enter a long integer'))\n",
    "st=str(num) #type conversion\n",
    "for i in range(len(st)-3,0,-3):\n",
    "    st=st[:i]+','+st[i:]\n",
    "print(\"standard American convention format=\",st)"
   ]
  },
  {
   "cell_type": "code",
   "execution_count": 26,
   "id": "c09e4eff",
   "metadata": {},
   "outputs": [
    {
     "name": "stdout",
     "output_type": "stream",
     "text": [
      "ENTER EXPRESSION3(x+y)\n",
      "3*(x+y)\n"
     ]
    }
   ],
   "source": [
    "'''11.In algebraic expressions, the symbol for multiplication is often left out, as in 3x+4y or 3(x+5).\n",
    "Computers prefer those expressions to include the multiplication symbol, like 3*x+4*y or\n",
    "3*(x+5). Write a program that asks the user for an algebraic expression and then inserts\n",
    "multiplication symbols where appropriate.'''\n",
    "\n",
    "exp=input('ENTER EXPRESSION')\n",
    "l=list(exp)\n",
    "i=0\n",
    "result=''\n",
    "while i<len(l):\n",
    "    if l[i]=='(':\n",
    "        index=l.index(')')\n",
    "        s2=\"\".join(l[i:index+1])\n",
    "        result=result+'*'+s2   \n",
    "        i+=len(s2)\n",
    "    elif l[i].isalpha():\n",
    "        result=result+'*'+l[i]\n",
    "        i+=1\n",
    "    else:\n",
    "        result+=l[i]\n",
    "        i+=1\n",
    "print(result)"
   ]
  },
  {
   "cell_type": "code",
   "execution_count": 29,
   "id": "2e8505bc",
   "metadata": {},
   "outputs": [
    {
     "name": "stdout",
     "output_type": "stream",
     "text": [
      "List is : [17, 44, 98, 36, 80, 57, 21, 37, 61, 64, 97, 26, 55, 56, 41, 53, 28, 62, 21, 83]\n",
      "Average is : 51.85\n",
      "Largest element is 98 and smallest element is 17\n",
      "Second largest element is 97 and second smallest element is 21\n",
      "Total number of even elements are : 9\n"
     ]
    }
   ],
   "source": [
    "\"\"\"12.Write a program that generates a list of 20 random numbers between 1 and 100.\n",
    "(a) Print the list.\n",
    "(b) Print the average of the elements in the list.\n",
    "(c) Print the largest and smallest values in the list.\n",
    "(d) Print the second largest and second smallest entries in the list\n",
    "(e) Print how many even numbers are in the list.\"\"\"\n",
    "\n",
    "import random\n",
    "numList=[]\n",
    "for i in range(20):\n",
    "    numList.append(random.randint(1,100));\n",
    "    \n",
    "print(\"List is :\",numList) # Print the list\n",
    "\n",
    "print(\"Average is :\",sum(numList)/20) #Print the average of the elements in the list.\n",
    "\n",
    "print(\"Largest element is\",sorted(numList)[-1],\"and smallest element is\",sorted(numList)[0])\n",
    "\n",
    "print(\"Second largest element is\",sorted(numList)[-2],\"and second smallest element is\",sorted(numList)[1])\n",
    "\n",
    "count=0\n",
    "for i in numList:\n",
    "    if i%2==0:\n",
    "        count+=1\n",
    "print(\"Total number of even elements are :\",count)\n",
    "\n"
   ]
  },
  {
   "cell_type": "code",
   "execution_count": 32,
   "id": "4bf61f60",
   "metadata": {},
   "outputs": [
    {
     "name": "stdout",
     "output_type": "stream",
     "text": [
      "Enter a number : 10\n",
      "The Factors of 10 are [1, 2, 5, 10]\n"
     ]
    }
   ],
   "source": [
    "\"\"\"13. Write a program that asks the user for an integer and creates a list that consists of the factors of\n",
    "that integer.\"\"\"\n",
    "\n",
    "num = int(input(\"Enter a number : \"))\n",
    "factors=[]\n",
    "for i in range(1,num+1):\n",
    "    if num%i==0:\n",
    "        factors.append(i)\n",
    "print(f\"The Factors of {num} are {factors}\")"
   ]
  },
  {
   "cell_type": "code",
   "execution_count": 34,
   "id": "39b8733c",
   "metadata": {},
   "outputs": [
    {
     "name": "stdout",
     "output_type": "stream",
     "text": [
      "[1, 1, 0, 0, 0, 1, 1, 1, 0, 1, 1, 1, 0, 0, 0, 0, 0, 0, 0, 1, 0, 1, 1, 0, 1, 1, 0, 0, 0, 0, 1, 1, 0, 1, 1, 0, 1, 0, 1, 1, 1, 0, 1, 0, 0, 0, 1, 0, 1, 0, 0, 1, 0, 1, 1, 1, 0, 0, 1, 0, 1, 0, 1, 1, 0, 0, 1, 1, 0, 0, 1, 1, 0, 1, 0, 0, 0, 1, 1, 0, 0, 1, 1, 0, 0, 1, 1, 1, 0, 0, 0, 1, 0, 1, 1, 0, 1, 1, 0, 0]\n",
      "longest run of zeros= 7\n"
     ]
    }
   ],
   "source": [
    "\"\"\" 14. Write a program that generates 100 random integers that are either 0 or 1. Then find the longest\n",
    "run of zeros, the largest number of zeros in a row. For instance, the longest run of zeros in\n",
    "[1,0,1,1,0,0,0,0,1,0,0] is 4.\"\"\"\n",
    "\n",
    "import random\n",
    "c=max_c=0\n",
    "l=[]\n",
    "for i in range(1,101):\n",
    "    x=random.randint(0,1)\n",
    "    l.append(x)\n",
    "print(l)\n",
    "for j in l:\n",
    "    if j==0:\n",
    "        c+=1\n",
    "    else:\n",
    "        if c>max_c:\n",
    "            max_c=c\n",
    "        c=0\n",
    "print(\"longest run of zeros=\",max_c)"
   ]
  },
  {
   "cell_type": "code",
   "execution_count": 41,
   "id": "f869f12c",
   "metadata": {},
   "outputs": [
    {
     "name": "stdout",
     "output_type": "stream",
     "text": [
      "[1, 2, 3, 4, 0]\n",
      "Enter How many numbers to be in list:5\n",
      "Enter number:1\n",
      "Enter number:1\n",
      "Enter number:2\n",
      "Enter number:2\n",
      "Enter number:3\n",
      "appendding: [1, 1, 2, 2, 3]\n",
      "[1, 2, 3]\n"
     ]
    }
   ],
   "source": [
    "\"\"\"15.Write a program that removes any repeated items from a list so that each item appears at\n",
    "most once. For instance, the list [1,1,2,3,4,3,0,0] would become [1,2,3,4,0].\"\"\"\n",
    "l=[1,1,2,3,4,3,0,0]\n",
    "li=[]\n",
    "for i in l:\n",
    "    if i not in li:\n",
    "        li.append(i)\n",
    "l=li\n",
    "print(l)\n",
    "\n",
    "#Method 2 Taking List elements for user\n",
    "l2=[]\n",
    "li2=[]\n",
    "num=int(input(\"Enter How many numbers to be in list:\"))\n",
    "for i in range(num):\n",
    "    a=int(input(\"Enter number:\"))\n",
    "    l2.append(a)\n",
    "print(\"Elements after appending:\",l2)\n",
    "for j in l2:\n",
    "    if j not in li2:\n",
    "        li2.append(j)\n",
    "l2=li2\n",
    "print(\"Elements after Deleting Duplicates:\",l2)"
   ]
  },
  {
   "cell_type": "code",
   "execution_count": null,
   "id": "17077b48",
   "metadata": {},
   "outputs": [],
   "source": []
  }
 ],
 "metadata": {
  "kernelspec": {
   "display_name": "Python 3 (ipykernel)",
   "language": "python",
   "name": "python3"
  },
  "language_info": {
   "codemirror_mode": {
    "name": "ipython",
    "version": 3
   },
   "file_extension": ".py",
   "mimetype": "text/x-python",
   "name": "python",
   "nbconvert_exporter": "python",
   "pygments_lexer": "ipython3",
   "version": "3.9.7"
  }
 },
 "nbformat": 4,
 "nbformat_minor": 5
}
