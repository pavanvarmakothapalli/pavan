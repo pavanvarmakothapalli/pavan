{
 "cells": [
  {
   "cell_type": "code",
   "execution_count": 1,
   "id": "c5a8f816",
   "metadata": {},
   "outputs": [
    {
     "name": "stdout",
     "output_type": "stream",
     "text": [
      "Enter the text:Welcome to SRKR ENGINEERING COLLEGE\n"
     ]
    }
   ],
   "source": [
    "#Create a text file “srkr.txt” in python and ask the user to write a single line of text by user input.\n",
    "f = open(\"srkr.txt\",\"w\")\n",
    "text=input(\"Enter the text:\")\n",
    "f.write(text)\n",
    "f.close()"
   ]
  },
  {
   "cell_type": "code",
   "execution_count": 4,
   "id": "e211cf39",
   "metadata": {},
   "outputs": [
    {
     "name": "stdout",
     "output_type": "stream",
     "text": [
      "Enter the text:CSE\n",
      "Enter the text:SRKR\n",
      "Enter the text:AIML\n"
     ]
    }
   ],
   "source": [
    "'''Create a text file “csesrkr.txt” in python and ask the user to write \n",
    "separate 3 lines with three input statements from the user.'''\n",
    "f = open(\"csesrkr.txt\",\"w\")\n",
    "line1=input(\"Enter the text:\")\n",
    "line2=input(\"Enter the text:\")\n",
    "line3=input(\"Enter the text:\")\n",
    "new_line=\"\\n\"\n",
    "f.write(line1)\n",
    "f.write(new_line)\n",
    "f.write(line2)\n",
    "f.write(new_line)\n",
    "f.write(line3)\n",
    "f.write(new_line)\n",
    "f.close()"
   ]
  },
  {
   "cell_type": "code",
   "execution_count": 5,
   "id": "a9437403",
   "metadata": {},
   "outputs": [],
   "source": [
    "'''Write a program to read the contents of both the files created in the above programs \n",
    "and merge the contents into “merge.txt”. Avoid using the close() function to close the files.'''\n",
    "with open(\"srkr.txt\",\"r\") as f1:\n",
    "    data=f1.read()\n",
    "with open(\"csesrkr.txt\",\"r\") as f2:\n",
    "    data1=f2.read()\n",
    "with open(\"merge.txt\",\"w\") as f3:\n",
    "    f3.write(data)\n",
    "    f3.write(data1)"
   ]
  },
  {
   "cell_type": "code",
   "execution_count": 6,
   "id": "c4411759",
   "metadata": {},
   "outputs": [
    {
     "name": "stdout",
     "output_type": "stream",
     "text": [
      "Total Number of Upper Case letters are: 34\n",
      "Total Number of Lower Case letters are: 8\n",
      "Total Number of  digits are: 0\n"
     ]
    }
   ],
   "source": [
    "#Count the total number of upper case, lower case, and digits used in the text file “merge.txt”.\n",
    "with open(\"merge.txt\",\"r\") as f1:\n",
    "    data=f1.read()\n",
    "ucase =0\n",
    "lcase=0\n",
    "digits=0\n",
    "for ch in data:\n",
    "    if ch.islower():\n",
    "        lcase+=1\n",
    "    if ch.isupper():\n",
    "        ucase+=1\n",
    "    if ch.isdigit():\n",
    "        digits+=1\n",
    "print(\"Total Number of Upper Case letters are:\",ucase)\n",
    "print(\"Total Number of Lower Case letters are:\",lcase)\n",
    "print(\"Total Number of  digits are:\",digits)"
   ]
  },
  {
   "cell_type": "code",
   "execution_count": 7,
   "id": "2b5f3f4e",
   "metadata": {},
   "outputs": [
    {
     "name": "stdout",
     "output_type": "stream",
     "text": [
      "Total Number of lines are: 3\n",
      "Total Number of lines strating with A are: 1\n",
      "Total Number of lines strating with B are: 0\n",
      "Total Number of lines strating with C are: 0\n"
     ]
    }
   ],
   "source": [
    "'''Write a program to count a total number of lines and \n",
    "count the total number of lines starting with ‘A’, ‘B’, and ‘C’ using functions. \n",
    "(Consider the merge.txt file)'''\n",
    "\n",
    "def file():\n",
    "    with open(\"merge.txt\",\"r\") as f1:\n",
    "       data=f1.readlines()\n",
    "    cnt_lines=0\n",
    "    cnt_A=0\n",
    "    cnt_B=0\n",
    "    cnt_C=0\n",
    "    for lines in data:\n",
    "        cnt_lines+=1\n",
    "        if lines[0]=='A':\n",
    "            cnt_A+=1\n",
    "        if lines[0]=='B':\n",
    "            cnt_B+=1\n",
    "        if lines[0]=='C':\n",
    "            cnt_C+=1\n",
    "    print(\"Total Number of lines are:\",cnt_lines)\n",
    "    print(\"Total Number of lines strating with A are:\",cnt_A)\n",
    "    print(\"Total Number of lines strating with B are:\",cnt_B)\n",
    "    print(\"Total Number of lines strating with C are:\",cnt_C)\n",
    "file()"
   ]
  },
  {
   "cell_type": "code",
   "execution_count": 8,
   "id": "a04dd96f",
   "metadata": {},
   "outputs": [
    {
     "name": "stdout",
     "output_type": "stream",
     "text": [
      "Enter the words to search:SRKR\n",
      "SRKR found  2  times from the file\n"
     ]
    }
   ],
   "source": [
    "'''Find the total occurrences of a specific word from a text file using functions:'''\n",
    "def file_program():\n",
    "    cnt = 0\n",
    "    word_search = input(\"Enter the words to search:\")\n",
    "    with open(\"merge.txt\",\"r\") as f1:\n",
    "        for data in f1:\n",
    "            words = data.split()\n",
    "            for word in words:\n",
    "                if (word == word_search):\n",
    "                    cnt+=1\n",
    "    print(word_search, \"found \", cnt, \" times from the file\")\n",
    "file_program()"
   ]
  },
  {
   "cell_type": "code",
   "execution_count": 11,
   "id": "ee455c8c",
   "metadata": {},
   "outputs": [],
   "source": [
    "'''Replace all spaces from text with – (dash).'''\n",
    "with open(\"merge.txt\",\"r\") as f1:\n",
    "    data = f1.read()\n",
    "    data=data.replace(' ','-')\n",
    "with open(\"merge.txt\",\"w\") as f1:\n",
    "    f1.write(data)"
   ]
  },
  {
   "cell_type": "code",
   "execution_count": 18,
   "id": "685851ce",
   "metadata": {},
   "outputs": [
    {
     "name": "stdout",
     "output_type": "stream",
     "text": [
      "0\n",
      "ome-t\n",
      "9\n",
      "o-SRKR-ENG\n"
     ]
    }
   ],
   "source": [
    "\"\"\"Write a program to know the cursor position and print the text according \n",
    "to below-given specifications:\n",
    "Print the initial position\n",
    "Move the cursor to 4th position\n",
    "Display next 5 characters\n",
    "Print the current cursor position\n",
    "Print next 10 characters from the current cursor position\"\"\"\n",
    "\n",
    "f = open(\"merge.txt\",\"r\")\n",
    "print(f.tell()) #Initial Position\n",
    "f.seek(4,0) #cursor to 4th position\n",
    "print(f.read(5)) #Display next 5 characters\n",
    "print(f.tell()) #Print the current cursor position\n",
    "print(f.read(10)) #Print next 10 characters"
   ]
  },
  {
   "cell_type": "code",
   "execution_count": 19,
   "id": "93b748ac",
   "metadata": {},
   "outputs": [
    {
     "name": "stdout",
     "output_type": "stream",
     "text": [
      "\n",
      "LMIA\n",
      "RKRS\n",
      "ESCEGELLOC-GNIREENIGNE-RKRS-ot-emocleW"
     ]
    }
   ],
   "source": [
    "\"\"\"Read and print the contents of file in reverse order:\"\"\"\n",
    "with open(\"merge.txt\",\"r\") as f:\n",
    "    date=f.read()\n",
    "    for i in data[::-1]:\n",
    "        print(i,end=\"\")"
   ]
  },
  {
   "cell_type": "code",
   "execution_count": 20,
   "id": "417511ec",
   "metadata": {},
   "outputs": [
    {
     "name": "stdout",
     "output_type": "stream",
     "text": [
      "Enter text to append in the file:Bye SRKR\n"
     ]
    }
   ],
   "source": [
    "'''Append the contents in entered by the user in the text file:'''\n",
    "text = input(\"Enter text to append in the file:\")\n",
    "with open(\"merge.txt\",\"a\") as f1:\n",
    "    f1.write(text)"
   ]
  },
  {
   "cell_type": "code",
   "execution_count": null,
   "id": "5215f622",
   "metadata": {},
   "outputs": [],
   "source": []
  }
 ],
 "metadata": {
  "kernelspec": {
   "display_name": "Python 3 (ipykernel)",
   "language": "python",
   "name": "python3"
  },
  "language_info": {
   "codemirror_mode": {
    "name": "ipython",
    "version": 3
   },
   "file_extension": ".py",
   "mimetype": "text/x-python",
   "name": "python",
   "nbconvert_exporter": "python",
   "pygments_lexer": "ipython3",
   "version": "3.9.7"
  }
 },
 "nbformat": 4,
 "nbformat_minor": 5
}
