{
 "cells": [
  {
   "cell_type": "code",
   "execution_count": 60,
   "id": "f06e0179",
   "metadata": {},
   "outputs": [
    {
     "name": "stdout",
     "output_type": "stream",
     "text": [
      "False\n",
      "True\n",
      "True\n"
     ]
    }
   ],
   "source": [
    "#isupper() method returns True if all the characters are in upper case, otherwise False.\n",
    "a = \"Hello World!\"\n",
    "b = \"1/4 AIML\"\n",
    "c = \"MY NAME IS PAVAN\"\n",
    "print(a.isupper())\n",
    "print(b.isupper()) #Numbers, symbols and spaces are not checked, only alphabet characters.\n",
    "print(c.isupper())\n"
   ]
  },
  {
   "cell_type": "code",
   "execution_count": 70,
   "id": "3385d985",
   "metadata": {},
   "outputs": [
    {
     "name": "stdout",
     "output_type": "stream",
     "text": [
      "p#a#v#a#n\n",
      "pavan kumar varma\n"
     ]
    }
   ],
   "source": [
    "#join(): The join() method takes all items in an iterable and joins them into one string.\n",
    "str1=\"pavan\"\n",
    "str2=[\"pavan\",\"kumar\",\"varma\"]\n",
    "print(\"#\".join(str1))\n",
    "print(\" \".join(str2))\n"
   ]
  },
  {
   "cell_type": "code",
   "execution_count": 75,
   "id": "4016d5e4",
   "metadata": {},
   "outputs": [
    {
     "name": "stdout",
     "output_type": "stream",
     "text": [
      "pavan     \n",
      "srkr******\n"
     ]
    }
   ],
   "source": [
    "#ljust():• The ljust() method will left align the string, using a specified character \n",
    "#(space is default) as the fill character\n",
    "str1=\"pavan\"\n",
    "str2=\"srkr\"\n",
    "print(str1.ljust(10))\n",
    "print(str2.ljust(10,'*'))"
   ]
  },
  {
   "cell_type": "code",
   "execution_count": 76,
   "id": "76efe0aa",
   "metadata": {},
   "outputs": [
    {
     "name": "stdout",
     "output_type": "stream",
     "text": [
      "pavan\n",
      "hello srkr\n",
      "hello aiml\n"
     ]
    }
   ],
   "source": [
    "#lower(): The lower() method returns a string where all characters are lower case.\n",
    "str1=\"Pavan\"\n",
    "str2=\"Hello SRKR\"\n",
    "str3=\"HELLO AIML\"\n",
    "print(str1.lower())\n",
    "print(str2.lower())\n",
    "print(str3.lower())"
   ]
  },
  {
   "cell_type": "code",
   "execution_count": 10,
   "id": "dd4b516a",
   "metadata": {},
   "outputs": [
    {
     "data": {
      "text/plain": [
       "'Python is a trending programming language'"
      ]
     },
     "execution_count": 10,
     "metadata": {},
     "output_type": "execute_result"
    }
   ],
   "source": [
    "# capitalize (): Converts the first character to upper case\n",
    "str=\"python is a trending programming language\"\n",
    "str.capitalize()"
   ]
  },
  {
   "cell_type": "code",
   "execution_count": 11,
   "id": "0eb97e10",
   "metadata": {},
   "outputs": [
    {
     "data": {
      "text/plain": [
       "'hello pavan how are you'"
      ]
     },
     "execution_count": 11,
     "metadata": {},
     "output_type": "execute_result"
    }
   ],
   "source": [
    "#casefold (): Converts string into lower case\n",
    "str=\"Hello Pavan HOW ARE YOU\"\n",
    "str.casefold()\n"
   ]
  },
  {
   "cell_type": "code",
   "execution_count": 14,
   "id": "effa8810",
   "metadata": {},
   "outputs": [
    {
     "data": {
      "text/plain": [
       "'##pavan###'"
      ]
     },
     "execution_count": 14,
     "metadata": {},
     "output_type": "execute_result"
    }
   ],
   "source": [
    "#center (): The center() method will center align the string, using a specified character \n",
    "#(space is default) as the fill character.\n",
    "str=\"pavan\"\n",
    "str.center(10,'#')"
   ]
  },
  {
   "cell_type": "code",
   "execution_count": 15,
   "id": "d65c2d1f",
   "metadata": {},
   "outputs": [
    {
     "data": {
      "text/plain": [
       "'                                                          Engineering                                                           '"
      ]
     },
     "execution_count": 15,
     "metadata": {},
     "output_type": "execute_result"
    }
   ],
   "source": [
    "#Print the word \"Engineering\", taking up the space of 128 characters, with\" Engineering \" in the middle:\n",
    "str=\"Engineering\"\n",
    "str.center(128)"
   ]
  },
  {
   "cell_type": "code",
   "execution_count": 16,
   "id": "4e150372",
   "metadata": {},
   "outputs": [
    {
     "data": {
      "text/plain": [
       "2"
      ]
     },
     "execution_count": 16,
     "metadata": {},
     "output_type": "execute_result"
    }
   ],
   "source": [
    "#count ():The count() method returns the number of times a specified value appears in the string.\n",
    "str = \"pavan\"\n",
    "str.count('a')\n"
   ]
  },
  {
   "cell_type": "code",
   "execution_count": 18,
   "id": "8ea66cbb",
   "metadata": {},
   "outputs": [
    {
     "data": {
      "text/plain": [
       "1"
      ]
     },
     "execution_count": 18,
     "metadata": {},
     "output_type": "execute_result"
    }
   ],
   "source": [
    "#Return the number of times the value \"is\" appears in the string\n",
    "#Search from position 10 to 24:\n",
    "str1='my favourite subject is programming, python is a programming language'\n",
    "str1.count('is',10,24)\n"
   ]
  },
  {
   "cell_type": "code",
   "execution_count": 21,
   "id": "2d9e8332",
   "metadata": {},
   "outputs": [
    {
     "data": {
      "text/plain": [
       "b'Hol\\xc3\\xa5 srkr engineering college'"
      ]
     },
     "execution_count": 21,
     "metadata": {},
     "output_type": "execute_result"
    }
   ],
   "source": [
    "#The encode() method encodes the string, using the specified encoding. \n",
    "#If no encoding is specified, UTF-8 will be used.\n",
    "str1 = \"Holå srkr engineering college\"\n",
    "str1.encode()"
   ]
  },
  {
   "cell_type": "code",
   "execution_count": 23,
   "id": "2b767d72",
   "metadata": {},
   "outputs": [
    {
     "data": {
      "text/plain": [
       "False"
      ]
     },
     "execution_count": 23,
     "metadata": {},
     "output_type": "execute_result"
    }
   ],
   "source": [
    "#endswith():The endswith() method returns True if the string ends with the specified value,\n",
    "str1=\"pavan\"\n",
    "str2=\"Hello SRKR\"\n",
    "str1.endswith('n') #ReturnsTrue\n",
    "str2.endswith('cse') #ReturnsFalse \n"
   ]
  },
  {
   "cell_type": "code",
   "execution_count": 31,
   "id": "906235b9",
   "metadata": {},
   "outputs": [
    {
     "name": "stdout",
     "output_type": "stream",
     "text": [
      "p a v a n\n"
     ]
    },
    {
     "data": {
      "text/plain": [
       "'Hello          SRKR'"
      ]
     },
     "execution_count": 31,
     "metadata": {},
     "output_type": "execute_result"
    }
   ],
   "source": [
    "#expandtabs(): The expandtabs() method sets the tab size to the specified number of whitespaces.\n",
    "str1=\"p\\ta\\tv\\ta\\tn\"\n",
    "print(str1.expandtabs(2))\n",
    "str2=\"Hello\\tSRKR\"\n",
    "str2.expandtabs(15)"
   ]
  },
  {
   "cell_type": "code",
   "execution_count": 33,
   "id": "f825659f",
   "metadata": {},
   "outputs": [
    {
     "name": "stdout",
     "output_type": "stream",
     "text": [
      "2\n",
      "-1\n"
     ]
    }
   ],
   "source": [
    "#find(): The find() method finds the first occurrence of the specified value.\n",
    "str1=\"pavan\"\n",
    "str2=\"Hello SRKR\"\n",
    "print(str1.find('v'))\n",
    "print(str2.find('cse')) #The find() method returns -1 if the value is not found."
   ]
  },
  {
   "cell_type": "code",
   "execution_count": 35,
   "id": "c24cb288",
   "metadata": {},
   "outputs": [
    {
     "name": "stdout",
     "output_type": "stream",
     "text": [
      "2\n"
     ]
    },
    {
     "ename": "ValueError",
     "evalue": "substring not found",
     "output_type": "error",
     "traceback": [
      "\u001b[1;31m---------------------------------------------------------------------------\u001b[0m",
      "\u001b[1;31mValueError\u001b[0m                                Traceback (most recent call last)",
      "\u001b[1;32m~\\AppData\\Local\\Temp/ipykernel_18012/4229950693.py\u001b[0m in \u001b[0;36m<module>\u001b[1;34m\u001b[0m\n\u001b[0;32m      3\u001b[0m \u001b[0mstr2\u001b[0m\u001b[1;33m=\u001b[0m\u001b[1;34m\"Hello SRKR\"\u001b[0m\u001b[1;33m\u001b[0m\u001b[1;33m\u001b[0m\u001b[0m\n\u001b[0;32m      4\u001b[0m \u001b[0mprint\u001b[0m\u001b[1;33m(\u001b[0m\u001b[0mstr1\u001b[0m\u001b[1;33m.\u001b[0m\u001b[0mindex\u001b[0m\u001b[1;33m(\u001b[0m\u001b[1;34m'v'\u001b[0m\u001b[1;33m)\u001b[0m\u001b[1;33m)\u001b[0m\u001b[1;33m\u001b[0m\u001b[1;33m\u001b[0m\u001b[0m\n\u001b[1;32m----> 5\u001b[1;33m \u001b[0mprint\u001b[0m\u001b[1;33m(\u001b[0m\u001b[0mstr2\u001b[0m\u001b[1;33m.\u001b[0m\u001b[0mindex\u001b[0m\u001b[1;33m(\u001b[0m\u001b[1;34m'cse'\u001b[0m\u001b[1;33m)\u001b[0m\u001b[1;33m)\u001b[0m \u001b[1;31m#The find() method returns -1 if the value is not found.\u001b[0m\u001b[1;33m\u001b[0m\u001b[1;33m\u001b[0m\u001b[0m\n\u001b[0m",
      "\u001b[1;31mValueError\u001b[0m: substring not found"
     ]
    }
   ],
   "source": [
    "#index() The index() method finds the first occurrence of the specified value\n",
    "str1=\"pavan\"\n",
    "str2=\"Hello SRKR\"\n",
    "print(str1.index('v'))\n",
    "print(str2.index('cse')) #The index() method raises an exception if the value is not found"
   ]
  },
  {
   "cell_type": "code",
   "execution_count": 36,
   "id": "bcd1565c",
   "metadata": {},
   "outputs": [
    {
     "name": "stdout",
     "output_type": "stream",
     "text": [
      "True\n",
      "False\n"
     ]
    }
   ],
   "source": [
    "#isalnum(): The isalnum() method returns True if all the characters are alphanumeric, \n",
    "#meaning alphabet letter (a-z) and numbers (0-9).\n",
    "str1=\"pavan1230\"\n",
    "str2=\"pavan_1230\"\n",
    "print(str1.isalnum())\n",
    "print(str2.isalnum()) #Returns False because it contains special character _"
   ]
  },
  {
   "cell_type": "code",
   "execution_count": 37,
   "id": "2856567b",
   "metadata": {},
   "outputs": [
    {
     "name": "stdout",
     "output_type": "stream",
     "text": [
      "True\n",
      "False\n"
     ]
    }
   ],
   "source": [
    "#isalpha(): The isalpha() method returns True if all the characters are alphabet letters (a-z).\n",
    "str1=\"pavan\"\n",
    "str2=\"pavan1230\"\n",
    "print(str1.isalpha())\n",
    "print(str2.isalpha()) #Returns False because it contains numbers"
   ]
  },
  {
   "cell_type": "code",
   "execution_count": 41,
   "id": "53a9c141",
   "metadata": {},
   "outputs": [
    {
     "name": "stdout",
     "output_type": "stream",
     "text": [
      "True\n",
      "False\n"
     ]
    }
   ],
   "source": [
    "#isdecimal(): The isdecimal() method returns True if all the characters are decimals (0-9).\n",
    "#This method is used on unicode objects.\n",
    "str1=\"9959123456\"\n",
    "str2=\"\\u0003\"\n",
    "print(str1.isdecimal())\n",
    "print(str2.isdecimal())"
   ]
  },
  {
   "cell_type": "code",
   "execution_count": 43,
   "id": "e7c2dc7f",
   "metadata": {},
   "outputs": [
    {
     "name": "stdout",
     "output_type": "stream",
     "text": [
      "True\n",
      "False\n"
     ]
    }
   ],
   "source": [
    "#isdigit(): The isdigit() method returns True if all the characters are digits, otherwise False.\n",
    "str1=\"9959123456\"\n",
    "str2=\"99a99586\"\n",
    "print(str1.isdigit())\n",
    "print(str2.isdigit()) #Returns False because it contains character"
   ]
  },
  {
   "cell_type": "code",
   "execution_count": 46,
   "id": "82c7bc1d",
   "metadata": {},
   "outputs": [
    {
     "name": "stdout",
     "output_type": "stream",
     "text": [
      "True\n",
      "False\n",
      "True\n"
     ]
    }
   ],
   "source": [
    "#isidentifier():The isidentifier() method returns True if the string is a valid identifier, otherwise False\n",
    "str1=\"srkr\"\n",
    "str2=\"9srkr\"\n",
    "str3=\"_SRKR\"\n",
    "print(str1.isidentifier())\n",
    "print(str2.isidentifier()) #Returns False because it starts with Num\n",
    "print(str3.isidentifier())"
   ]
  },
  {
   "cell_type": "code",
   "execution_count": 47,
   "id": "6fcdd21e",
   "metadata": {},
   "outputs": [
    {
     "name": "stdout",
     "output_type": "stream",
     "text": [
      "True\n",
      "False\n"
     ]
    }
   ],
   "source": [
    "#islower():The islower() method returns True if all the characters are in lower case, otherwise False.\n",
    "str1=\"srkr\"\n",
    "str2=\"Srkr\"\n",
    "print(str1.islower())\n",
    "print(str2.islower()) #Returns False because S is upper case"
   ]
  },
  {
   "cell_type": "code",
   "execution_count": 48,
   "id": "114928a5",
   "metadata": {},
   "outputs": [
    {
     "name": "stdout",
     "output_type": "stream",
     "text": [
      "True\n",
      "False\n"
     ]
    }
   ],
   "source": [
    "#isnumeric(): The isnumeric() method returns True if all the characters are numeric (0-9), otherwise False.\n",
    "str1=\"9959123456\"\n",
    "str2=\"99a99586\"\n",
    "print(str1.isnumeric())\n",
    "print(str2.isnumeric()) #Returns False because it contains character"
   ]
  },
  {
   "cell_type": "code",
   "execution_count": 51,
   "id": "224b5d50",
   "metadata": {},
   "outputs": [
    {
     "name": "stdout",
     "output_type": "stream",
     "text": [
      "True\n",
      "True\n"
     ]
    }
   ],
   "source": [
    "#isprintable(): The isprintable() method returns True if all the characters are printable, otherwise False.\n",
    "str1=\"Hello SRKR !\"\n",
    "str2=\"Hello!\\nAre you #1?\"\n",
    "print(str1.isprintable())\n",
    "print(str1.isprintable())"
   ]
  },
  {
   "cell_type": "code",
   "execution_count": 53,
   "id": "64b9f34f",
   "metadata": {},
   "outputs": [
    {
     "name": "stdout",
     "output_type": "stream",
     "text": [
      "True\n",
      "False\n"
     ]
    }
   ],
   "source": [
    "#isspace(): The isspace() method returns True if all the characters in a string are whitespaces, otherwise False.\n",
    "str1=\"       \"\n",
    "str2=\"       p      \"\n",
    "print(str1.isspace())\n",
    "print(str2.isspace()) #Returns False because it containts char\n"
   ]
  },
  {
   "cell_type": "code",
   "execution_count": 58,
   "id": "560e5bcd",
   "metadata": {},
   "outputs": [
    {
     "name": "stdout",
     "output_type": "stream",
     "text": [
      "False\n",
      "False\n",
      "True\n",
      "False\n"
     ]
    }
   ],
   "source": [
    "# istitle(): The istitle() method returns True if all words in a text start with a upper case letter, \n",
    "#AND the rest of the word are lower case letters, otherwise False.\n",
    "a = \"HELLO AND WELCOME TO PYTHON\"\n",
    "b = \"HeLlo\"\n",
    "c = \"Pavan\"\n",
    "d = \"This Is AIML PYTHON\"\n",
    "print(a.istitle())\n",
    "print(b.istitle())\n",
    "print(c.istitle())\n",
    "print(d.istitle())"
   ]
  },
  {
   "cell_type": "code",
   "execution_count": 77,
   "id": "599b28f8",
   "metadata": {},
   "outputs": [
    {
     "data": {
      "text/plain": [
       "'seven seven was a race horse, two two was seven too.'"
      ]
     },
     "execution_count": 77,
     "metadata": {},
     "output_type": "execute_result"
    }
   ],
   "source": [
    "# replace(): The replace() method replaces a specified phrase with another specified phrase.\n",
    "str1= \"Hello SRKR\"\n",
    "str2 = \"one one was a race horse, two two was one too.\"\n",
    "print(str1.replace('SRKR','AIML'))\n",
    "print(str2.replace('one','seven'))"
   ]
  },
  {
   "cell_type": "code",
   "execution_count": 80,
   "id": "9071db67",
   "metadata": {},
   "outputs": [
    {
     "name": "stdout",
     "output_type": "stream",
     "text": [
      "['Welcome', 'to', 'SRKR', 'Engineering', 'College']\n",
      "['p', 'v', 'n']\n"
     ]
    }
   ],
   "source": [
    "#split(): The split() method splits a string into a list.\n",
    "str1 = \"Welcome to SRKR Engineering College\"\n",
    "str2=\"pavan\"\n",
    "print(str1.split())\n",
    "print(str2.split('a'))"
   ]
  },
  {
   "cell_type": "code",
   "execution_count": 83,
   "id": "3861ebaf",
   "metadata": {},
   "outputs": [
    {
     "name": "stdout",
     "output_type": "stream",
     "text": [
      "True\n",
      "False\n",
      "False\n"
     ]
    }
   ],
   "source": [
    "#startswith():• The startswith() method returns True if the string starts with the specified value, otherwise False.\n",
    "str1 = \"Welcome to SRKR Engineering College\"\n",
    "str2=\"pavan\"\n",
    "print(str1.startswith(\"Welcome\"))\n",
    "print(str2.startswith(\"q\"))\n",
    "print(str1.startswith(\"to\",8,20)) #string.startswith(value, start, end)\n"
   ]
  },
  {
   "cell_type": "code",
   "execution_count": 90,
   "id": "81d6e11e",
   "metadata": {},
   "outputs": [
    {
     "name": "stdout",
     "output_type": "stream",
     "text": [
      "PAVAN\n",
      "AIML\n",
      "SR#KR\n"
     ]
    }
   ],
   "source": [
    "#strip(): The strip() method removes any leading (spaces at the beginning) and \n",
    "#trailing (spaces at the end) characters (space is the default leading character to remove)\n",
    "str1=\"    PAVAN    \"\n",
    "str2=\"####AIML####\"\n",
    "str3= \"*#@  SRKR @#*\"\n",
    "print(str1.strip())\n",
    "print(str2.strip('#.'))\n",
    "print(str3.strip('#@* '))"
   ]
  },
  {
   "cell_type": "code",
   "execution_count": 92,
   "id": "ded02055",
   "metadata": {},
   "outputs": [
    {
     "name": "stdout",
     "output_type": "stream",
     "text": [
      "wELCOME TO srkr eNGINEERING cOLLEGE\n",
      "PAVAN\n"
     ]
    }
   ],
   "source": [
    "#swapcase(): The swapcase() method returns a string where all the upper case letters are lower case and vice versa\n",
    "str1 = \"Welcome to SRKR Engineering College\"\n",
    "str2=\"pavan\"\n",
    "print(str1.swapcase())\n",
    "print(str2.swapcase())"
   ]
  },
  {
   "cell_type": "code",
   "execution_count": 93,
   "id": "7405e577",
   "metadata": {},
   "outputs": [
    {
     "name": "stdout",
     "output_type": "stream",
     "text": [
      "Welcome To Srkr Engineering College\n",
      "Pavan\n"
     ]
    }
   ],
   "source": [
    "#title() :• The title() method returns a string where the first character in every word is upper case. \n",
    "#Like a header, or a title.\n",
    "str1 = \"Welcome to SRKR Engineering College\"\n",
    "str2=\"pavan\"\n",
    "print(str1.title())\n",
    "print(str2.title())"
   ]
  },
  {
   "cell_type": "code",
   "execution_count": 94,
   "id": "37464ace",
   "metadata": {},
   "outputs": [
    {
     "name": "stdout",
     "output_type": "stream",
     "text": [
      "WELCOME TO SRKR ENGINEERING COLLEGE\n",
      "PAVAN\n"
     ]
    }
   ],
   "source": [
    "#upper():The upper() method returns a string where all characters are in upper case.\n",
    "str1 = \"Welcome to SRKR Engineering College\"\n",
    "str2=\"pavan\"\n",
    "print(str1.upper())\n",
    "print(str2.upper())"
   ]
  },
  {
   "cell_type": "code",
   "execution_count": 101,
   "id": "f773983c",
   "metadata": {},
   "outputs": [
    {
     "name": "stdout",
     "output_type": "stream",
     "text": [
      "34\n",
      "3\n",
      "8\n",
      "-1\n"
     ]
    }
   ],
   "source": [
    "#rfind(): The rfind() method finds the last occurrence of the specified value\n",
    "str1 = \"Welcome to SRKR Engineering College\"\n",
    "str2=\"pavan\"\n",
    "str3 = \"Hello, welcome to PYTHON world.\"\n",
    "str4=\"AIML\"\n",
    "len(str1)\n",
    "print(str1.rfind('e'))\n",
    "print(str2.rfind('a'))\n",
    "print(str3.rfind(\"e\", 5, 10))\n",
    "print(str4.rfind('Z'))"
   ]
  },
  {
   "cell_type": "code",
   "execution_count": 103,
   "id": "ece09c91",
   "metadata": {},
   "outputs": [
    {
     "name": "stdout",
     "output_type": "stream",
     "text": [
      "34\n",
      "3\n",
      "8\n"
     ]
    },
    {
     "ename": "ValueError",
     "evalue": "substring not found",
     "output_type": "error",
     "traceback": [
      "\u001b[1;31m---------------------------------------------------------------------------\u001b[0m",
      "\u001b[1;31mValueError\u001b[0m                                Traceback (most recent call last)",
      "\u001b[1;32m~\\AppData\\Local\\Temp/ipykernel_18012/2893793880.py\u001b[0m in \u001b[0;36m<module>\u001b[1;34m\u001b[0m\n\u001b[0;32m      8\u001b[0m \u001b[0mprint\u001b[0m\u001b[1;33m(\u001b[0m\u001b[0mstr2\u001b[0m\u001b[1;33m.\u001b[0m\u001b[0mrindex\u001b[0m\u001b[1;33m(\u001b[0m\u001b[1;34m'a'\u001b[0m\u001b[1;33m)\u001b[0m\u001b[1;33m)\u001b[0m\u001b[1;33m\u001b[0m\u001b[1;33m\u001b[0m\u001b[0m\n\u001b[0;32m      9\u001b[0m \u001b[0mprint\u001b[0m\u001b[1;33m(\u001b[0m\u001b[0mstr3\u001b[0m\u001b[1;33m.\u001b[0m\u001b[0mrindex\u001b[0m\u001b[1;33m(\u001b[0m\u001b[1;34m\"e\"\u001b[0m\u001b[1;33m,\u001b[0m \u001b[1;36m5\u001b[0m\u001b[1;33m,\u001b[0m \u001b[1;36m10\u001b[0m\u001b[1;33m)\u001b[0m\u001b[1;33m)\u001b[0m\u001b[1;33m\u001b[0m\u001b[1;33m\u001b[0m\u001b[0m\n\u001b[1;32m---> 10\u001b[1;33m \u001b[0mprint\u001b[0m\u001b[1;33m(\u001b[0m\u001b[0mstr4\u001b[0m\u001b[1;33m.\u001b[0m\u001b[0mrindex\u001b[0m\u001b[1;33m(\u001b[0m\u001b[1;34m'Z'\u001b[0m\u001b[1;33m)\u001b[0m\u001b[1;33m)\u001b[0m \u001b[1;31m#The rindex() method raises an exception if the value is not found\u001b[0m\u001b[1;33m\u001b[0m\u001b[1;33m\u001b[0m\u001b[0m\n\u001b[0m",
      "\u001b[1;31mValueError\u001b[0m: substring not found"
     ]
    }
   ],
   "source": [
    "#rindex(): The rindex() method finds the last occurrence of the specified value.\n",
    "str1 = \"Welcome to SRKR Engineering College\"\n",
    "str2=\"pavan\"\n",
    "str3 = \"Hello, welcome to PYTHON world.\"\n",
    "str4=\"AIML\"\n",
    "len(str1)\n",
    "print(str1.rindex('e'))\n",
    "print(str2.rindex('a'))\n",
    "print(str3.rindex(\"e\", 5, 10))\n",
    "print(str4.rindex('Z')) #The rindex() method raises an exception if the value is not found"
   ]
  },
  {
   "cell_type": "code",
   "execution_count": 109,
   "id": "e2a0d49f",
   "metadata": {},
   "outputs": [
    {
     "name": "stdout",
     "output_type": "stream",
     "text": [
      "#####pavan\n",
      "                   Hello, welcome to PYTHON world.\n",
      "******AIML\n"
     ]
    }
   ],
   "source": [
    "# rjust(): The rjust() method will right align the string, \n",
    "# using a specified character (space is default) as the fill character.\n",
    "str1=\"pavan\"\n",
    "str3 = \"Hello, welcome to PYTHON world.\"\n",
    "str2=\"AIML\"\n",
    "print(str1.rjust(10,'#'))\n",
    "print(str3.rjust(50))\n",
    "print(str2.rjust(10,'*'))\n",
    "\n"
   ]
  },
  {
   "cell_type": "code",
   "execution_count": 3,
   "id": "e766951a",
   "metadata": {},
   "outputs": [
    {
     "name": "stdout",
     "output_type": "stream",
     "text": [
      "['pavan', 'srkr', 'cse']\n",
      "['hello', 'AILML']\n"
     ]
    }
   ],
   "source": [
    "#rsplit():The rsplit() method splits a string into a list, starting from the right.\n",
    "str1=\"pavan,srkr,cse\"\n",
    "str2=\"hello AILML\"\n",
    "print(str1.rsplit(','))\n",
    "print(str2.rsplit())"
   ]
  },
  {
   "cell_type": "code",
   "execution_count": 8,
   "id": "ae7025cc",
   "metadata": {},
   "outputs": [
    {
     "name": "stdout",
     "output_type": "stream",
     "text": [
      "     pavan\n",
      "AIM\n"
     ]
    }
   ],
   "source": [
    "#rstrip():The rstrip() method removes any trailing characters (characters at the end a string), \n",
    "#space is the default trailing character to remove.\n",
    "str1=\"     pavan     \"\n",
    "str2=\"AIMLL\"\n",
    "print(str1.rstrip())\n",
    "print(str2.rstrip('L'))"
   ]
  },
  {
   "cell_type": "code",
   "execution_count": 10,
   "id": "2a106a75",
   "metadata": {},
   "outputs": [
    {
     "name": "stdout",
     "output_type": "stream",
     "text": [
      "['Hello Pavan Welcome to Aiml', 'How are you']\n",
      "['Hello ', ' Pavan']\n"
     ]
    }
   ],
   "source": [
    "#splitlines() The splitlines() method splits a string into a list. \n",
    "#The splitting is done at line breaks.\n",
    "str1=\"\"\"Hello Pavan Welcome to Aiml\n",
    "How are you\"\"\"\n",
    "str2=\"Hello \\n Pavan\"\n",
    "print(str1.splitlines())\n",
    "print(str2.splitlines())\n"
   ]
  },
  {
   "cell_type": "code",
   "execution_count": 12,
   "id": "6f45846f",
   "metadata": {},
   "outputs": [
    {
     "name": "stdout",
     "output_type": "stream",
     "text": [
      "Hello Bavan\n"
     ]
    }
   ],
   "source": [
    "#translate(): The translate() method returns a string where some \n",
    "#specified characters are replaced with the character\n",
    "str1=\"Hello Pavan\"\n",
    "str2=str1.maketrans('P',\"B\") #Use the maketrans() method to create a mapping table\n",
    "print(str1.translate(str2))"
   ]
  },
  {
   "cell_type": "code",
   "execution_count": 13,
   "id": "b03d4ff7",
   "metadata": {},
   "outputs": [
    {
     "name": "stdout",
     "output_type": "stream",
     "text": [
      "00000pavan\n"
     ]
    }
   ],
   "source": [
    "#zfill(): The zfill() method adds zeros (0) at the beginning of the string, \n",
    "#until it reaches the specified length.\n",
    "str1=\"pavan\"\n",
    "print(str1.zfill(10))"
   ]
  },
  {
   "cell_type": "code",
   "execution_count": null,
   "id": "a2df88a6",
   "metadata": {},
   "outputs": [],
   "source": []
  }
 ],
 "metadata": {
  "kernelspec": {
   "display_name": "Python 3 (ipykernel)",
   "language": "python",
   "name": "python3"
  },
  "language_info": {
   "codemirror_mode": {
    "name": "ipython",
    "version": 3
   },
   "file_extension": ".py",
   "mimetype": "text/x-python",
   "name": "python",
   "nbconvert_exporter": "python",
   "pygments_lexer": "ipython3",
   "version": "3.9.7"
  }
 },
 "nbformat": 4,
 "nbformat_minor": 5
}
