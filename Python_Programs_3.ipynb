{
 "cells": [
  {
   "cell_type": "code",
   "execution_count": 5,
   "id": "fbb1b2ef",
   "metadata": {},
   "outputs": [
    {
     "name": "stdout",
     "output_type": "stream",
     "text": [
      "Enter Username:pavan\n",
      "Enter Password:srkr@12\n",
      "Wrong Credentials\n",
      "Try Again\n",
      "Enter Username:pavan\n",
      "Enter Password:srkr@123\n",
      "Login Succesfull\n"
     ]
    }
   ],
   "source": [
    "'''Using While loop Write a Script to accept Username and Password for Login \n",
    "(Condition : if the username and password matches Login should be Successful else should ask until\n",
    "matches'''\n",
    "\n",
    "username = input(\"Enter Username:\")\n",
    "password = input(\"Enter Password:\")\n",
    "uname=\"pavan\"\n",
    "pwd=\"srkr@123\"\n",
    "while True:\n",
    "    if username==uname and password==pwd:\n",
    "        print(\"Login Succesfull\")\n",
    "        break\n",
    "    else:\n",
    "        print(\"Wrong Credentials\")\n",
    "        print(\"Try Again\")\n",
    "        username = input(\"Enter Username:\")\n",
    "        password = input(\"Enter Password:\")\n",
    "        "
   ]
  },
  {
   "cell_type": "code",
   "execution_count": 6,
   "id": "29601847",
   "metadata": {},
   "outputs": [
    {
     "name": "stdout",
     "output_type": "stream",
     "text": [
      "Enter the string:pavan\n",
      "The Word pavan contains 2 Vowels\n"
     ]
    }
   ],
   "source": [
    "# Write a script accept a string and count total no of vowels in a given string\n",
    "word = input(\"Enter the string:\")\n",
    "count=0\n",
    "for i in word:\n",
    "    if i in \"aeiouAEIOU\":\n",
    "        count=count+1\n",
    "print(f\"The Word {word} contains {count} Vowels\")\n",
    "    "
   ]
  },
  {
   "cell_type": "code",
   "execution_count": 12,
   "id": "1d83b2c4",
   "metadata": {},
   "outputs": [
    {
     "name": "stdout",
     "output_type": "stream",
     "text": [
      "Enter the string:Pavan Varma Kothapalli\n",
      "The number of A's in Pavan Varma Kothapalli are 6\n",
      "The number of E's in Pavan Varma Kothapalli are 0\n",
      "The number of I's in Pavan Varma Kothapalli are 1\n",
      "The number of O's in Pavan Varma Kothapalli are 1\n",
      "The number of U's in Pavan Varma Kothapalli are 0\n"
     ]
    }
   ],
   "source": [
    "#Write a script accept a string and count total no of each vowel separately in a given string\n",
    "word = input(\"Enter the string:\")\n",
    "a=0\n",
    "e=0\n",
    "I=0\n",
    "o=0\n",
    "u=0\n",
    "for i in word:\n",
    "    if i in \"aA\":\n",
    "        a+=1\n",
    "    elif i in \"eE\":\n",
    "        e+=1\n",
    "    elif i in \"iI\":\n",
    "        I+=1\n",
    "    elif i in \"oO\":\n",
    "        o+=1\n",
    "    elif i in \"uU\":\n",
    "        u+=1\n",
    "    else:\n",
    "        pass\n",
    "print(f\"The number of A's in {word} are {a}\")\n",
    "print(f\"The number of E's in {word} are {e}\")\n",
    "print(f\"The number of I's in {word} are {I}\")\n",
    "print(f\"The number of O's in {word} are {o}\")\n",
    "print(f\"The number of U's in {word} are {u}\")\n"
   ]
  },
  {
   "cell_type": "code",
   "execution_count": 13,
   "id": "e9c3e615",
   "metadata": {},
   "outputs": [
    {
     "name": "stdout",
     "output_type": "stream",
     "text": [
      "Enter the string:Pavan is from CSE \n",
      "The Length of the Word Pavan is from CSE  is 18\n"
     ]
    }
   ],
   "source": [
    "#Write a script accept a string and find length of the string without using len() function\n",
    "word = input(\"Enter the string:\")\n",
    "count=0\n",
    "for i in word:\n",
    "    count=count+1\n",
    "print(f\"The Length of the Word {word} is {count}\")\n"
   ]
  },
  {
   "cell_type": "code",
   "execution_count": 14,
   "id": "82e57dec",
   "metadata": {},
   "outputs": [
    {
     "name": "stdout",
     "output_type": "stream",
     "text": [
      "Enter the string:pavan\n",
      "Enter the Character to be searched:a\n",
      "The number of occurences of a in pavan is 2\n"
     ]
    }
   ],
   "source": [
    "'''Write a script accept a string and character and count how many times the given character \n",
    "occurred in the given string'''\n",
    "word = input(\"Enter the string:\")\n",
    "ch = input(\"Enter the Character to be searched:\")\n",
    "count=0\n",
    "for i in word:\n",
    "    if i == ch:\n",
    "        count=count+1\n",
    "print(f\"The number of occurences of {ch} in {word} is {count}\")\n"
   ]
  },
  {
   "cell_type": "code",
   "execution_count": 17,
   "id": "61765674",
   "metadata": {},
   "outputs": [
    {
     "name": "stdout",
     "output_type": "stream",
     "text": [
      "Enter the string : srkr engineering college\n",
      "Vowels:  8\n",
      "Consonants:  14\n",
      "Digits:  0\n",
      "White spaces:  2\n",
      "Symbols :  0\n"
     ]
    }
   ],
   "source": [
    "\"\"\"Write a script accept a string and count total no. of digits, total no. of vowels, \n",
    "total no. of consonants and total no of special characters and no of white spaces and display\"\"\"\n",
    "str = input(\"Enter the string : \")\n",
    "vowels = 0\n",
    "digits = 0\n",
    "consonants = 0\n",
    "spaces = 0\n",
    "symbols = 0\n",
    "str = str.lower()\n",
    "for i in range(0, len(str)):\n",
    "    if(str[i] == 'a' or str[i] == 'e' or str[i] == 'i' or str[i] == 'o' or str[i] == 'u'):\n",
    "        vowels = vowels + 1\n",
    "    elif((str[i] >= 'a' and str[i] <= 'z')):\n",
    "        consonants = consonants + 1\n",
    "    elif( str[i] >= '0' and str[i] <= '9'):\n",
    "        digits = digits + 1\n",
    "    elif (str[i] ==' '):\n",
    "        spaces = spaces + 1\n",
    "    else:\n",
    "        symbols = symbols + 1\n",
    "print(\"Vowels: \", vowels);\n",
    "print(\"Consonants: \", consonants);\n",
    "print(\"Digits: \", digits);\n",
    "print(\"White spaces: \", spaces);\n",
    "print(\"Symbols : \", symbols);"
   ]
  },
  {
   "cell_type": "code",
   "execution_count": 25,
   "id": "45540689",
   "metadata": {},
   "outputs": [
    {
     "name": "stdout",
     "output_type": "stream",
     "text": [
      "Enter the string:SRKR CSE\n",
      "ESC RKRS\n",
      "ESC RKRS\n"
     ]
    }
   ],
   "source": [
    "#Write a script to accept a string and reverse the string\n",
    "#Method 1\n",
    "str = input(\"Enter the string:\")\n",
    "for i in (str[::-1]):\n",
    "    print(i,end=\"\")\n",
    "print()\n",
    "#method 2\n",
    "print(str[::-1])"
   ]
  },
  {
   "cell_type": "code",
   "execution_count": 27,
   "id": "5bad314f",
   "metadata": {},
   "outputs": [
    {
     "name": "stdout",
     "output_type": "stream",
     "text": [
      "Enter the string:SRKR\n",
      "Enter the Character to be removed:R\n",
      "The new string is: SK\n"
     ]
    }
   ],
   "source": [
    "\"\"\"Write a script to accept a string and character and remove given character from a given string\n",
    "Eg : PAVAN\n",
    "    N\n",
    "    o/p => PAVA \"\"\"\n",
    "\n",
    "str = input(\"Enter the string:\")\n",
    "ch = input(\"Enter the Character to be removed:\")\n",
    "newstr = str.replace(ch,\"\")\n",
    "print(\"The new string is:\",newstr)\n"
   ]
  },
  {
   "cell_type": "code",
   "execution_count": 28,
   "id": "6a055fd1",
   "metadata": {},
   "outputs": [
    {
     "name": "stdout",
     "output_type": "stream",
     "text": [
      "enter x1 value=2\n",
      "enter x2 value=3\n",
      "enter y1 value=4\n",
      "enter y2 value=5\n",
      "Distance b/w two points: 1.4142135623730951\n"
     ]
    }
   ],
   "source": [
    "'''Write a program to compute distance between two points taking input from \n",
    "the user(Pythagorean Theorem) Formula : Square root of ((x2-x1)square + (y2-y1) square)'''\n",
    "import math\n",
    "x1=int(input(\"enter x1 value=\"))\n",
    "x2=int(input(\"enter x2 value=\"))\n",
    "y1=int(input(\"enter y1 value=\"))\n",
    "y2=int(input(\"enter y2 value=\"))\n",
    "D=math.sqrt(math.pow((x2-x1),2)+math.pow((y2-y1),2))\n",
    "print(\"Distance b/w two points:\",D)\n"
   ]
  },
  {
   "cell_type": "code",
   "execution_count": 29,
   "id": "fb3ac0cb",
   "metadata": {},
   "outputs": [
    {
     "name": "stdout",
     "output_type": "stream",
     "text": [
      "1/ 1 = 1.0\n",
      "1/ 2 = 0.5\n",
      "1/ 3 = 0.3333333333333333\n",
      "1/ 4 = 0.25\n",
      "1/ 5 = 0.2\n",
      "1/ 6 = 0.16666666666666666\n",
      "1/ 7 = 0.14285714285714285\n",
      "1/ 8 = 0.125\n",
      "1/ 9 = 0.1111111111111111\n",
      "1/ 10 = 0.1\n"
     ]
    }
   ],
   "source": [
    "'''Using a for loop, write a program that prints out the \n",
    "decimal  equivalents of 1/2, 1/3, 1/4, . . . , 1/10'''\n",
    "\n",
    "import math\n",
    "for i in range(1,11):\n",
    "    a=math.pow(i,-1)\n",
    "    print(\"1/\",i,'=',a)\n"
   ]
  },
  {
   "cell_type": "code",
   "execution_count": 36,
   "id": "8c9dedd4",
   "metadata": {},
   "outputs": [
    {
     "name": "stdout",
     "output_type": "stream",
     "text": [
      "Enter the number:100\n",
      "1\n",
      "2\n",
      "3\n",
      "5\n",
      "8\n",
      "13\n",
      "21\n",
      "34\n",
      "55\n",
      "89\n",
      "sum of even fibonacci numbers below 100 are 44\n"
     ]
    }
   ],
   "source": [
    "\"\"\"By considering the terms in the Fibonacci sequence upto n values, \n",
    "find the sum of the even-valued terms.\"\"\"\n",
    "sum=0\n",
    "b=1\n",
    "c=1\n",
    "num=int(input(\"Enter the number:\"))\n",
    "while c<=num:\n",
    "    a=b\n",
    "    b=c\n",
    "    print(c)\n",
    "    if c%2==0:\n",
    "        sum+=c\n",
    "    c=a+b\n",
    "print(f\"sum of even fibonacci numbers below {num} are {sum}\")"
   ]
  },
  {
   "cell_type": "code",
   "execution_count": 43,
   "id": "642316be",
   "metadata": {},
   "outputs": [
    {
     "name": "stdout",
     "output_type": "stream",
     "text": [
      "Enter a number:20\n",
      "2\n",
      "3\n",
      "5\n",
      "7\n",
      "11\n",
      "13\n",
      "17\n",
      "19\n",
      "sum of prime numbers of below 20 is 77\n"
     ]
    }
   ],
   "source": [
    "#Find the sum of all the primes below n number's\n",
    "num=int(input(\"Enter a number:\"))\n",
    "sum=0\n",
    "for i in range(2,num):\n",
    "    c=0\n",
    "    for j in range(2,i):\n",
    "        if i%j==0:\n",
    "            c+=1\n",
    "    if c==0:\n",
    "        print(i) #Prime numbers\n",
    "        sum+=i\n",
    "print(f\"sum of prime numbers of below {num} is {sum}\")"
   ]
  },
  {
   "cell_type": "code",
   "execution_count": 49,
   "id": "57b7b33e",
   "metadata": {},
   "outputs": [
    {
     "name": "stdout",
     "output_type": "stream",
     "text": [
      "enter a stringpavan\n",
      "the characters and their frequencies are = {'p': 1, 'a': 2, 'v': 1, 'n': 1}\n"
     ]
    }
   ],
   "source": [
    "\"\"\"Write a program to count the numbers of characters in the string  \n",
    "and store them in a dictionary data structure\"\"\"\n",
    "\n",
    "dictonary={}\n",
    "string=input('enter a string')\n",
    "x=len(string)\n",
    "for i in string:\n",
    "    dictonary[i]=string.count(i)\n",
    "print(\"the characters and their frequencies are =\",dictonary)"
   ]
  },
  {
   "cell_type": "code",
   "execution_count": 52,
   "id": "3cf8c40b",
   "metadata": {},
   "outputs": [
    {
     "name": "stdout",
     "output_type": "stream",
     "text": [
      "enter DOB in dd-mm-yyyy format04-07-1993\n",
      "['04', '07', '1993']\n",
      "04/07/1993\n",
      "04/07/1993 is found at pavan\n"
     ]
    }
   ],
   "source": [
    "\"\"\"Write a program to use split and join methods in the string and trace a birthday\n",
    "with a dictionary data structure\"\"\"\n",
    "\n",
    "DOB={'sai':'31/05/1992','pavan':'04/07/1993','siva':'13/01/1991','raghu':'01/08/1991'}\n",
    "string=input(\"enter DOB in dd-mm-yyyy format:\")\n",
    "st=string.split('-')\n",
    "print(st)\n",
    "s=\"/\".join(st)\n",
    "print(s)\n",
    "for i in DOB:\n",
    "    if DOB[i]==s:\n",
    "        print(s,\"is found at\",i)\n",
    "    else:\n",
    "        print(\"not found\")"
   ]
  },
  {
   "cell_type": "code",
   "execution_count": 54,
   "id": "39aa7c7f",
   "metadata": {},
   "outputs": [
    {
     "name": "stdout",
     "output_type": "stream",
     "text": [
      "enter the value:3\n",
      "Enter the Names:PAVAN\n",
      "Enter the Names:RAGHU\n",
      "Enter the Names:SIVA\n",
      "Enter the Salaries:50000\n",
      "Enter the Salaries:55000\n",
      "Enter the Salaries:89333\n",
      "Names List is : ['PAVAN', 'RAGHU', 'SIVA']\n",
      "Salary List is : [50000, 55000, 89333]\n",
      "The Dictionary Containing names and salaries is: {'PAVAN': 50000, 'RAGHU': 55000, 'SIVA': 89333}\n"
     ]
    }
   ],
   "source": [
    "#Write a program combine_lists that combines two lists with values names and salaries into a dictionary.\n",
    "L1=[]\n",
    "L2=[]\n",
    "Dictionary={}\n",
    "n=int(input('Enter the value:'))\n",
    "for i in range(n):\n",
    "    names=input('Enter the Names:')\n",
    "    L1.append(names)\n",
    "for i in range(n):\n",
    "    salaries=int(input('Enter the Salaries:'))\n",
    "    L2.append(salaries)\n",
    "print(\"Names List is :\",L1)\n",
    "print(\"Salary List is :\",L2)\n",
    "for i,j in zip(L1,L2):\n",
    "    Dictionary[i]=j\n",
    "print(\"The Dictionary Containing names and salaries is:\",Dictionary)"
   ]
  },
  {
   "cell_type": "code",
   "execution_count": 55,
   "id": "1389088e",
   "metadata": {},
   "outputs": [
    {
     "name": "stdout",
     "output_type": "stream",
     "text": [
      "{'Ten': 10, 'Twenty': 20, 'Thirty': 30, 'Fourty': 40, 'Fifty': 50}\n"
     ]
    }
   ],
   "source": [
    "#Write a program that Merge two Python dictionaries into one\n",
    "dict1 = {'Ten': 10, 'Twenty': 20, 'Thirty': 30}\n",
    "dict2 = {'Thirty': 30, 'Fourty': 40, 'Fifty': 50}\n",
    "dict3 = dict1.copy()\n",
    "dict3.update(dict2)\n",
    "print(dict3)"
   ]
  },
  {
   "cell_type": "code",
   "execution_count": 60,
   "id": "c9bb38a4",
   "metadata": {},
   "outputs": [
    {
     "name": "stdout",
     "output_type": "stream",
     "text": [
      "Enter the value to be searched:100\n",
      "Enter the key (character) to be searched:D\n",
      "100 present in a dict\n",
      "D not present in a dict\n"
     ]
    }
   ],
   "source": [
    "# Write a program to  Check if a key and value exists in a dictionary\n",
    "sample_dict = {'a': 100, 'b': 200, 'c': 300}\n",
    "value=int(input(\"Enter the value to be searched:\"))\n",
    "key=input(\"Enter the key (character) to be searched:\")\n",
    "if value in sample_dict.values():\n",
    "    print(f'{value} present in a dict')\n",
    "else:\n",
    "     print(f'{key} not present in a dict')\n",
    "if key in sample_dict.keys():\n",
    "    print(f'{key} present in a dict')\n",
    "else:\n",
    "    print(f'{key} not present in a dict')\n",
    "    "
   ]
  },
  {
   "cell_type": "code",
   "execution_count": 62,
   "id": "2e72d6b5",
   "metadata": {},
   "outputs": [
    {
     "name": "stdout",
     "output_type": "stream",
     "text": [
      "Enter a number:10\n",
      "{1: 1, 2: 4, 3: 9, 4: 16, 5: 25, 6: 36, 7: 49, 8: 64, 9: 81, 10: 100}\n"
     ]
    }
   ],
   "source": [
    "# Generate dictionary of numbers and their squares (i, i*i) from 1 to N\n",
    "n = int(input(\"Enter a number:\"))\n",
    "# declare dictionary \n",
    "numbers = {}\n",
    "# run loop from 1 to n \n",
    "for i in range(1, n+1):\n",
    "    numbers[i] = i * i\n",
    "# print dictionary \n",
    "print(numbers)"
   ]
  },
  {
   "cell_type": "code",
   "execution_count": 66,
   "id": "97b44e99",
   "metadata": {},
   "outputs": [
    {
     "name": "stdout",
     "output_type": "stream",
     "text": [
      "RollNo = 1230\n",
      "Name = PAVAN\n",
      "mathsMark = 65\n",
      "pythonMark = 55\n",
      "JAVAMark = 87\n"
     ]
    }
   ],
   "source": [
    "#Write a Python program to search student record stored using Dictionary\n",
    "student = {\"RollNo\" : 1230,\"Name\" :\"PAVAN\",\"mathsMark\" : 65,\"pythonMark\" : 55,\"JAVAMark\" : 87}\n",
    "for i in student.keys():\n",
    "    print(i,'=',student[i])"
   ]
  },
  {
   "cell_type": "code",
   "execution_count": 70,
   "id": "124a9a0a",
   "metadata": {},
   "outputs": [
    {
     "name": "stdout",
     "output_type": "stream",
     "text": [
      "Dictionary =  {'HTML': 2, 'Javascript': 1, 'Python': 8, 'C++': 1, 'Java': 4}\n",
      "Unique Values =  [2, 1, 8, 1, 4]\n"
     ]
    }
   ],
   "source": [
    "#Write a Python program to extract unique values from the dictionary\n",
    "\n",
    "myDict = {'HTML': 2, 'Javascript': 1, 'Python': 8, 'C++': 1, 'Java': 4}\n",
    "\n",
    "# extracting unique values using comprehension\n",
    "uniqueValues = list(val for val in myDict.values() )\n",
    "  \n",
    "# Printing the dictionary and unique values...\n",
    "print(\"Dictionary = \", myDict)\n",
    "print(\"Unique Values = \", uniqueValues)"
   ]
  },
  {
   "cell_type": "code",
   "execution_count": null,
   "id": "27ee2020",
   "metadata": {},
   "outputs": [],
   "source": []
  }
 ],
 "metadata": {
  "kernelspec": {
   "display_name": "Python 3 (ipykernel)",
   "language": "python",
   "name": "python3"
  },
  "language_info": {
   "codemirror_mode": {
    "name": "ipython",
    "version": 3
   },
   "file_extension": ".py",
   "mimetype": "text/x-python",
   "name": "python",
   "nbconvert_exporter": "python",
   "pygments_lexer": "ipython3",
   "version": "3.9.7"
  }
 },
 "nbformat": 4,
 "nbformat_minor": 5
}
