{
 "cells": [
  {
   "cell_type": "code",
   "execution_count": 4,
   "id": "fc00ecd1",
   "metadata": {},
   "outputs": [
    {
     "name": "stdout",
     "output_type": "stream",
     "text": [
      "Enter Character:t\n",
      "The ASCII value of t is  116\n"
     ]
    }
   ],
   "source": [
    "# Write a Python Program to Find and Print ASCII Value of a Character\n",
    "char = input(\"Enter Character:\")\n",
    "print(f\"The ASCII value of {char} is \",ord(char))"
   ]
  },
  {
   "cell_type": "code",
   "execution_count": 8,
   "id": "779fe05f",
   "metadata": {},
   "outputs": [
    {
     "name": "stdout",
     "output_type": "stream",
     "text": [
      "Enter First Variable:55\n",
      "Enter Second Variable:66\n",
      "The Variables before swapping are: 55 66\n",
      "The Variables after swapping are: 66 55\n"
     ]
    }
   ],
   "source": [
    "#Write a Python Program to Swap Two Variables\n",
    "a=int(input(\"Enter First Variable:\"))\n",
    "b=int(input(\"Enter Second Variable:\"))\n",
    "print(\"The Variables before swapping are:\",a,b)\n",
    "t=a\n",
    "a=b\n",
    "b=t\n",
    "print(\"The Variables after swapping are:\",a,b)\n"
   ]
  },
  {
   "cell_type": "code",
   "execution_count": 10,
   "id": "0a9084b5",
   "metadata": {},
   "outputs": [
    {
     "name": "stdout",
     "output_type": "stream",
     "text": [
      "0.9381784279335288\n",
      "73\n"
     ]
    }
   ],
   "source": [
    "#Write a Python Program to generate a random number \n",
    "import random\n",
    "print(random.random()) #random.random() method is used to generate random floats between 0.0 to 1.\n",
    "print(random.randint(1,99))  #Generates a random number between a given range\n"
   ]
  },
  {
   "cell_type": "code",
   "execution_count": 13,
   "id": "3f676ba9",
   "metadata": {},
   "outputs": [
    {
     "name": "stdout",
     "output_type": "stream",
     "text": [
      "Enter a number:55\n",
      "55 is odd\n"
     ]
    }
   ],
   "source": [
    "#Write a Python Program to print the given number even or not\n",
    "num=int(input(\"Enter a number:\"))\n",
    "if(num%2)==0:\n",
    "    print(f\"{num} is even\")\n",
    "else:\n",
    "    print(f\"{num} is odd\")"
   ]
  },
  {
   "cell_type": "code",
   "execution_count": 16,
   "id": "fa725f92",
   "metadata": {},
   "outputs": [
    {
     "name": "stdout",
     "output_type": "stream",
     "text": [
      "Enter a number:88\n",
      "Enter a number:78\n",
      "Enter a number:888\n",
      "888 is Greater\n"
     ]
    }
   ],
   "source": [
    "#Write a Python program to find the largest number among the three input numbers\n",
    "num1=int(input(\"Enter a number:\"))\n",
    "num2=int(input(\"Enter a number:\"))\n",
    "num3=int(input(\"Enter a number:\"))\n",
    "if(num1>num2 and num1>num3):\n",
    "    print(f\"{num1} is Greater\")\n",
    "elif(num2>num1 and num2>num3):\n",
    "    print(f\"{num2} is Greater\")\n",
    "else:\n",
    "    print(f\"{num3} is Greater\")\n"
   ]
  },
  {
   "cell_type": "code",
   "execution_count": 20,
   "id": "5e8635f6",
   "metadata": {},
   "outputs": [
    {
     "name": "stdout",
     "output_type": "stream",
     "text": [
      "Enter a number between 0.0 to 1.0:5\n",
      "Out of Range\n"
     ]
    }
   ],
   "source": [
    "#Write a Program to Prompt for a Score between 0.0 and 1.0. \n",
    "#If the Score Is Out of Range Print an Error. If the Score Is between 0.0 and 1.0, \n",
    "#Print a Grade Using the Following Table.\n",
    "#Score     >=0.9     >=0.8        >=0.7      >=0.6        <0.6\n",
    "#Grade      A         B             C         D          F\n",
    "num=float(input(\"Enter a number between 0.0 to 1.0:\"))\n",
    "if(num>=0.9 and num<1.0):\n",
    "    print(\"A Grade\")\n",
    "elif num>1.0:\n",
    "    print(\"Out of Range\")\n",
    "elif(num>=0.8):\n",
    "    print(\"B Grade\")\n",
    "elif(num>=0.7):\n",
    "    print(\"C Grade\")\n",
    "elif(num>=0.6):\n",
    "    print(\"D Grade\")\n",
    "else:\n",
    "    print(\"FAIL\")\n",
    "\n"
   ]
  },
  {
   "cell_type": "code",
   "execution_count": 32,
   "id": "ad2214c3",
   "metadata": {},
   "outputs": [
    {
     "name": "stdout",
     "output_type": "stream",
     "text": [
      "Enter Year:1900\n",
      "1900 is NOT LEAP YEAR\n"
     ]
    }
   ],
   "source": [
    "#Write a Python Program to Check If a Given Year Is a Leap Year using nested if\n",
    "year=int(input(\"Enter Year:\"))\n",
    "if(year%4==0):\n",
    "    if(year%100==0):\n",
    "        if(year%400==0):\n",
    "            print(f\"{year} is LEAP YEAR\")\n",
    "        else:\n",
    "            print(f\"{year} is NOT LEAP YEAR\")\n",
    "    else:\n",
    "        print(f\"{year} is LEAP YEAR\")\n",
    "else:\n",
    "        print(f\"{year} is Not LEAP YEAR\")\n"
   ]
  },
  {
   "cell_type": "code",
   "execution_count": 33,
   "id": "3f0c136a",
   "metadata": {},
   "outputs": [
    {
     "name": "stdout",
     "output_type": "stream",
     "text": [
      "Please enter temperature in fahrenheit:50\n",
      "Temperature in celsius:  10.0\n"
     ]
    }
   ],
   "source": [
    "#Write a Python Program to Convert Fahrenheit to Celsius \n",
    "f = float(input(\"Please enter temperature in fahrenheit:\"))\n",
    "celsius = (f - 32) * 5 / 9\n",
    "print(\"Temperature in celsius: \" , celsius)"
   ]
  },
  {
   "cell_type": "code",
   "execution_count": 39,
   "id": "b52b2132",
   "metadata": {},
   "outputs": [
    {
     "name": "stdout",
     "output_type": "stream",
     "text": [
      "Enter Weight in Kilograms:88\n",
      "The Pounds is :193.60\n"
     ]
    }
   ],
   "source": [
    "#Write a program that asks the user for a weight in kilograms and converts it to pounds. There are 2.2 pounds in a kilogram\n",
    "weight=float((input(\"Enter Weight in Kilograms:\")))\n",
    "pounds=weight*2.2\n",
    "print(\"The Pounds is :%.2f\"%pounds)\n"
   ]
  },
  {
   "cell_type": "code",
   "execution_count": 45,
   "id": "330f3ae5",
   "metadata": {},
   "outputs": [
    {
     "name": "stdout",
     "output_type": "stream",
     "text": [
      "Enter 1st value:5\n",
      "Enter 2nd value:6\n",
      "Enter 3rd value:9\n",
      "The total of the given number is 20 and average of the given numbers is 6.666666666666667\n"
     ]
    }
   ],
   "source": [
    "#Write a program that asks the user to enter three numbers (use three separate input statements) \n",
    "#Create variables called total and average that hold the sum and average of the three numbers and \n",
    "#print out the values of total and average.\n",
    "num1=int(input(\"Enter 1st value:\"))\n",
    "num2=int(input(\"Enter 2nd value:\"))\n",
    "num3=int(input(\"Enter 3rd value:\"))\n",
    "total = num1+num2+num3\n",
    "average = total/3\n",
    "print(f\"The total of the given number is {total} and average of the given numbers is {average}\")"
   ]
  },
  {
   "cell_type": "code",
   "execution_count": 61,
   "id": "642b460f",
   "metadata": {},
   "outputs": [
    {
     "name": "stdout",
     "output_type": "stream",
     "text": [
      "Enter any number5\n",
      "Enter any number or space to quit6\n",
      "Enter any number or space to quit \n",
      "The sum is: 11\n"
     ]
    }
   ],
   "source": [
    "#Write a python program to demonstrate wile loop for computing the sum of numbers entered by the user. \n",
    "#Terminates when user enters special character ‘space’.\n",
    "data=input('Enter any number:')\n",
    "sum=0\n",
    "while data!=\" \":\n",
    "    sum=sum +int(data)\n",
    "    data=input('Enter any number or space to quit:')\n",
    "print('The sum is:',sum)\n",
    "    "
   ]
  },
  {
   "cell_type": "code",
   "execution_count": 63,
   "id": "b9d1854d",
   "metadata": {},
   "outputs": [
    {
     "name": "stdout",
     "output_type": "stream",
     "text": [
      "8 11 14 17 20 23 26 29 32 35 38 41 44 47 50 53 56 59 62 65 68 71 74 77 80 83 86 89 "
     ]
    }
   ],
   "source": [
    "#Write a program that uses a for loop to print the numbers 8, 11, 14, 17, 20, . . . , 83, 86, 89.\n",
    "for i in range(8,90,3):\n",
    "    print(i,end=\" \")"
   ]
  },
  {
   "cell_type": "code",
   "execution_count": 67,
   "id": "45ab89b5",
   "metadata": {},
   "outputs": [
    {
     "name": "stdout",
     "output_type": "stream",
     "text": [
      "Enter number:9\n",
      "Enter the number upto where the multiplication should be done:10\n",
      "9 * 1 = 9\n",
      "9 * 2 = 18\n",
      "9 * 3 = 27\n",
      "9 * 4 = 36\n",
      "9 * 5 = 45\n",
      "9 * 6 = 54\n",
      "9 * 7 = 63\n",
      "9 * 8 = 72\n",
      "9 * 9 = 81\n",
      "9 * 10 = 90\n"
     ]
    }
   ],
   "source": [
    "# Write a Python Program to Display the multiplication Table of given number\n",
    "num = int(input(\"Enter number:\"))\n",
    "n = int(input(\"Enter the number upto where the multiplication should be done:\"))\n",
    "for i in range(1,n+1):\n",
    "    print(num,'*',i,'=',num*i)"
   ]
  },
  {
   "cell_type": "code",
   "execution_count": 68,
   "id": "f2333293",
   "metadata": {},
   "outputs": [
    {
     "name": "stdout",
     "output_type": "stream",
     "text": [
      "Enter your name:pavan\n",
      "Enter how many times your name should be printed 5\n",
      "pavan\n",
      "pavan\n",
      "pavan\n",
      "pavan\n",
      "pavan\n"
     ]
    }
   ],
   "source": [
    "#Write a program that asks the user for their name and how many times to print it. \n",
    "#The program should print out the user’s name the specified number of times.\n",
    "name=input(\"Enter your name:\")\n",
    "times=int(input(\"Enter how many times your name should be printed \"))\n",
    "while(times>0):\n",
    "    print(name)\n",
    "    times=times-1"
   ]
  },
  {
   "cell_type": "code",
   "execution_count": 74,
   "id": "5b5cce50",
   "metadata": {},
   "outputs": [
    {
     "name": "stdout",
     "output_type": "stream",
     "text": [
      "Enter no of lines for * : 5\n",
      "\n",
      "\n",
      "* \n",
      "\n",
      "* * \n",
      "\n",
      "* * * \n",
      "\n",
      "* * * * \n",
      "\n",
      "* * * * * \n",
      "\n"
     ]
    }
   ],
   "source": [
    "#Use a for loop to print a triangle like the one below. Allow the user to specify how high the triangle should be.\n",
    "# *\n",
    "# **\n",
    "# ***\n",
    "n=int(input(\"Enter no of lines for * : \"))\n",
    "for i in range(n+1):\n",
    "    for j in range(i):\n",
    "        print(\"*\",end=\" \")\n",
    "    print('\\n')\n"
   ]
  },
  {
   "cell_type": "code",
   "execution_count": 76,
   "id": "55902937",
   "metadata": {},
   "outputs": [
    {
     "name": "stdout",
     "output_type": "stream",
     "text": [
      "Guess the number from 1 to 10:9\n",
      "the random number is  3\n",
      "You had entered  9\n",
      "OOPS! Wrong Guess\n"
     ]
    }
   ],
   "source": [
    "#Write a Python program Generate a random number between 1 and 10. \n",
    "#Ask the user to guess the number and print a message based on whether they get it right or not.\n",
    "import random\n",
    "n=random.randint(1,10)\n",
    "guess=int(input(\"Guess the number from 1 to 10:\"))\n",
    "print(\"the random number is \",n)\n",
    "print(\"You had entered \",guess)\n",
    "if(guess==n):\n",
    "    print(\"Hurray! Your Guess is correct !\")\n",
    "else:\n",
    "    print(\"OOPS! Wrong Guess\")"
   ]
  },
  {
   "cell_type": "code",
   "execution_count": 85,
   "id": "55d9e55f",
   "metadata": {},
   "outputs": [
    {
     "name": "stdout",
     "output_type": "stream",
     "text": [
      "Enter a Word:pavan\n",
      "The vowels presented are  a\n",
      "The vowels presented are  a\n",
      "The number of vowels in the given word are: 2\n"
     ]
    }
   ],
   "source": [
    "#Write a program that asks the user to enter a word and prints out whether that word contains any vowels.\n",
    "word=input(\"Enter a Word:\")\n",
    "sum=0\n",
    "for i in range(len(word)):\n",
    "    if word[i] in 'aeiouAEIOU':\n",
    "        print(\"The vowels presented are \",word[i])\n",
    "        sum=sum+1\n",
    "print(\"The number of vowels in the given word are:\",sum)"
   ]
  },
  {
   "cell_type": "code",
   "execution_count": 88,
   "id": "2a226bb0",
   "metadata": {},
   "outputs": [
    {
     "name": "stdout",
     "output_type": "stream",
     "text": [
      "Enter Length of 1st Side:55\n",
      "Enter Length of 2nd Side:66\n",
      "Enter Length of 3rd Side:55\n",
      "Triangle possible\n"
     ]
    }
   ],
   "source": [
    "#Write a program to input length of three sides of a triangle. Then check if these sides will form a triangle or not.\n",
    "l1=int(input(\"Enter Length of 1st Side:\"))\n",
    "l2=int(input(\"Enter Length of 2nd Side:\"))\n",
    "l3=int(input(\"Enter Length of 3rd Side:\"))\n",
    "if l1+l2>l3 and l1+l3>l2 and l2+l3>l1:\n",
    "    print(\"Triangle possible\")\n",
    "else:\n",
    "    print(\"Triangle not possible\")"
   ]
  },
  {
   "cell_type": "code",
   "execution_count": 93,
   "id": "0b37d583",
   "metadata": {},
   "outputs": [
    {
     "name": "stdout",
     "output_type": "stream",
     "text": [
      "Enter 1st Number:5\n",
      "Enter 2nd Number:4.9999\n",
      "Both are close\n"
     ]
    }
   ],
   "source": [
    "#Write a program that asks the user for two numbers and prints Close \n",
    "#if the numbers are within .001 of each other and not close otherwise.\n",
    "num1=float(input(\"Enter 1st Number:\"))\n",
    "num2=float(input(\"Enter 2nd Number:\"))\n",
    "res1=0\n",
    "res2=0\n",
    "if num1>num2:\n",
    "    res1=num1-num2\n",
    "    if res1<0.001:\n",
    "        print(\"Both are close\")\n",
    "    else:\n",
    "        print(\"Both are not close\")\n",
    "elif num2>num1:\n",
    "    res2=num2-num1\n",
    "    if res1<0.001:\n",
    "        print(\"Both are close\")\n",
    "    else:\n",
    "        print(\"Both are not close\")\n",
    "else:\n",
    "    print(\"Both Numbers are same\")"
   ]
  },
  {
   "cell_type": "code",
   "execution_count": 96,
   "id": "4714cbb6",
   "metadata": {},
   "outputs": [
    {
     "name": "stdout",
     "output_type": "stream",
     "text": [
      "Enter any character:p\n",
      "The p is Consonant\n"
     ]
    }
   ],
   "source": [
    "#Write a Python program to check the character vowel or consonant.\n",
    "char=input(\"Enter any character:\")\n",
    "if char in 'aeiouAEIOU':\n",
    "    print(f\"The {char} is Vowel\")\n",
    "else:\n",
    "    print(f\"The {char} is Consonant\")\n",
    "    \n"
   ]
  },
  {
   "cell_type": "code",
   "execution_count": 98,
   "id": "d0cbe559",
   "metadata": {},
   "outputs": [
    {
     "name": "stdout",
     "output_type": "stream",
     "text": [
      "Enter a number:10\n",
      "10 is NOT Prime\n"
     ]
    }
   ],
   "source": [
    "#Write a Python program to check prime number using for loop\n",
    "num=int(input(\"Enter a number:\"))\n",
    "flag=0\n",
    "for i in range(2,num):\n",
    "    if num%i==0:\n",
    "        flag=1\n",
    "if flag==0:\n",
    "    print(f\"{num} is Prime\")\n",
    "else:\n",
    "    print(f\"{num} is NOT Prime\")    "
   ]
  },
  {
   "cell_type": "code",
   "execution_count": 5,
   "id": "c08600db",
   "metadata": {},
   "outputs": [
    {
     "name": "stdout",
     "output_type": "stream",
     "text": [
      "Enter the Num:5\n",
      "0 1 1 2 3 "
     ]
    }
   ],
   "source": [
    "#Write a Python program for Fibonacci Sequence\n",
    "num=int(input(\"Enter the Num:\"))\n",
    "a=0\n",
    "b=1\n",
    "print(a,b,end=\" \")\n",
    "c=a+b\n",
    "num = num-2\n",
    "while num>0:\n",
    "    print(c,end=\" \")\n",
    "    a=b\n",
    "    b=c\n",
    "    c=a+b\n",
    "    num=num-1"
   ]
  },
  {
   "cell_type": "code",
   "execution_count": 6,
   "id": "6f86da8e",
   "metadata": {},
   "outputs": [
    {
     "name": "stdout",
     "output_type": "stream",
     "text": [
      "Enter a number:1223221\n",
      "The number is palindrome!\n"
     ]
    }
   ],
   "source": [
    "#Write a Python program to check palindrome or not\n",
    "num=int(input(\"Enter a number:\"))\n",
    "temp=num\n",
    "rev=0\n",
    "while(num>0):\n",
    "    dig=num%10\n",
    "    rev=rev*10+dig\n",
    "    num=num//10\n",
    "if(temp==rev):\n",
    "    print(\"The number is palindrome!\")\n",
    "else:\n",
    "    print(\"Not a palindrome!\")"
   ]
  },
  {
   "cell_type": "code",
   "execution_count": 9,
   "id": "572652bf",
   "metadata": {},
   "outputs": [
    {
     "name": "stdout",
     "output_type": "stream",
     "text": [
      "enter number:1234\n",
      "The total digits in the given number is: 4\n"
     ]
    }
   ],
   "source": [
    "#Write a Python program to Count the Total Digits in a Number using while Loop\n",
    "num=int(input(\"enter number:\"))\n",
    "count=0\n",
    "sum=0\n",
    "while num>0:\n",
    "    dig=num%10\n",
    "    num=num//10\n",
    "    count=count+1\n",
    "print(\"The total digits in the given number is:\",count)"
   ]
  },
  {
   "cell_type": "code",
   "execution_count": 11,
   "id": "84961316",
   "metadata": {},
   "outputs": [
    {
     "name": "stdout",
     "output_type": "stream",
     "text": [
      "enter number:12345\n",
      "The Sum of the given number is: 15\n"
     ]
    }
   ],
   "source": [
    "#Write a Python program to Add Digits of a Number using while Loop\n",
    "num=int(input(\"enter number:\"))\n",
    "sum=0\n",
    "while num>0:\n",
    "    dig=num%10\n",
    "    sum=sum+dig\n",
    "    num=num//10\n",
    "print(\"The Sum of the given number is:\",sum)"
   ]
  },
  {
   "cell_type": "code",
   "execution_count": 12,
   "id": "153b8697",
   "metadata": {},
   "outputs": [
    {
     "name": "stdout",
     "output_type": "stream",
     "text": [
      "Enter the number:5\n",
      "Enter The Value1\n",
      "Enter The Value2\n",
      "Enter The Value3\n",
      "Enter The Value4\n",
      "Enter The Value5\n",
      "The sum of Numbers is: 15\n"
     ]
    }
   ],
   "source": [
    "#Write a Python Program to Find Sum of n Numbers using while loops\n",
    "n=int(input(\"Enter the number:\"))\n",
    "total=0\n",
    "while n>0:\n",
    "    sum=int(input(\"Enter The Value:\"))\n",
    "    total = total+sum\n",
    "    n=n-1\n",
    "print(\"The sum of Numbers is:\",total)\n",
    "    \n",
    "    "
   ]
  },
  {
   "cell_type": "code",
   "execution_count": 13,
   "id": "71486a90",
   "metadata": {},
   "outputs": [
    {
     "name": "stdout",
     "output_type": "stream",
     "text": [
      "Enter the number:5\n",
      "Enter The value:1\n",
      "Enter The value:2\n",
      "Enter The value:3\n",
      "Enter The value:4\n",
      "Enter The value:5\n",
      "The sum of Numbers is: 15\n"
     ]
    }
   ],
   "source": [
    "#Write a Python Program to Find Sum of n Numbers using For loops\n",
    "n=int(input(\"Enter the number:\"))\n",
    "total=0\n",
    "for i in range(n):\n",
    "    sum=int(input(\"Enter The value:\"))\n",
    "    total=total+sum\n",
    "print(\"The sum of Numbers is:\",total)"
   ]
  },
  {
   "cell_type": "code",
   "execution_count": 19,
   "id": "1c677885",
   "metadata": {},
   "outputs": [
    {
     "name": "stdout",
     "output_type": "stream",
     "text": [
      "Enter String 1:pavan\n",
      "Enter String 2:kumarr\n",
      "Both strings are different length\n",
      "Both strings are different length\n",
      "Both strings are different length\n",
      "Both strings are different length\n",
      "Both strings are different length\n"
     ]
    }
   ],
   "source": [
    "#Write a program that asks the user to enter two strings of the same length. \n",
    "#The program should then check to see if the strings are of the same length. \n",
    "#If they are not, the program should print an appropriate message and exit. \n",
    "#If they are of the same length, the program should alternate the characters of the two strings. \n",
    "#For example, if the user enters abcde and ABCDE the program should print out AaBbCcDdEe.\n",
    "str1=input(\"Enter String 1:\")\n",
    "str2=input(\"Enter String 2:\")\n",
    "for i in range(len(str1)):\n",
    "    if len(str1) == len(str2):\n",
    "        a=str1[i]\n",
    "        b=str2[i]\n",
    "        print(f\"{a}{b}\",end=\"\")\n",
    "    else:\n",
    "        print(\"Both strings are different length\")\n",
    "           "
   ]
  },
  {
   "cell_type": "code",
   "execution_count": 26,
   "id": "ced00b41",
   "metadata": {},
   "outputs": [
    {
     "name": "stdout",
     "output_type": "stream",
     "text": [
      "Enter a large number:123123456\n",
      "123,123,456\n"
     ]
    }
   ],
   "source": [
    "#Write a program that asks the user for a large integer and inserts commas into it \n",
    "#according to the standard American convention for commas in large numbers. For instance, \n",
    "#if the user enters 1000000, the output should be 1,000,000.\n",
    "num=int(input(\"Enter a large number:\"))\n",
    "print(\"{:,}\".format(num))"
   ]
  },
  {
   "cell_type": "code",
   "execution_count": null,
   "id": "5965b41a",
   "metadata": {},
   "outputs": [],
   "source": []
  },
  {
   "cell_type": "code",
   "execution_count": null,
   "id": "ea708f92",
   "metadata": {},
   "outputs": [],
   "source": []
  }
 ],
 "metadata": {
  "kernelspec": {
   "display_name": "Python 3 (ipykernel)",
   "language": "python",
   "name": "python3"
  },
  "language_info": {
   "codemirror_mode": {
    "name": "ipython",
    "version": 3
   },
   "file_extension": ".py",
   "mimetype": "text/x-python",
   "name": "python",
   "nbconvert_exporter": "python",
   "pygments_lexer": "ipython3",
   "version": "3.9.7"
  }
 },
 "nbformat": 4,
 "nbformat_minor": 5
}
