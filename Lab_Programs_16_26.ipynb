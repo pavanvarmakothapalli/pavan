{
 "cells": [
  {
   "cell_type": "code",
   "execution_count": 7,
   "id": "2d533f10",
   "metadata": {},
   "outputs": [
    {
     "name": "stdout",
     "output_type": "stream",
     "text": [
      "Enter a length in feet: 7\n",
      " Choose 1 to convert into inches,\n",
      "          choose 2 to convert into yards,\n",
      "          choose 3 to convert into miles,\n",
      "          choose 4 to convert into millimeters,\n",
      "          choose 5 to convert into centimeters,\n",
      "          choose 6 to convert into meters,\n",
      "          choose 7 to convert into kilometers\n",
      ">>> 6\n",
      "2.13\n"
     ]
    }
   ],
   "source": [
    "''16.'Write a program that asks the user to enter a length in feet. The program should then give the user\n",
    "the option to convert from feet into inches, yards, miles, millimeters, centimeters, meters, or\n",
    "kilometers. Say if the user enters a 1, then the program converts to inches, if they enter a 2, then\n",
    "the program converts to yards, etc. While this can be done with if statements,it is much shorter\n",
    "with lists and it is also easier to add new conversions if you use lists.'''\n",
    "\n",
    "feet = int(input(\"Enter a length in feet: \"))\n",
    "print(\"\"\" Choose 1 to convert into inches,\n",
    "          choose 2 to convert into yards,\n",
    "          choose 3 to convert into miles,\n",
    "          choose 4 to convert into millimeters,\n",
    "          choose 5 to convert into centimeters,\n",
    "          choose 6 to convert into meters,\n",
    "          choose 7 to convert into kilometers\"\"\")\n",
    "integer = int(input(\">>> \"))\n",
    "\n",
    "inches = round(feet * 12, 2)\n",
    "yards = round(feet * 0.33333, 2)\n",
    "miles = round(feet * 0.000189393939, 2)\n",
    "millimeters = round(feet * 304.8, 2)\n",
    "centimeters = round(feet * 30.48, 2)\n",
    "meters = round(feet * 0.3048, 2)\n",
    "kilometers = round(feet * 0.0003048, 2)\n",
    "\n",
    "convert = [feet,inches,yards,miles,millimeters,centimeters,meters,kilometers]\n",
    "\n",
    "print(convert[integer])\n",
    "\n"
   ]
  },
  {
   "cell_type": "code",
   "execution_count": 8,
   "id": "3998e0cc",
   "metadata": {},
   "outputs": [
    {
     "data": {
      "text/plain": [
       "10"
      ]
     },
     "execution_count": 8,
     "metadata": {},
     "output_type": "execute_result"
    }
   ],
   "source": [
    "'''17.Write a function called sum_digits that is given an integer num and \n",
    "returns the sum of the digits of num.'''\n",
    "def sum_digits(n):\n",
    "    sum = 0\n",
    "    while n:\n",
    "        sum += n % 10\n",
    "        n //= 10\n",
    "    return sum\n",
    "sum_digits(1234)"
   ]
  },
  {
   "cell_type": "code",
   "execution_count": 18,
   "id": "eb80e3fd",
   "metadata": {},
   "outputs": [
    {
     "name": "stdout",
     "output_type": "stream",
     "text": [
      "Enter first string:pavan\n",
      "Enter second string:pavbn\n",
      "3\n"
     ]
    }
   ],
   "source": [
    "''' 18.Write a function called first_diff that is given two strings and returns the first location \n",
    "in which the strings differ. If the strings are identical, it should return -1.'''\n",
    "def first_diff(str1, str2):\n",
    "    \"\"\"\n",
    "    Returns the first location in which the strings differ.\n",
    "    If the strings are identical, it should return -1.\n",
    "    \"\"\"\n",
    "    if str1 == str2:\n",
    "        return -1\n",
    "    else:\n",
    "        i=0\n",
    "        for str1, str2 in zip(str1, str2):\n",
    "            if str1 != str2:\n",
    "                break\n",
    "            i += 1\n",
    "        return i\n",
    "\n",
    "string1 = input(\"Enter first string:\")\n",
    "string2 = input(\"Enter second string:\")\n",
    "print(first_diff(string1, string2))"
   ]
  },
  {
   "cell_type": "code",
   "execution_count": 24,
   "id": "b6d76931",
   "metadata": {},
   "outputs": [
    {
     "name": "stdout",
     "output_type": "stream",
     "text": [
      "Enter a num to check factors:15\n",
      "The number of factors for 15 are 4\n",
      "The factors are: [1, 3, 5, 15]\n"
     ]
    }
   ],
   "source": [
    "'''19.Write a function called number_of_factors that takes an integer and returns how many factors the\n",
    "number has.'''\n",
    "\n",
    "def num_of_factors(n):\n",
    "    count=0\n",
    "    factors=[]\n",
    "    for i in range(1,n+1):\n",
    "        if n%i==0:\n",
    "            count=count+1\n",
    "            factors.append(i)\n",
    "    print(f\"The number of factors for {n} are {count}\")\n",
    "    print(\"The factors are:\",factors)\n",
    "num=int(input(\"Enter a num to check factors:\"))         \n",
    "num_of_factors(num)"
   ]
  },
  {
   "cell_type": "code",
   "execution_count": 25,
   "id": "94b4a54f",
   "metadata": {},
   "outputs": [
    {
     "name": "stdout",
     "output_type": "stream",
     "text": [
      "True\n",
      "False\n"
     ]
    }
   ],
   "source": [
    "\"\"\"20.Write a function called is_sorted that is given a list and \n",
    "returns True if the list is sorted and False otherwise.\"\"\"\n",
    "def is_sorted(listik):\n",
    "    if sorted(listik) == listik: \n",
    "        return True\n",
    "    else:\n",
    "        return False    \n",
    "print(is_sorted([1,2,2])) \n",
    "print(is_sorted([1,2,1,2]))"
   ]
  },
  {
   "cell_type": "code",
   "execution_count": 2,
   "id": "5b390466",
   "metadata": {},
   "outputs": [
    {
     "name": "stdout",
     "output_type": "stream",
     "text": [
      " Enter a number = 10\n",
      "3.1622776601683795\n"
     ]
    }
   ],
   "source": [
    "'''21. Write a function called root that is given a number x and an integer n and returns x**1/n. In the\n",
    "function definition, set the default value of n to 2.'''\n",
    "def root(x , n = 2 ) :\n",
    "    return  x ** (1 / n)\n",
    "x = int(input(\" Enter a number = \"))\n",
    "print(root(x))"
   ]
  },
  {
   "cell_type": "code",
   "execution_count": 7,
   "id": "bf79df6b",
   "metadata": {},
   "outputs": [
    {
     "name": "stdout",
     "output_type": "stream",
     "text": [
      "1 2 3 5 7 11 13 17 19 23 29 31 37 41 43 47 53 59 61 67 71 73 79 83 89 97 101 103 107 109 113 127 131 137 139 149 151 157 163 167 173 179 181 191 193 197 199 211 223 227 229 233 239 241 251 257 263 269 271 277 281 283 293 307 311 313 317 331 337 347 349 353 359 367 373 379 383 389 397 401 409 419 421 431 433 439 443 449 457 461 463 467 479 487 491 499 503 509 521 523 "
     ]
    }
   ],
   "source": [
    "''' 22. Write a function called primes that is given a number n and returns a list of the first n primes. \n",
    "Let the default value of n be 100.'''\n",
    "def primes(n):\n",
    "    n=0\n",
    "    i=0\n",
    "    while n<100:\n",
    "        i+=1\n",
    "        count=1\n",
    "        for j in range(2,i):\n",
    "            if i%j==0:\n",
    "                count=0\n",
    "                break\n",
    "        if count==1:\n",
    "            print(i,end=' ')\n",
    "            n+=1\n",
    "primes(100)"
   ]
  },
  {
   "cell_type": "code",
   "execution_count": 5,
   "id": "0d0d7a81",
   "metadata": {},
   "outputs": [
    {
     "data": {
      "text/plain": [
       "[0, 1, 2, 3, 4, 5, 6, 7, 8, 9]"
      ]
     },
     "execution_count": 5,
     "metadata": {},
     "output_type": "execute_result"
    }
   ],
   "source": [
    "\"\"\"23.Write a function called merge that takes two already sorted lists of possibly different lengths, and\n",
    "merges them into a single sorted list.\n",
    "(a) Do this using the sort method.\n",
    "(b) Do this without using the sort method.\"\"\"\n",
    "#Using Sort method\n",
    "def merge(l1,l2):\n",
    "    l1.extend(l2)\n",
    "    return sorted(l1)\n",
    "l1 = [1, 3, 4, 7]\n",
    "l2 = [0, 2, 5, 6, 8, 9]\n",
    "merge(l1,l2)"
   ]
  },
  {
   "cell_type": "code",
   "execution_count": 6,
   "id": "560b08a4",
   "metadata": {},
   "outputs": [
    {
     "name": "stdout",
     "output_type": "stream",
     "text": [
      "[1, 3, 4, 7, 0, 2, 5, 6, 8, 9]\n",
      "[0, 1, 2, 3, 4, 5, 6, 7, 8, 9]\n"
     ]
    }
   ],
   "source": [
    "#Without Using Sort method\n",
    "def merge(l1,l2):\n",
    "     l3=l1+l2\n",
    "     print(l3)\n",
    "     for i in range(len(l3)):\n",
    "          for j in range(i+1,len(l3)):\n",
    "               if(l3[i]>l3[j]):\n",
    "                    temp=l3[i]\n",
    "                    l3[i]=l3[j]\n",
    "                    l3[j]=temp\n",
    "     print(l3)\n",
    "l1 = [1, 3, 4, 7]\n",
    "l2 = [0, 2, 5, 6, 8, 9]\n",
    "merge(l1,l2)"
   ]
  },
  {
   "cell_type": "code",
   "execution_count": 7,
   "id": "c3d70b91",
   "metadata": {},
   "outputs": [
    {
     "name": "stdout",
     "output_type": "stream",
     "text": [
      "[1, 3, 4, 7, 0, 2, 5, 6, 8, 9]\n",
      "[0, 1, 2, 3, 4, 5, 6, 7, 8, 9]\n"
     ]
    }
   ],
   "source": [
    "def merge(l1,l2):\n",
    "     l3=l1+l2\n",
    "     print(l3)\n",
    "     for i in range(len(l3)):\n",
    "          for j in range(i+1,len(l3)):\n",
    "               if(l3[i]>l3[j]):\n",
    "                    l3[i],l3[j]=l3[j],l3[i]\n",
    "     print(l3)\n",
    "l1 = [1, 3, 4, 7]\n",
    "l2 = [0, 2, 5, 6, 8, 9]\n",
    "merge(l1,l2)"
   ]
  },
  {
   "cell_type": "code",
   "execution_count": 3,
   "id": "6f108a72",
   "metadata": {},
   "outputs": [
    {
     "name": "stdout",
     "output_type": "stream",
     "text": [
      "Enter a word:pavan\n",
      "pa pv pa pn ap av aa an vp va va vn ap aa av an np na nv na pav paa pan pva pva pvn paa pav pan pna pnv pna apv apa apn avp ava avn aap aav aan anp anv ana vpa vpa vpn vap vaa van vap vaa van vnp vna vna apa apv apn aap aav aan avp ava avn anp ana anv npa npv npa nap nav naa nvp nva nva nap naa nav pava pavn paav paan panv pana pvaa pvan pvaa pvan pvna pvna paav paan pava pavn pana panv pnav pnaa pnva pnva pnaa pnav apva apvn apav apan apnv apna avpa avpn avap avan avnp avna aapv aapn aavp aavn aanp aanv anpv anpa anvp anva anap anav vpaa vpan vpaa vpan vpna vpna vapa vapn vaap vaan vanp vana vapa vapn vaap vaan vanp vana vnpa vnpa vnap vnaa vnap vnaa apav apan apva apvn apna apnv aapv aapn aavp aavn aanp aanv avpa avpn avap avan avnp avna anpa anpv anap anav anvp anva npav npaa npva npva npaa npav napv napa navp nava naap naav nvpa nvpa nvap nvaa nvap nvaa napa napv naap naav navp nava "
     ]
    }
   ],
   "source": [
    "\"\"\"24.Write a program that asks the user for a word and finds all the smaller words that can be made\n",
    "from the letters of that word. The number of occurrences of a letter in a smaller word can’t exceed\n",
    "the number of occurrences of the letter in the user’s word.\"\"\"\n",
    "from itertools import permutations\n",
    "s=input(\"Enter a word:\")\n",
    "for i in range(2,len(s)):\n",
    "        for p in permutations(s,i):\n",
    "            print(''.join(p),end=' ')"
   ]
  },
  {
   "cell_type": "code",
   "execution_count": null,
   "id": "5c0f4771",
   "metadata": {},
   "outputs": [],
   "source": []
  },
  {
   "cell_type": "code",
   "execution_count": 1,
   "id": "f8f64b24",
   "metadata": {},
   "outputs": [],
   "source": [
    "#Creating File\n",
    "f=open(\"email.txt\",\"w\")\n",
    "f.write(\"kdvpkvarma@gmail.com\\n pavan.srkr@gmail.com\\n pavanvarma.cse@gmail.com\")\n",
    "f.close()"
   ]
  },
  {
   "cell_type": "code",
   "execution_count": 2,
   "id": "af5be0b8",
   "metadata": {},
   "outputs": [
    {
     "name": "stdout",
     "output_type": "stream",
     "text": [
      "['kdvpkvarma@gmail.com\\n', ' pavan.srkr@gmail.com\\n', ' pavanvarma.cse@gmail.com']\n",
      "kdvpkvarma@gmail.com;pavan.srkr@gmail.com;pavanvarma.cse@gmail.com\n"
     ]
    }
   ],
   "source": [
    "'''.Write a program that reads a file consisting of email addresses, each on its own line. Your\n",
    "program should print out a string consisting of those email addresses separated by semicolons.'''\n",
    "f=open(\"email.txt\",\"r\")\n",
    "Lines=f.readlines()\n",
    "print(Lines)\n",
    "for line in range(len(Lines)):\n",
    "   if(line==len(Lines)-1):\n",
    "      print(Lines[line].strip())\n",
    "   else:\n",
    "       print(Lines[line].strip(),end=\";\")"
   ]
  },
  {
   "cell_type": "code",
   "execution_count": 42,
   "id": "e73bd2bb",
   "metadata": {},
   "outputs": [],
   "source": [
    "'''27.Write a program that reads a list of temperatures from a file called temps.txt, converts those\n",
    "temperatures to Fahrenheit, and writes the results to a file called ftemps.txt.'''\n",
    "#Creating list of temperatures\n",
    "f1=open('temps.txt','w')\n",
    "f1.write(\"32 \\n56 \\n67\")\n",
    "f1.close()"
   ]
  },
  {
   "cell_type": "code",
   "execution_count": 43,
   "id": "b3f86846",
   "metadata": {},
   "outputs": [],
   "source": [
    "#Program\n",
    "file1 = open('temps.txt', 'r') \n",
    "lines = file1.readlines()\n",
    "file2 = open('ftemps.txt', 'w')\n",
    "for i in range(len(lines)):\n",
    "    c=lines[i].strip()\n",
    "    f=round((float(c)*1.8)+32,2)\n",
    "    file2.write(str(f)+\"\\n\")\n",
    "file2.close()"
   ]
  },
  {
   "cell_type": "code",
   "execution_count": null,
   "id": "83e8a0de",
   "metadata": {},
   "outputs": [],
   "source": []
  }
 ],
 "metadata": {
  "kernelspec": {
   "display_name": "Python 3 (ipykernel)",
   "language": "python",
   "name": "python3"
  },
  "language_info": {
   "codemirror_mode": {
    "name": "ipython",
    "version": 3
   },
   "file_extension": ".py",
   "mimetype": "text/x-python",
   "name": "python",
   "nbconvert_exporter": "python",
   "pygments_lexer": "ipython3",
   "version": "3.9.7"
  }
 },
 "nbformat": 4,
 "nbformat_minor": 5
}
