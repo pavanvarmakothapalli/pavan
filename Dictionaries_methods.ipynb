{
 "cells": [
  {
   "cell_type": "code",
   "execution_count": 1,
   "id": "83f937de",
   "metadata": {},
   "outputs": [
    {
     "name": "stdout",
     "output_type": "stream",
     "text": [
      "{'brand': 'Ford', 'model': 'Mustang', 'year': 1964}\n"
     ]
    }
   ],
   "source": [
    "#Create and print a dictionary\n",
    "dict1 = { \"brand\": \"Ford\",\"model\": \"Mustang\", \"year\": 1964}\n",
    "print(dict1)\n"
   ]
  },
  {
   "cell_type": "code",
   "execution_count": 2,
   "id": "05813faf",
   "metadata": {},
   "outputs": [
    {
     "name": "stdout",
     "output_type": "stream",
     "text": [
      "Ford\n"
     ]
    }
   ],
   "source": [
    "#Print the \"brand\" value of the dictionary\n",
    "dict1 = { \"brand\": \"Ford\",\"model\": \"Mustang\", \"year\": 1964}\n",
    "print(dict1[\"brand\"])\n"
   ]
  },
  {
   "cell_type": "code",
   "execution_count": 3,
   "id": "7a3875a2",
   "metadata": {},
   "outputs": [
    {
     "name": "stdout",
     "output_type": "stream",
     "text": [
      "{'brand': 'Ford', 'model': 'Mustang', 'year': 2020}\n"
     ]
    }
   ],
   "source": [
    "#Duplicate values will overwrite existing values\n",
    "dict1 = { \"brand\": \"Ford\",\"model\": \"Mustang\", \"year\": 1964,\"year\": 2020}\n",
    "print(dict1)\n"
   ]
  },
  {
   "cell_type": "code",
   "execution_count": 4,
   "id": "299efe6b",
   "metadata": {},
   "outputs": [
    {
     "name": "stdout",
     "output_type": "stream",
     "text": [
      "{'brand': 'Ford', 'electric': False, 'year': 1964, 'colors': ['red', 'white', 'blue']}\n"
     ]
    }
   ],
   "source": [
    "#Dictinary with String, int, boolean, and list data types\n",
    "dict1 = { \"brand\": \"Ford\", \"electric\": False, \"year\": 1964,\"colors\": [\"red\", \"white\", \"blue\"]}\n",
    "print(dict1)"
   ]
  },
  {
   "cell_type": "code",
   "execution_count": 5,
   "id": "a976c5ba",
   "metadata": {},
   "outputs": [
    {
     "name": "stdout",
     "output_type": "stream",
     "text": [
      "{}\n"
     ]
    }
   ],
   "source": [
    "#Dictionary clear():clear() method removes all the elements from a dictionary\n",
    "car = {\"brand\": \"Ford\",\"model\": \"Mustang\", \"year\": 1964}\n",
    "car.clear() \n",
    "print(car)"
   ]
  },
  {
   "cell_type": "code",
   "execution_count": 6,
   "id": "06e486e4",
   "metadata": {},
   "outputs": [
    {
     "name": "stdout",
     "output_type": "stream",
     "text": [
      "{'brand': 'Ford', 'model': 'Mustang', 'year': 1964}\n"
     ]
    }
   ],
   "source": [
    "#The copy() method returns a copy of the specified dictionary\n",
    "car = {\"brand\": \"Ford\",\"model\": \"Mustang\", \"year\": 1964}\n",
    "x = car.copy() \n",
    "print(x)"
   ]
  },
  {
   "cell_type": "code",
   "execution_count": 8,
   "id": "554c0325",
   "metadata": {},
   "outputs": [
    {
     "name": "stdout",
     "output_type": "stream",
     "text": [
      "{'key1': 0, 'key2': 0, 'key3': 0}\n"
     ]
    }
   ],
   "source": [
    "#The fromkeys() method returns a dictionary with the specified keys and the specified value.\n",
    "\n",
    "#Create a dictionary with 3 keys, all with the value 0. \n",
    "x = ('key1', 'key2', 'key3')\n",
    "y = 0\n",
    "thisdict = dict.fromkeys(x, y) \n",
    "print(thisdict)\n",
    "\n"
   ]
  },
  {
   "cell_type": "code",
   "execution_count": 9,
   "id": "4830ca42",
   "metadata": {},
   "outputs": [
    {
     "name": "stdout",
     "output_type": "stream",
     "text": [
      "Mustang\n"
     ]
    }
   ],
   "source": [
    "#The get() method returns the value of the item with the specified key\n",
    "car = {\"brand\": \"Ford\",\"model\": \"Mustang\", \"year\": 1964}\n",
    "x = car.get(\"model\")\n",
    "print(x)\n"
   ]
  },
  {
   "cell_type": "code",
   "execution_count": 10,
   "id": "20554127",
   "metadata": {},
   "outputs": [
    {
     "name": "stdout",
     "output_type": "stream",
     "text": [
      "dict_items([('brand', 'Ford'), ('model', 'Mustang'), ('year', 1964)])\n"
     ]
    }
   ],
   "source": [
    "#The items() method returns a view object. \n",
    "#The view object contains the key-value pairs of the dictionary, as tuples in a list\n",
    "#Return the dictionary's key-value pairs: \n",
    "car = {\"brand\": \"Ford\",\"model\": \"Mustang\", \"year\": 1964}\n",
    "x = car.items() \n",
    "print(x)\n"
   ]
  },
  {
   "cell_type": "code",
   "execution_count": 11,
   "id": "81df51b7",
   "metadata": {},
   "outputs": [
    {
     "name": "stdout",
     "output_type": "stream",
     "text": [
      "dict_keys(['brand', 'model', 'year'])\n"
     ]
    }
   ],
   "source": [
    "#The keys() method returns a view object. \n",
    "#The view object contains the keys of the dictionary, as a list.\n",
    "car = {\"brand\": \"Ford\",\"model\": \"Mustang\", \"year\": 1964}\n",
    "x = car.keys()\n",
    "print(x)\n"
   ]
  },
  {
   "cell_type": "code",
   "execution_count": 13,
   "id": "a3d70fd0",
   "metadata": {},
   "outputs": [
    {
     "name": "stdout",
     "output_type": "stream",
     "text": [
      "dict_values(['Ford', 'Mustang', 1964])\n"
     ]
    }
   ],
   "source": [
    "#The values() method returns a view object. \n",
    "#The view object contains the values of the dictionary, as a list.\n",
    "car = {\"brand\": \"Ford\",\"model\": \"Mustang\", \"year\": 1964}\n",
    "x = car.values() \n",
    "print(x)"
   ]
  },
  {
   "cell_type": "code",
   "execution_count": 14,
   "id": "e73c8a4a",
   "metadata": {},
   "outputs": [
    {
     "name": "stdout",
     "output_type": "stream",
     "text": [
      "{'brand': 'Ford', 'year': 1964}\n"
     ]
    }
   ],
   "source": [
    "#The pop() method removes the specified item from the dictionary.\n",
    "#Remove \"model\" from the dictionary.\n",
    "car = {\"brand\": \"Ford\",\"model\": \"Mustang\", \"year\": 1964}\n",
    "car.pop(\"model\") \n",
    "print(car)\n"
   ]
  },
  {
   "cell_type": "code",
   "execution_count": 15,
   "id": "ff8ae540",
   "metadata": {},
   "outputs": [
    {
     "name": "stdout",
     "output_type": "stream",
     "text": [
      "{'brand': 'Ford', 'model': 'Mustang'}\n"
     ]
    }
   ],
   "source": [
    "#Remove the last item from the dictionary WIth popitem. \n",
    "car = {\"brand\": \"Ford\",\"model\": \"Mustang\", \"year\": 1964}\n",
    "car.popitem() \n",
    "print(car)"
   ]
  },
  {
   "cell_type": "code",
   "execution_count": 16,
   "id": "82748df6",
   "metadata": {},
   "outputs": [
    {
     "name": "stdout",
     "output_type": "stream",
     "text": [
      "Mustang\n"
     ]
    }
   ],
   "source": [
    "#The setdefault() method returns the value of the item with the specified key.\n",
    "car = {\"brand\": \"Ford\",\"model\": \"Mustang\", \"year\": 1964}\n",
    "x = car.setdefault(\"model\", \"Bronco\") \n",
    "print(x)\n"
   ]
  },
  {
   "cell_type": "code",
   "execution_count": 17,
   "id": "1f26d9e8",
   "metadata": {},
   "outputs": [
    {
     "name": "stdout",
     "output_type": "stream",
     "text": [
      "{'brand': 'Ford', 'model': 'Mustang', 'year': 1964, 'color': 'White'}\n"
     ]
    }
   ],
   "source": [
    "#The update() method inserts the specified items to the dictionary.\n",
    "car = {\"brand\": \"Ford\",\"model\": \"Mustang\", \"year\": 1964}\n",
    "car.update({\"color\": \"White\"})\n",
    "print(car)\n"
   ]
  },
  {
   "cell_type": "code",
   "execution_count": 18,
   "id": "b4029904",
   "metadata": {},
   "outputs": [
    {
     "name": "stdout",
     "output_type": "stream",
     "text": [
      "{'brand': 'Ford', 'year': 1964}\n"
     ]
    }
   ],
   "source": [
    "#The del keyword removes the item with the specified key name.\n",
    "thisdict = { \"brand\": \"Ford\",\"model\": \"Mustang\", \"year\": 1964}\n",
    "del thisdict[\"model\"] \n",
    "print(thisdict)"
   ]
  },
  {
   "cell_type": "code",
   "execution_count": 19,
   "id": "d0fc2bc6",
   "metadata": {},
   "outputs": [
    {
     "ename": "NameError",
     "evalue": "name 'thisdict' is not defined",
     "output_type": "error",
     "traceback": [
      "\u001b[1;31m---------------------------------------------------------------------------\u001b[0m",
      "\u001b[1;31mNameError\u001b[0m                                 Traceback (most recent call last)",
      "\u001b[1;32m~\\AppData\\Local\\Temp/ipykernel_25116/1812881692.py\u001b[0m in \u001b[0;36m<module>\u001b[1;34m\u001b[0m\n\u001b[0;32m      2\u001b[0m \u001b[0mthisdict\u001b[0m \u001b[1;33m=\u001b[0m \u001b[1;33m{\u001b[0m\u001b[1;34m\"brand\"\u001b[0m\u001b[1;33m:\u001b[0m \u001b[1;34m\"Ford\"\u001b[0m\u001b[1;33m,\u001b[0m\u001b[1;34m\"model\"\u001b[0m\u001b[1;33m:\u001b[0m \u001b[1;34m\"Mustang\"\u001b[0m\u001b[1;33m,\u001b[0m \u001b[1;34m\"year\"\u001b[0m\u001b[1;33m:\u001b[0m \u001b[1;36m1964\u001b[0m\u001b[1;33m}\u001b[0m\u001b[1;33m\u001b[0m\u001b[1;33m\u001b[0m\u001b[0m\n\u001b[0;32m      3\u001b[0m \u001b[1;32mdel\u001b[0m \u001b[0mthisdict\u001b[0m\u001b[1;33m\u001b[0m\u001b[1;33m\u001b[0m\u001b[0m\n\u001b[1;32m----> 4\u001b[1;33m \u001b[0mprint\u001b[0m\u001b[1;33m(\u001b[0m\u001b[0mthisdict\u001b[0m\u001b[1;33m)\u001b[0m\u001b[1;33m\u001b[0m\u001b[1;33m\u001b[0m\u001b[0m\n\u001b[0m",
      "\u001b[1;31mNameError\u001b[0m: name 'thisdict' is not defined"
     ]
    }
   ],
   "source": [
    "#The del keyword can also delete the dictionary completely. \n",
    "thisdict = {\"brand\": \"Ford\",\"model\": \"Mustang\", \"year\": 1964}\n",
    "del thisdict\n",
    "print(thisdict) #this will cause an error because \"thisdict\" no longer exists."
   ]
  },
  {
   "cell_type": "code",
   "execution_count": 20,
   "id": "4ec21da9",
   "metadata": {},
   "outputs": [
    {
     "name": "stdout",
     "output_type": "stream",
     "text": [
      "Yes, 'model' is one of the keys in the thisdict dictionary\n"
     ]
    }
   ],
   "source": [
    "#To determine if a specified key is present in a dictionary use the in keyword.\n",
    "thisdict = {\"brand\": \"Ford\",\"model\": \"Mustang\", \"year\": 1964}\n",
    "if \"model\" in thisdict:\n",
    "    print(\"Yes, 'model' is one of the keys in the thisdict dictionary\") "
   ]
  },
  {
   "cell_type": "code",
   "execution_count": 21,
   "id": "e42d06c0",
   "metadata": {},
   "outputs": [
    {
     "name": "stdout",
     "output_type": "stream",
     "text": [
      "3\n"
     ]
    }
   ],
   "source": [
    "#Print the number of items in the dictionary.\n",
    "thisdict = { \"brand\": \"Ford\",\"model\": \"Mustang\", \"year\": 1964,\"year\": 2020}\n",
    "print(len(thisdict))"
   ]
  },
  {
   "cell_type": "code",
   "execution_count": 26,
   "id": "06afd818",
   "metadata": {},
   "outputs": [
    {
     "name": "stdout",
     "output_type": "stream",
     "text": [
      "brand\n",
      "model\n",
      "year\n",
      "brand\n",
      "model\n",
      "year\n"
     ]
    }
   ],
   "source": [
    "#Loop Through a Dictionary:\n",
    "#Print all key names in the dictionary, one by one. \n",
    "thisdict ={\"brand\": \"Ford\",\"model\": \"Mustang\", \"year\": 1964}\n",
    "for x in thisdict: \n",
    "    print(x)\n",
    "#You can also use the keys() method to return keys of a dictionary. \n",
    "for x in thisdict.keys(): \n",
    "    print(x)\n"
   ]
  },
  {
   "cell_type": "code",
   "execution_count": 28,
   "id": "2838e927",
   "metadata": {},
   "outputs": [
    {
     "name": "stdout",
     "output_type": "stream",
     "text": [
      "Ford\n",
      "Mustang\n",
      "1964\n",
      "Ford\n",
      "Mustang\n",
      "1964\n"
     ]
    }
   ],
   "source": [
    "#Print all values in the dictionary, one by one.\n",
    "thisdict ={\"brand\": \"Ford\",\"model\": \"Mustang\", \"year\": 1964}\n",
    "for x in thisdict: \n",
    "    print(thisdict[x])\n",
    "#You can also use the values() method to return values of a dictionary\n",
    "for x in thisdict.values(): \n",
    "    print(x)"
   ]
  },
  {
   "cell_type": "code",
   "execution_count": 29,
   "id": "0e07b24a",
   "metadata": {},
   "outputs": [
    {
     "name": "stdout",
     "output_type": "stream",
     "text": [
      "brand Ford\n",
      "model Mustang\n",
      "year 1964\n",
      "('brand', 'Ford')\n",
      "('model', 'Mustang')\n",
      "('year', 1964)\n"
     ]
    }
   ],
   "source": [
    "#Print all items in the dictionary, one by one.\n",
    "thisdict ={\"brand\": \"Ford\",\"model\": \"Mustang\", \"year\": 1964}\n",
    "for x in thisdict: \n",
    "    print(x,thisdict[x])\n",
    "#You can also use the items() method to return items of a dictionary\n",
    "for x in thisdict.items(): \n",
    "    print(x)"
   ]
  },
  {
   "cell_type": "code",
   "execution_count": null,
   "id": "16129456",
   "metadata": {},
   "outputs": [],
   "source": []
  }
 ],
 "metadata": {
  "kernelspec": {
   "display_name": "Python 3 (ipykernel)",
   "language": "python",
   "name": "python3"
  },
  "language_info": {
   "codemirror_mode": {
    "name": "ipython",
    "version": 3
   },
   "file_extension": ".py",
   "mimetype": "text/x-python",
   "name": "python",
   "nbconvert_exporter": "python",
   "pygments_lexer": "ipython3",
   "version": "3.9.7"
  }
 },
 "nbformat": 4,
 "nbformat_minor": 5
}
