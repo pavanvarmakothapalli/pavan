{
 "cells": [
  {
   "cell_type": "code",
   "execution_count": 3,
   "id": "312f5e75",
   "metadata": {},
   "outputs": [],
   "source": [
    "class pavan:\n",
    "    a=\"pavan\"\n",
    "    b=25\n",
    "    def hello(self):\n",
    "        print(\"Hello world\")\n",
    "ob1=pavan()"
   ]
  },
  {
   "cell_type": "code",
   "execution_count": 5,
   "id": "8d46e557",
   "metadata": {},
   "outputs": [
    {
     "name": "stdout",
     "output_type": "stream",
     "text": [
      "Hello world\n"
     ]
    },
    {
     "data": {
      "text/plain": [
       "25"
      ]
     },
     "execution_count": 5,
     "metadata": {},
     "output_type": "execute_result"
    }
   ],
   "source": [
    "ob1.hello()\n",
    "ob1.b"
   ]
  },
  {
   "cell_type": "code",
   "execution_count": 6,
   "id": "53ef49fd",
   "metadata": {},
   "outputs": [
    {
     "name": "stdout",
     "output_type": "stream",
     "text": [
      "Object Created\n"
     ]
    }
   ],
   "source": [
    "class program:\n",
    "    def __init__(self):\n",
    "        print(\"Object Created\")\n",
    "ob=program()"
   ]
  },
  {
   "cell_type": "code",
   "execution_count": 36,
   "id": "da90d85a",
   "metadata": {},
   "outputs": [
    {
     "name": "stdout",
     "output_type": "stream",
     "text": [
      "15\n",
      "Destructor called, Employee deleted.\n",
      "The roll is: 30\n",
      "The name is: pavan\n",
      "The mobile is: 9959622225\n",
      "The class variable: 15\n",
      "pavan\n",
      "Destructor called, Employee deleted.\n"
     ]
    }
   ],
   "source": [
    "abc=15\n",
    "class srkr:\n",
    "    a=10\n",
    "    print(abc)\n",
    "    def __init__(self,roll,name,mobile):\n",
    "        self.roll=roll\n",
    "        self.name=name\n",
    "        self.mobile=mobile\n",
    "    def display(self):\n",
    "        a=15\n",
    "        print(\"The roll is:\",self.roll)\n",
    "        print(\"The name is:\",self.name)\n",
    "        print(\"The mobile is:\",self.mobile)\n",
    "        print(\"The class variable:\",a)\n",
    "    def welcome(self,name,mobile):\n",
    "        print(name)\n",
    "    def __del__(self):\n",
    "        print('Destructor called, Employee deleted.')\n",
    "ob1=srkr(30,\"pavan\",9959622225)\n",
    "ob1.display()\n",
    "ob1.welcome(\"pavan\",9959622225)\n",
    "del ob1"
   ]
  },
  {
   "cell_type": "code",
   "execution_count": 38,
   "id": "8dde7d2a",
   "metadata": {},
   "outputs": [
    {
     "name": "stdout",
     "output_type": "stream",
     "text": [
      "PAVAN   KUMAR\n",
      "Person number :  7\n",
      "SIVA   RAGHU\n",
      "Person number :  23\n",
      "5\n"
     ]
    }
   ],
   "source": [
    "class Person:\n",
    "    pc=5 # Class varibles\n",
    "    def setFullName(self,fName,lName): \n",
    "        self.fName=fName # instance variables \n",
    "        self.lName=lName # instance variables\n",
    "\n",
    "    def printFullName(self):\n",
    "        print(self.fName,\" \",self.lName)\n",
    "        print(\"Person number : \",self.pc) #access Classvariable\n",
    "PName=Person() #Object PName created \n",
    "PName.setFullName(\"PAVAN\",\"KUMAR\")\n",
    "PName.pc=7 #Attribute pc of PName modified \n",
    "PName.printFullName()\n",
    "P=Person() #Object P created \n",
    "P.setFullName(\"SIVA\",\"RAGHU\")\n",
    "P.pc=23 #Attribute pc of P modified \n",
    "P.printFullName()\n",
    "p2=Person()\n",
    "print(p2.pc)\n"
   ]
  },
  {
   "cell_type": "code",
   "execution_count": 4,
   "id": "831726b4",
   "metadata": {},
   "outputs": [
    {
     "name": "stdout",
     "output_type": "stream",
     "text": [
      "CHILD CLASS\n",
      "PARENT CLASS\n"
     ]
    }
   ],
   "source": [
    "#SINGLE level INHERITANCE\n",
    "class parent:\n",
    "    a=30\n",
    "    def show(self):\n",
    "        print(\"PARENT CLASS\")\n",
    "class child(parent):\n",
    "    b=30\n",
    "    def display(self):\n",
    "        print(\"CHILD CLASS\")\n",
    "OB1 = child()\n",
    "OB1.display()\n",
    "OB1.show()"
   ]
  },
  {
   "cell_type": "code",
   "execution_count": 6,
   "id": "5991489d",
   "metadata": {},
   "outputs": [
    {
     "name": "stdout",
     "output_type": "stream",
     "text": [
      "CHILD 1 CLASS\n",
      "PARENT CLASS\n",
      "CHILD 2 CLASS\n",
      "PARENT CLASS\n"
     ]
    }
   ],
   "source": [
    "#Hierarchial inheritance\n",
    "class parent:\n",
    "    a=30\n",
    "    def show(self):\n",
    "        print(\"PARENT CLASS\")\n",
    "class child1(parent):\n",
    "    b=30\n",
    "    def display(self):\n",
    "        print(\"CHILD 1 CLASS\")\n",
    "class child2(parent):\n",
    "    c=40\n",
    "    def hello(self):\n",
    "        print(\"CHILD 2 CLASS\")\n",
    "OB1 = child1()\n",
    "OB1.display()\n",
    "OB1.show()\n",
    "OB2 = child2()\n",
    "OB2.hello()\n",
    "OB2.show()"
   ]
  },
  {
   "cell_type": "code",
   "execution_count": 15,
   "id": "a19f6406",
   "metadata": {},
   "outputs": [
    {
     "name": "stdout",
     "output_type": "stream",
     "text": [
      "GRAND CHILD CLASS\n"
     ]
    },
    {
     "data": {
      "text/plain": [
       "30"
      ]
     },
     "execution_count": 15,
     "metadata": {},
     "output_type": "execute_result"
    }
   ],
   "source": [
    "#Multilevel inheritance\n",
    "class parent:\n",
    "    a=30\n",
    "    def display(self):\n",
    "        print(\"PARENT CLASS\")\n",
    "class child(parent):\n",
    "    b=30\n",
    "    def display(self):\n",
    "        print(\"CHILD CLASS\")\n",
    "class gchild(child):\n",
    "    def display(self):\n",
    "        print(\"GRAND CHILD CLASS\")        \n",
    "ob1=gchild()\n",
    "ob1.display()\n",
    "ob1.a\n",
    "ob1.b\n"
   ]
  },
  {
   "cell_type": "code",
   "execution_count": 21,
   "id": "837fd86a",
   "metadata": {},
   "outputs": [
    {
     "data": {
      "text/plain": [
       "20"
      ]
     },
     "execution_count": 21,
     "metadata": {},
     "output_type": "execute_result"
    }
   ],
   "source": [
    "#Multiple Inheritance\n",
    "class parent:\n",
    "    a=30\n",
    "    def display(self):\n",
    "        print(\"PARENT CLASS\")\n",
    "class parent2:\n",
    "    b=20\n",
    "    def p2display(self):\n",
    "        print(\"PARENT CLASS\")\n",
    "class parent3:\n",
    "    d=20\n",
    "    def p3display(self):\n",
    "        print(\"PARENT CLASS\")\n",
    "class child(parent,parent2,parent3):\n",
    "    c=10\n",
    "    def cdisplay(self):\n",
    "        print(\"CHILD CLASS\")\n",
    "ob1=child()\n",
    "ob1.d"
   ]
  },
  {
   "cell_type": "code",
   "execution_count": 39,
   "id": "86e8b130",
   "metadata": {},
   "outputs": [
    {
     "ename": "UnboundLocalError",
     "evalue": "local variable 'self__secretCount' referenced before assignment",
     "output_type": "error",
     "traceback": [
      "\u001b[1;31m---------------------------------------------------------------------------\u001b[0m",
      "\u001b[1;31mUnboundLocalError\u001b[0m                         Traceback (most recent call last)",
      "\u001b[1;32m~\\AppData\\Local\\Temp/ipykernel_11220/1388286083.py\u001b[0m in \u001b[0;36m<module>\u001b[1;34m\u001b[0m\n\u001b[0;32m     21\u001b[0m         \u001b[0mprint\u001b[0m\u001b[1;33m(\u001b[0m\u001b[0mself\u001b[0m\u001b[1;33m.\u001b[0m\u001b[0m__secretCount\u001b[0m\u001b[1;33m)\u001b[0m\u001b[1;33m\u001b[0m\u001b[1;33m\u001b[0m\u001b[0m\n\u001b[0;32m     22\u001b[0m \u001b[0mcounter\u001b[0m \u001b[1;33m=\u001b[0m \u001b[0mJustCounter\u001b[0m\u001b[1;33m(\u001b[0m\u001b[1;33m)\u001b[0m\u001b[1;33m\u001b[0m\u001b[1;33m\u001b[0m\u001b[0m\n\u001b[1;32m---> 23\u001b[1;33m \u001b[0mcounter\u001b[0m\u001b[1;33m.\u001b[0m\u001b[0mcount\u001b[0m\u001b[1;33m(\u001b[0m\u001b[1;33m)\u001b[0m\u001b[1;33m\u001b[0m\u001b[1;33m\u001b[0m\u001b[0m\n\u001b[0m\u001b[0;32m     24\u001b[0m \u001b[0mcounter\u001b[0m\u001b[1;33m.\u001b[0m\u001b[0mcount\u001b[0m\u001b[1;33m(\u001b[0m\u001b[1;33m)\u001b[0m\u001b[1;33m\u001b[0m\u001b[1;33m\u001b[0m\u001b[0m\n\u001b[0;32m     25\u001b[0m \u001b[0mprint\u001b[0m\u001b[1;33m(\u001b[0m\u001b[0mcounter\u001b[0m\u001b[1;33m.\u001b[0m\u001b[0m__secretCount\u001b[0m\u001b[1;33m)\u001b[0m\u001b[1;33m\u001b[0m\u001b[1;33m\u001b[0m\u001b[0m\n",
      "\u001b[1;32m~\\AppData\\Local\\Temp/ipykernel_11220/1388286083.py\u001b[0m in \u001b[0;36mcount\u001b[1;34m(self)\u001b[0m\n\u001b[0;32m     18\u001b[0m     \u001b[0m__secretCount\u001b[0m \u001b[1;33m=\u001b[0m \u001b[1;36m0\u001b[0m\u001b[1;33m\u001b[0m\u001b[1;33m\u001b[0m\u001b[0m\n\u001b[0;32m     19\u001b[0m     \u001b[1;32mdef\u001b[0m \u001b[0mcount\u001b[0m\u001b[1;33m(\u001b[0m\u001b[0mself\u001b[0m\u001b[1;33m)\u001b[0m\u001b[1;33m:\u001b[0m\u001b[1;33m\u001b[0m\u001b[1;33m\u001b[0m\u001b[0m\n\u001b[1;32m---> 20\u001b[1;33m         \u001b[0mself__secretCount\u001b[0m \u001b[1;33m+=\u001b[0m \u001b[1;36m1\u001b[0m\u001b[1;33m\u001b[0m\u001b[1;33m\u001b[0m\u001b[0m\n\u001b[0m\u001b[0;32m     21\u001b[0m         \u001b[0mprint\u001b[0m\u001b[1;33m(\u001b[0m\u001b[0mself\u001b[0m\u001b[1;33m.\u001b[0m\u001b[0m__secretCount\u001b[0m\u001b[1;33m)\u001b[0m\u001b[1;33m\u001b[0m\u001b[1;33m\u001b[0m\u001b[0m\n\u001b[0;32m     22\u001b[0m \u001b[0mcounter\u001b[0m \u001b[1;33m=\u001b[0m \u001b[0mJustCounter\u001b[0m\u001b[1;33m(\u001b[0m\u001b[1;33m)\u001b[0m\u001b[1;33m\u001b[0m\u001b[1;33m\u001b[0m\u001b[0m\n",
      "\u001b[1;31mUnboundLocalError\u001b[0m: local variable 'self__secretCount' referenced before assignment"
     ]
    }
   ],
   "source": [
    "#Encapsulation\n",
    "class Computer:\n",
    "    __a=50\n",
    "    def __init__(self):\n",
    "        self.__maxprice = 900\n",
    "\n",
    "    def sell(self):\n",
    "        print(\"Selling Price: {}\".format(self.__maxprice))\n",
    "        print(self.__a)\n",
    "\n",
    "    def setMaxPrice(self, price):\n",
    "        self.__maxprice = price\n",
    "        \n",
    "    def __encap(self):\n",
    "        print(\"encap\")\n",
    "        \n",
    "\n",
    "\n",
    "c = Computer()\n",
    "c.sell()\n",
    "\n",
    "# change the price\n",
    "c.__maxprice = 1000\n",
    "c.sell()\n",
    "\n",
    "# using setter function\n",
    "c.setMaxPrice(1000)\n",
    "c.sell()\n",
    "c.__encap()\n",
    "\n"
   ]
  },
  {
   "cell_type": "code",
   "execution_count": 34,
   "id": "2fa019ec",
   "metadata": {},
   "outputs": [
    {
     "name": "stdout",
     "output_type": "stream",
     "text": [
      "WELCOME TO ATM\n",
      "New Account created\n",
      "enter amount to deposit:15000\n",
      "new balance is: 15000\n",
      "enter amount to withdraw:5600\n",
      "new balance is: 9400\n",
      "Balance is: 9400\n",
      "Thank you for banking\n"
     ]
    }
   ],
   "source": [
    "#CASESTUDY ON ATM\n",
    "class ATM:\n",
    "    def __init__(self):\n",
    "        self.balance=0\n",
    "        print(\"WELCOME TO ATM\")\n",
    "        print(\"New Account created\") \n",
    "    def deposit(self):\n",
    "        amount=int(input(\"enter amount to deposit:\")) \n",
    "        self.balance=self.balance+amount \n",
    "        print(\"new balance is:\",self.balance) \n",
    "    def withdraw(self):\n",
    "        amount=int(input(\"enter amount to withdraw:\")) \n",
    "        if self.balance<amount:\n",
    "            print(\"Insufficient Balance\") \n",
    "        else:\n",
    "            self.balance=self.balance-amount \n",
    "            print(\"new balance is:\",self.balance)\n",
    "    def enquiry(self):\n",
    "        print(\"Balance is:\",self.balance)\n",
    "        print(\"Thank you for banking\")\n",
    "a=ATM()\n",
    "a.deposit() \n",
    "a.withdraw() \n",
    "a.enquiry() "
   ]
  },
  {
   "cell_type": "code",
   "execution_count": 20,
   "id": "28a4fd2c",
   "metadata": {},
   "outputs": [
    {
     "name": "stdout",
     "output_type": "stream",
     "text": [
      "I am class B and I have data 20\n"
     ]
    }
   ],
   "source": [
    "#Polymorphism - Method Overriding\n",
    "class A:\n",
    "    i=10\n",
    "    def display(self):\n",
    "        print(\"I am class A and I have data\",self.i)\n",
    "class B(A):\n",
    "    j=20\n",
    "    def display(self):\n",
    "        print(\"I am class B and I have data\",self.j)\n",
    "obj=B() \n",
    "obj.display()\n"
   ]
  },
  {
   "cell_type": "code",
   "execution_count": 23,
   "id": "6dceb7cd",
   "metadata": {},
   "outputs": [
    {
     "name": "stdout",
     "output_type": "stream",
     "text": [
      "I am class A and I have data 10\n",
      "I am class B and I have data 20\n",
      "20\n",
      "30\n"
     ]
    }
   ],
   "source": [
    "#Polymorphism - Method Overriding Using Super\n",
    "class A:\n",
    "    i=10\n",
    "    k=20\n",
    "    def display(self):\n",
    "        print(\"I am class A and I have data\",self.i)\n",
    "class B(A):\n",
    "    j=20\n",
    "    k=30\n",
    "    def display(self):\n",
    "        super().display()\n",
    "        print(\"I am class B and I have data\",self.j)\n",
    "        print(super().k)\n",
    "        print(self.k)\n",
    "obj=B() \n",
    "obj.display()\n"
   ]
  },
  {
   "cell_type": "code",
   "execution_count": 24,
   "id": "426a93f5",
   "metadata": {},
   "outputs": [
    {
     "name": "stdout",
     "output_type": "stream",
     "text": [
      "3\n",
      "LearnFor\n",
      "12\n",
      "LearnLearnLearnLearn\n"
     ]
    }
   ],
   "source": [
    "#Operator Overloading\n",
    "# Python program to show use of + and * operator for different purposes.\n",
    "\n",
    "#Adding two numbers\n",
    "print(1 + 2)\n",
    "\n",
    "# concatenate two strings \n",
    "\n",
    "print(\"Learn\"+\"For\")\n",
    "\n",
    "# Product two numbers \n",
    "\n",
    "print(3 * 4)\n",
    "\n",
    "# Repeat the String\n",
    "\n",
    "print(\"Learn\"*4) \n"
   ]
  },
  {
   "cell_type": "code",
   "execution_count": 32,
   "id": "3b987836",
   "metadata": {},
   "outputs": [
    {
     "name": "stdout",
     "output_type": "stream",
     "text": [
      "0\n",
      "5\n",
      "11\n",
      "Hello World\n"
     ]
    },
    {
     "ename": "TypeError",
     "evalue": "display() takes from 1 to 3 positional arguments but 4 were given",
     "output_type": "error",
     "traceback": [
      "\u001b[1;31m---------------------------------------------------------------------------\u001b[0m",
      "\u001b[1;31mTypeError\u001b[0m                                 Traceback (most recent call last)",
      "\u001b[1;32m~\\AppData\\Local\\Temp/ipykernel_11220/599471702.py\u001b[0m in \u001b[0;36m<module>\u001b[1;34m\u001b[0m\n\u001b[0;32m      8\u001b[0m \u001b[0mob\u001b[0m\u001b[1;33m.\u001b[0m\u001b[0mdisplay\u001b[0m\u001b[1;33m(\u001b[0m\u001b[1;36m5\u001b[0m\u001b[1;33m,\u001b[0m\u001b[1;36m6\u001b[0m\u001b[1;33m)\u001b[0m\u001b[1;33m\u001b[0m\u001b[1;33m\u001b[0m\u001b[0m\n\u001b[0;32m      9\u001b[0m \u001b[0mob\u001b[0m\u001b[1;33m.\u001b[0m\u001b[0mdisplay\u001b[0m\u001b[1;33m(\u001b[0m\u001b[1;34m\"Hello\"\u001b[0m\u001b[1;33m,\u001b[0m\u001b[1;34m\" World\"\u001b[0m\u001b[1;33m)\u001b[0m\u001b[1;33m\u001b[0m\u001b[1;33m\u001b[0m\u001b[0m\n\u001b[1;32m---> 10\u001b[1;33m \u001b[0mob\u001b[0m\u001b[1;33m.\u001b[0m\u001b[0mdisplay\u001b[0m\u001b[1;33m(\u001b[0m\u001b[1;36m5\u001b[0m\u001b[1;33m,\u001b[0m\u001b[1;36m6\u001b[0m\u001b[1;33m,\u001b[0m\u001b[1;36m7\u001b[0m\u001b[1;33m)\u001b[0m\u001b[1;33m\u001b[0m\u001b[1;33m\u001b[0m\u001b[0m\n\u001b[0m",
      "\u001b[1;31mTypeError\u001b[0m: display() takes from 1 to 3 positional arguments but 4 were given"
     ]
    }
   ],
   "source": [
    "#Method Overloading\n",
    "class overload:\n",
    "    def display(self,a=0,b=0):\n",
    "        print(a+b)\n",
    "ob=overload()\n",
    "ob.display(0)\n",
    "ob.display(5)\n",
    "ob.display(5,6)\n",
    "ob.display(\"Hello\",\" World\")\n",
    "ob.display(5,6,7)"
   ]
  },
  {
   "cell_type": "code",
   "execution_count": 41,
   "id": "59b3d2a0",
   "metadata": {},
   "outputs": [
    {
     "name": "stdout",
     "output_type": "stream",
     "text": [
      "1\n",
      "2\n"
     ]
    },
    {
     "ename": "AttributeError",
     "evalue": "'JustCounter' object has no attribute '__secretCount'",
     "output_type": "error",
     "traceback": [
      "\u001b[1;31m---------------------------------------------------------------------------\u001b[0m",
      "\u001b[1;31mAttributeError\u001b[0m                            Traceback (most recent call last)",
      "\u001b[1;32m~\\AppData\\Local\\Temp/ipykernel_11220/1652913674.py\u001b[0m in \u001b[0;36m<module>\u001b[1;34m\u001b[0m\n\u001b[0;32m      7\u001b[0m \u001b[0mcounter\u001b[0m\u001b[1;33m.\u001b[0m\u001b[0mcount\u001b[0m\u001b[1;33m(\u001b[0m\u001b[1;33m)\u001b[0m\u001b[1;33m\u001b[0m\u001b[1;33m\u001b[0m\u001b[0m\n\u001b[0;32m      8\u001b[0m \u001b[0mcounter\u001b[0m\u001b[1;33m.\u001b[0m\u001b[0mcount\u001b[0m\u001b[1;33m(\u001b[0m\u001b[1;33m)\u001b[0m\u001b[1;33m\u001b[0m\u001b[1;33m\u001b[0m\u001b[0m\n\u001b[1;32m----> 9\u001b[1;33m \u001b[0mprint\u001b[0m\u001b[1;33m(\u001b[0m\u001b[0mcounter\u001b[0m\u001b[1;33m.\u001b[0m\u001b[0m__secretCount\u001b[0m\u001b[1;33m)\u001b[0m\u001b[1;33m\u001b[0m\u001b[1;33m\u001b[0m\u001b[0m\n\u001b[0m",
      "\u001b[1;31mAttributeError\u001b[0m: 'JustCounter' object has no attribute '__secretCount'"
     ]
    }
   ],
   "source": [
    "#Encapsulation\n",
    "class JustCounter:\n",
    "    __secretCount = 0 \n",
    "    def count(self):\n",
    "        self.__secretCount += 1 \n",
    "        print(self.__secretCount)\n",
    "counter = JustCounter() \n",
    "counter.count() \n",
    "counter.count()\n",
    "print(counter.__secretCount)"
   ]
  },
  {
   "cell_type": "code",
   "execution_count": 43,
   "id": "3015ad85",
   "metadata": {},
   "outputs": [
    {
     "name": "stdout",
     "output_type": "stream",
     "text": [
      "False\n",
      "True\n",
      "PAVAN KUMAR\n"
     ]
    },
    {
     "ename": "AttributeError",
     "evalue": "'EMP' object has no attribute 'name'",
     "output_type": "error",
     "traceback": [
      "\u001b[1;31m---------------------------------------------------------------------------\u001b[0m",
      "\u001b[1;31mAttributeError\u001b[0m                            Traceback (most recent call last)",
      "\u001b[1;32m~\\AppData\\Local\\Temp/ipykernel_11220/2571137555.py\u001b[0m in \u001b[0;36m<module>\u001b[1;34m\u001b[0m\n\u001b[0;32m      9\u001b[0m \u001b[0mprint\u001b[0m\u001b[1;33m(\u001b[0m\u001b[0me2\u001b[0m\u001b[1;33m.\u001b[0m\u001b[0memployee\u001b[0m\u001b[1;33m)\u001b[0m\u001b[1;33m\u001b[0m\u001b[1;33m\u001b[0m\u001b[0m\n\u001b[0;32m     10\u001b[0m \u001b[0mprint\u001b[0m\u001b[1;33m(\u001b[0m\u001b[0me2\u001b[0m\u001b[1;33m.\u001b[0m\u001b[0mname\u001b[0m\u001b[1;33m)\u001b[0m\u001b[1;33m\u001b[0m\u001b[1;33m\u001b[0m\u001b[0m\n\u001b[1;32m---> 11\u001b[1;33m \u001b[0mprint\u001b[0m\u001b[1;33m(\u001b[0m\u001b[0me1\u001b[0m\u001b[1;33m.\u001b[0m\u001b[0mname\u001b[0m\u001b[1;33m)\u001b[0m \u001b[1;31m# this will raise an error as name is a dynamic attribute created only for the e2 object\u001b[0m\u001b[1;33m\u001b[0m\u001b[1;33m\u001b[0m\u001b[0m\n\u001b[0m",
      "\u001b[1;31mAttributeError\u001b[0m: 'EMP' object has no attribute 'name'"
     ]
    }
   ],
   "source": [
    "#Adding and retrieving dynamic attributes of classes:\n",
    "class EMP:\n",
    "    employee = True \n",
    "e1 = EMP()\n",
    "e2 = EMP()\n",
    "e1.employee = False\n",
    "e2.name = \"PAVAN KUMAR\" #DYNAMIC ATTRIBUTE\n",
    "print(e1.employee)\n",
    "print(e2.employee) \n",
    "print(e2.name)\n",
    "print(e1.name) # this will raise an error as name is a dynamic attribute created only for the e2 object\n"
   ]
  },
  {
   "cell_type": "code",
   "execution_count": 1,
   "id": "9d7c04c0",
   "metadata": {},
   "outputs": [
    {
     "ename": "TypeError",
     "evalue": "Can't instantiate abstract class Abstract with abstract method display",
     "output_type": "error",
     "traceback": [
      "\u001b[1;31m---------------------------------------------------------------------------\u001b[0m",
      "\u001b[1;31mTypeError\u001b[0m                                 Traceback (most recent call last)",
      "\u001b[1;32m~\\AppData\\Local\\Temp/ipykernel_2532/1750265173.py\u001b[0m in \u001b[0;36m<module>\u001b[1;34m\u001b[0m\n\u001b[0;32m      5\u001b[0m     \u001b[1;32mdef\u001b[0m \u001b[0mdisplay\u001b[0m\u001b[1;33m(\u001b[0m\u001b[0mself\u001b[0m\u001b[1;33m)\u001b[0m\u001b[1;33m:\u001b[0m\u001b[1;33m\u001b[0m\u001b[1;33m\u001b[0m\u001b[0m\n\u001b[0;32m      6\u001b[0m         \u001b[1;32mNone\u001b[0m\u001b[1;33m\u001b[0m\u001b[1;33m\u001b[0m\u001b[0m\n\u001b[1;32m----> 7\u001b[1;33m \u001b[0mob\u001b[0m \u001b[1;33m=\u001b[0m \u001b[0mAbstract\u001b[0m\u001b[1;33m(\u001b[0m\u001b[1;33m)\u001b[0m\u001b[1;33m\u001b[0m\u001b[1;33m\u001b[0m\u001b[0m\n\u001b[0m",
      "\u001b[1;31mTypeError\u001b[0m: Can't instantiate abstract class Abstract with abstract method display"
     ]
    }
   ],
   "source": [
    "#ABSTRACTION\n",
    "from abc import ABC,abstractmethod\n",
    "class Abstract(ABC):\n",
    "    @abstractmethod\n",
    "    def display(self):\n",
    "        None\n",
    "ob = Abstract() # WIll Rise Error\n"
   ]
  },
  {
   "cell_type": "code",
   "execution_count": 6,
   "id": "a80e972a",
   "metadata": {},
   "outputs": [
    {
     "name": "stdout",
     "output_type": "stream",
     "text": [
      "Abstract Method\n"
     ]
    }
   ],
   "source": [
    "from abc import ABC,abstractmethod\n",
    "class Abstract(ABC):  #AbstractClass\n",
    "    @abstractmethod\n",
    "    def display(self):\n",
    "        None\n",
    "class concrete(Abstract): #Concrete Class\n",
    "    def display(self):\n",
    "        print(\"Abstract Method\")\n",
    "ob = concrete()\n",
    "ob.display()"
   ]
  },
  {
   "cell_type": "code",
   "execution_count": 4,
   "id": "fc1828bd",
   "metadata": {},
   "outputs": [
    {
     "ename": "TypeError",
     "evalue": "Can't instantiate abstract class concrete with abstract method show",
     "output_type": "error",
     "traceback": [
      "\u001b[1;31m---------------------------------------------------------------------------\u001b[0m",
      "\u001b[1;31mTypeError\u001b[0m                                 Traceback (most recent call last)",
      "\u001b[1;32m~\\AppData\\Local\\Temp/ipykernel_2532/1117193247.py\u001b[0m in \u001b[0;36m<module>\u001b[1;34m\u001b[0m\n\u001b[0;32m     10\u001b[0m     \u001b[1;32mdef\u001b[0m \u001b[0mdisplay\u001b[0m\u001b[1;33m(\u001b[0m\u001b[0mself\u001b[0m\u001b[1;33m)\u001b[0m\u001b[1;33m:\u001b[0m\u001b[1;33m\u001b[0m\u001b[1;33m\u001b[0m\u001b[0m\n\u001b[0;32m     11\u001b[0m         \u001b[0mprint\u001b[0m\u001b[1;33m(\u001b[0m\u001b[1;34m\"Abstract Method\"\u001b[0m\u001b[1;33m)\u001b[0m\u001b[1;33m\u001b[0m\u001b[1;33m\u001b[0m\u001b[0m\n\u001b[1;32m---> 12\u001b[1;33m \u001b[0mob\u001b[0m \u001b[1;33m=\u001b[0m \u001b[0mconcrete\u001b[0m\u001b[1;33m(\u001b[0m\u001b[1;33m)\u001b[0m\u001b[1;33m\u001b[0m\u001b[1;33m\u001b[0m\u001b[0m\n\u001b[0m\u001b[0;32m     13\u001b[0m \u001b[0mob\u001b[0m\u001b[1;33m.\u001b[0m\u001b[0mdisplay\u001b[0m\u001b[1;33m(\u001b[0m\u001b[1;33m)\u001b[0m\u001b[1;33m\u001b[0m\u001b[1;33m\u001b[0m\u001b[0m\n",
      "\u001b[1;31mTypeError\u001b[0m: Can't instantiate abstract class concrete with abstract method show"
     ]
    }
   ],
   "source": [
    "from abc import ABC,abstractmethod\n",
    "class Abstract(ABC):\n",
    "    @abstractmethod\n",
    "    def display(self):\n",
    "        None\n",
    "    @abstractmethod\n",
    "    def show(self):\n",
    "        None\n",
    "class concrete(Abstract):\n",
    "    def display(self):\n",
    "        print(\"Abstract Method\")\n",
    "ob = concrete() #Will rise error because show method not written in concrete class"
   ]
  },
  {
   "cell_type": "code",
   "execution_count": 5,
   "id": "8ce5c3be",
   "metadata": {},
   "outputs": [
    {
     "name": "stdout",
     "output_type": "stream",
     "text": [
      "Abstract Method\n"
     ]
    }
   ],
   "source": [
    "from abc import ABC,abstractmethod\n",
    "class Abstract(ABC):\n",
    "    @abstractmethod\n",
    "    def display(self):\n",
    "        None\n",
    "    @abstractmethod\n",
    "    def show(self):\n",
    "        None\n",
    "class concrete(Abstract):\n",
    "    def display(self):\n",
    "        print(\"Abstract Method\")\n",
    "    def show(self):\n",
    "        print(\"Show Method\")\n",
    "ob = concrete()\n",
    "ob.display()"
   ]
  },
  {
   "cell_type": "code",
   "execution_count": null,
   "id": "1a9b043e",
   "metadata": {},
   "outputs": [],
   "source": []
  }
 ],
 "metadata": {
  "kernelspec": {
   "display_name": "Python 3 (ipykernel)",
   "language": "python",
   "name": "python3"
  },
  "language_info": {
   "codemirror_mode": {
    "name": "ipython",
    "version": 3
   },
   "file_extension": ".py",
   "mimetype": "text/x-python",
   "name": "python",
   "nbconvert_exporter": "python",
   "pygments_lexer": "ipython3",
   "version": "3.9.7"
  }
 },
 "nbformat": 4,
 "nbformat_minor": 5
}
