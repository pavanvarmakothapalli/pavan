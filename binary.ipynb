{
 "cells": [
  {
   "cell_type": "code",
   "execution_count": null,
   "id": "771dcf3b",
   "metadata": {},
   "outputs": [],
   "source": [
    "#Reading and Writing a Binary File\n",
    "my_file = open(\"bfile.bin\", \"wb+\")\n",
    "message = \"Hello Python\"\n",
    "file_encode = message.encode(\"ASCII\")\n",
    "my_file.write(file_encode)\n",
    "my_file.seek(0)\n",
    "bdata = my_file.read()\n",
    "print(\"Binary Data:\", bdata)\n",
    "ntext = bdata.decode(\"ASCII\")\n",
    "print(\"Normal data:\", ntext)"
   ]
  }
 ],
 "metadata": {
  "kernelspec": {
   "display_name": "Python 3 (ipykernel)",
   "language": "python",
   "name": "python3"
  },
  "language_info": {
   "codemirror_mode": {
    "name": "ipython",
    "version": 3
   },
   "file_extension": ".py",
   "mimetype": "text/x-python",
   "name": "python",
   "nbconvert_exporter": "python",
   "pygments_lexer": "ipython3",
   "version": "3.9.7"
  }
 },
 "nbformat": 4,
 "nbformat_minor": 5
}
