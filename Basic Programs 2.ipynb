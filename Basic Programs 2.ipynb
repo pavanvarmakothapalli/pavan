{
 "cells": [
  {
   "cell_type": "code",
   "execution_count": 11,
   "id": "c2be970b",
   "metadata": {},
   "outputs": [
    {
     "name": "stdout",
     "output_type": "stream",
     "text": [
      "Enter a string:pavan\n",
      "Enter the value for encryption:2\n",
      "The Encrypted Text is : rcxcp\n",
      "The Decrypted Text is : pavan\n"
     ]
    }
   ],
   "source": [
    "#Caeser Cypher Encryption\n",
    "normal_text=input(\"Enter a string:\")\n",
    "val = int(input(\"Enter the value for encryption:\"))\n",
    "cypher_text=\"\"\n",
    "for i in normal_text:\n",
    "    cypher_val = ord(i)+val\n",
    "    cypher_text += chr(cypher_val)\n",
    "print(\"The Encrypted Text is :\",cypher_text)\n",
    "#Decryption\n",
    "normal_text=\"\"\n",
    "for i in cypher_text:\n",
    "    cypher_val = ord(i)-val\n",
    "    normal_text += chr(cypher_val)\n",
    "print(\"The Decrypted Text is :\",normal_text)\n",
    "    "
   ]
  },
  {
   "cell_type": "code",
   "execution_count": 5,
   "id": "4b4c7053",
   "metadata": {},
   "outputs": [
    {
     "name": "stdout",
     "output_type": "stream",
     "text": [
      "Enter Bits:1111\n",
      "15\n"
     ]
    }
   ],
   "source": [
    "#Binary to Decimal\n",
    "bits=input(\"Enter Bits:\")\n",
    "decimal=0\n",
    "length = len(bits)-1\n",
    "for i in bits:\n",
    "    decimal=decimal+int(i)*2**length\n",
    "    length=length-1\n",
    "print(decimal)"
   ]
  },
  {
   "cell_type": "code",
   "execution_count": 9,
   "id": "d87b7310",
   "metadata": {},
   "outputs": [
    {
     "name": "stdout",
     "output_type": "stream",
     "text": [
      "Enter Decimal Value:7\n",
      "111\n"
     ]
    }
   ],
   "source": [
    "#Decimal to Binary\n",
    "decimal=int(input(\"Enter Decimal Value:\"))\n",
    "bits=\"\"\n",
    "while decimal!=0:\n",
    "    rem = decimal%2\n",
    "    bits+=str(rem)\n",
    "    decimal = decimal//2\n",
    "print(bits)\n"
   ]
  },
  {
   "cell_type": "code",
   "execution_count": 7,
   "id": "d9e9a19a",
   "metadata": {},
   "outputs": [
    {
     "name": "stdout",
     "output_type": "stream",
     "text": [
      "Enter the String:SRKR ENGINEERING COLLEGE\n",
      "COLLEGE ENGINEERING SRKR\n"
     ]
    }
   ],
   "source": [
    "#Reverse the words in a given String in Python\n",
    "str1=input(\"Enter the String:\")\n",
    "str2=str1.split()\n",
    "#print(str2)\n",
    "str3=\" \".join(reversed(str2))\n",
    "print(str3)"
   ]
  },
  {
   "cell_type": "code",
   "execution_count": 9,
   "id": "664bd307",
   "metadata": {},
   "outputs": [
    {
     "name": "stdout",
     "output_type": "stream",
     "text": [
      "Table of  2\n",
      "2\n",
      "4\n",
      "6\n",
      "8\n",
      "10\n",
      "Table of  3\n",
      "3\n",
      "6\n",
      "9\n",
      "12\n",
      "15\n",
      "Table of  4\n",
      "4\n",
      "8\n",
      "12\n",
      "16\n",
      "20\n",
      "Table of  5\n",
      "5\n",
      "10\n",
      "15\n",
      "20\n",
      "25\n"
     ]
    }
   ],
   "source": [
    "# printing table from 2 to 5, each table upto 5 iterations only using break statement\n",
    "for i in range(2,6):\n",
    "    print('Table of ',i)\n",
    "    for j in range(1,11):\n",
    "        print(i*j)\n",
    "        if (j == 5):\n",
    "            break\n"
   ]
  },
  {
   "cell_type": "code",
   "execution_count": 18,
   "id": "fd0d403a",
   "metadata": {},
   "outputs": [
    {
     "name": "stdout",
     "output_type": "stream",
     "text": [
      "Enter the number:25\n",
      "1 2 3 4 6 7 8 9 11 12 13 14 16 17 18 19 21 22 23 24 END\n",
      "1 2 3 4 6 7 8 9 11 12 13 14 16 17 18 19 21 22 23 24 "
     ]
    }
   ],
   "source": [
    "#print 1 to n numbers and skip 5 multipliers using continue statement and for and while loops\n",
    "num = int(input(\"Enter the number:\"))\n",
    "num1=num\n",
    "for i in range(num): #Using for loop\n",
    "    if i%5==0:\n",
    "        continue\n",
    "    print(i,end=\" \")\n",
    "print(\"END\")\n",
    "j=1\n",
    "while j<num1: #using while loop\n",
    "    if j%5==0:\n",
    "        j=j+1\n",
    "        continue\n",
    "    print(j,end=\" \")\n",
    "    j=j+1"
   ]
  },
  {
   "cell_type": "code",
   "execution_count": 19,
   "id": "a60eca1b",
   "metadata": {},
   "outputs": [
    {
     "name": "stdout",
     "output_type": "stream",
     "text": [
      "R\n",
      "K\n",
      "R\n"
     ]
    }
   ],
   "source": [
    "#Pass statement\n",
    "for i in 'SRKR':\n",
    "     if(i == 'S'):\n",
    "          pass\n",
    "     else:\n",
    "          print(i)"
   ]
  },
  {
   "cell_type": "code",
   "execution_count": 20,
   "id": "7a81d43b",
   "metadata": {},
   "outputs": [
    {
     "name": "stdout",
     "output_type": "stream",
     "text": [
      "h\n",
      "pass executed\n",
      "e\n",
      "l\n",
      "l\n",
      "o\n",
      "----\n",
      "h\n",
      "continue executed\n",
      "l\n",
      "l\n",
      "o\n"
     ]
    }
   ],
   "source": [
    "#Example of difference between pass and continue statement\n",
    "for i in 'hello':\n",
    "     if(i == 'e'):\n",
    "          print('pass executed')\n",
    "          pass\n",
    "     print(i)\n",
    "\n",
    "print('----')\n",
    "\n",
    "for i in 'hello':\n",
    "     if(i == 'e'):\n",
    "          print('continue executed')\n",
    "          continue\n",
    "     print(i)"
   ]
  },
  {
   "cell_type": "code",
   "execution_count": 22,
   "id": "24eb51ba",
   "metadata": {},
   "outputs": [
    {
     "name": "stdout",
     "output_type": "stream",
     "text": [
      "Hello AIML and SRKR\n"
     ]
    }
   ],
   "source": [
    "#Simple Function Example\n",
    "def my_function():\n",
    "  print(\"Hello AIML and SRKR\")\n",
    "my_function()"
   ]
  },
  {
   "cell_type": "code",
   "execution_count": 24,
   "id": "782c2ac0",
   "metadata": {},
   "outputs": [
    {
     "name": "stdout",
     "output_type": "stream",
     "text": [
      "PAVAN is from SRKR \n",
      "SIVA is from SRKR \n",
      "RAGHU is from SRKR \n"
     ]
    }
   ],
   "source": [
    "#Function with arguments \n",
    "def my_function(fname):\n",
    "  print(fname , \"is from SRKR \")\n",
    "\n",
    "my_function(\"PAVAN\")\n",
    "my_function(\"SIVA\")\n",
    "my_function(\"RAGHU\")"
   ]
  },
  {
   "cell_type": "code",
   "execution_count": 28,
   "id": "5e5131bb",
   "metadata": {},
   "outputs": [
    {
     "name": "stdout",
     "output_type": "stream",
     "text": [
      "The Student from AIML is Venkatesh\n",
      "The Student from AIML is Ganesh\n",
      "The Student from AIML is Varshith\n",
      "The Student from AIML is Venkatesh\n"
     ]
    }
   ],
   "source": [
    "#Arbitrary arguments Example\n",
    "def my_function(*srkr):\n",
    "    print(\"The Student from AIML is \" + srkr[2])\n",
    "    for i in range(3):\n",
    "        print(\"The Student from AIML is \" + srkr[i])\n",
    "\n",
    "my_function(\"Ganesh\", \"Varshith\", \"Venkatesh\")"
   ]
  },
  {
   "cell_type": "code",
   "execution_count": 29,
   "id": "a72617e1",
   "metadata": {},
   "outputs": [
    {
     "name": "stdout",
     "output_type": "stream",
     "text": [
      "The Student is Venkatesh\n"
     ]
    }
   ],
   "source": [
    "#Keyword arguments Example\n",
    "def my_function(student1, student2, student3):\n",
    "  print(\"The Student is \" + student3)\n",
    "\n",
    "my_function(student1 = \"Ganesh\", student2 = \"Varshith\", student3 = \"Venkatesh\")"
   ]
  },
  {
   "cell_type": "code",
   "execution_count": 30,
   "id": "41483ce2",
   "metadata": {},
   "outputs": [
    {
     "name": "stdout",
     "output_type": "stream",
     "text": [
      "The students are: ganesh Varshith\n"
     ]
    }
   ],
   "source": [
    "#Default arguments Example\n",
    "def my_function(student1,student2=\"Varshith\"):\n",
    "    print(\"The students are:\",student1,student2)\n",
    "my_function(\"ganesh\")"
   ]
  },
  {
   "cell_type": "code",
   "execution_count": 31,
   "id": "ca7c07d8",
   "metadata": {},
   "outputs": [
    {
     "name": "stdout",
     "output_type": "stream",
     "text": [
      "His last name is KUMAR\n"
     ]
    }
   ],
   "source": [
    "#Arbitrary Keyword Arguments, **kwargs\n",
    "def my_function(**srkr):\n",
    "  print(\"His last name is \" + srkr[\"lname\"])\n",
    "\n",
    "my_function(fname = \"PAVAN\", lname = \"KUMAR\")"
   ]
  },
  {
   "cell_type": "code",
   "execution_count": 32,
   "id": "30e42822",
   "metadata": {},
   "outputs": [
    {
     "name": "stdout",
     "output_type": "stream",
     "text": [
      "Enter a number:5\n",
      "The factorial of 5 is 120\n"
     ]
    }
   ],
   "source": [
    "#Factorial Using Recursion\n",
    "def recur_factorial(n):\n",
    "   if n == 1:\n",
    "       return n\n",
    "   else:\n",
    "       return n*recur_factorial(n-1)\n",
    "\n",
    "num = int(input(\"Enter a number:\"))\n",
    "\n",
    "# check if the number is negative\n",
    "if num < 0:\n",
    "   print(\"Sorry, factorial does not exist for negative numbers\")\n",
    "elif num == 0:\n",
    "   print(\"The factorial of 0 is 1\")\n",
    "else:\n",
    "   print(\"The factorial of\", num, \"is\", recur_factorial(num))"
   ]
  },
  {
   "cell_type": "code",
   "execution_count": 33,
   "id": "fa781bcd",
   "metadata": {},
   "outputs": [
    {
     "name": "stdout",
     "output_type": "stream",
     "text": [
      "30\n"
     ]
    }
   ],
   "source": [
    "#Lambda Function Example\n",
    "x = lambda a, b : a * b\n",
    "print(x(5, 6))"
   ]
  },
  {
   "cell_type": "code",
   "execution_count": 35,
   "id": "c900999b",
   "metadata": {},
   "outputs": [
    {
     "name": "stdout",
     "output_type": "stream",
     "text": [
      "[2, 4, 6, 8]\n"
     ]
    }
   ],
   "source": [
    "#Filter() function in python\n",
    "list_1 = [1,2,3,4,5,6,7,8,9]\n",
    "filter(lambda x: x%2==0, list_1)\n",
    "list_2=list(filter(lambda x: x%2==0, list_1))\n",
    "print(list_2)\n"
   ]
  },
  {
   "cell_type": "code",
   "execution_count": 37,
   "id": "55ea78dd",
   "metadata": {},
   "outputs": [
    {
     "name": "stdout",
     "output_type": "stream",
     "text": [
      "[1, 8, 27, 64, 125, 216, 343, 512, 729]\n"
     ]
    }
   ],
   "source": [
    "#map() function in python\n",
    "list_1 = [1,2,3,4,5,6,7,8,9]\n",
    "cube = map(lambda x: pow(x,3), list_1)\n",
    "print(list(cube))"
   ]
  },
  {
   "cell_type": "code",
   "execution_count": 41,
   "id": "c820d041",
   "metadata": {},
   "outputs": [
    {
     "name": "stdout",
     "output_type": "stream",
     "text": [
      "Enter the string:hello aiml\n",
      "Enter the substring:aiml\n",
      "Substring is Present\n"
     ]
    }
   ],
   "source": [
    "#Check if a Substring is Present in a Given String\n",
    "str1=input(\"Enter the string:\")\n",
    "str2=input(\"Enter the substring:\")\n",
    "if str2 in str1:\n",
    "    print(\"Substring is Present\")\n",
    "else:\n",
    "    print(\"Substring not present\")"
   ]
  },
  {
   "cell_type": "code",
   "execution_count": 43,
   "id": "a844b238",
   "metadata": {},
   "outputs": [
    {
     "name": "stdout",
     "output_type": "stream",
     "text": [
      "Enter a word:pavan is from srkr\n",
      "The vowels in the Given word are: aaio\n",
      "The Consonants in the Given word are: pvn s frm srkr\n"
     ]
    }
   ],
   "source": [
    "#seperate vowels and consonants in string\n",
    "str1=input(\"Enter a word:\")\n",
    "vowels=\"\"\n",
    "consonants=\"\"\n",
    "for i in str1:\n",
    "    if i in \"aeiouuAEIOU\":\n",
    "        vowels+=i\n",
    "    else:\n",
    "        consonants+=i\n",
    "print(\"The vowels in the Given word are:\",vowels)\n",
    "print(\"The Consonants in the Given word are:\",consonants)"
   ]
  },
  {
   "cell_type": "code",
   "execution_count": 49,
   "id": "f74265d4",
   "metadata": {},
   "outputs": [
    {
     "name": "stdout",
     "output_type": "stream",
     "text": [
      "Enter a word:pavan IS from SRKR his number is = 9959622225 !\n",
      "The Capital Letters are: ISSRKR\n",
      "The Small Letters are: pavanfromhisnumberis\n",
      "The Digits are: 9959622225\n",
      "The remaining are:        =  !\n"
     ]
    }
   ],
   "source": [
    "#Program to Print Capital letters and small letters and digits and remaining seperately\n",
    "str1=input(\"Enter a word:\")\n",
    "capital=\"\"\n",
    "small=\"\"\n",
    "digits=\"\"\n",
    "special=\"\"\n",
    "for i in str1:\n",
    "    if i.isupper() and i!=\" \" and i.isalpha():\n",
    "        capital+=i\n",
    "    elif i.islower() and i!=\" \" and i.isalpha:\n",
    "        small+=i\n",
    "    elif i.isnumeric():\n",
    "        digits+=i\n",
    "    else:\n",
    "        special+=i\n",
    "print(\"The Capital Letters are:\",capital)\n",
    "print(\"The Small Letters are:\",small)\n",
    "print(\"The Digits are:\",digits)\n",
    "print(\"The remaining are:\",special)\n",
    "    \n"
   ]
  },
  {
   "cell_type": "code",
   "execution_count": 52,
   "id": "b3150c84",
   "metadata": {},
   "outputs": [
    {
     "name": "stdout",
     "output_type": "stream",
     "text": [
      "Enter a word:pavan is a bad boy\n",
      "Enter the word or character to be replaced:bad\n",
      "Enter the word or character that should be replaced:good\n",
      "pavan is a good boy\n"
     ]
    }
   ],
   "source": [
    "#program to replace the string\n",
    "str1=input(\"Enter a word:\")\n",
    "str2=input(\"Enter the word or character to be replaced:\")\n",
    "str3=input(\"Enter the word or character that should be replaced:\")\n",
    "print(str1.replace(str2,str3))"
   ]
  },
  {
   "cell_type": "code",
   "execution_count": 55,
   "id": "85c0c3a7",
   "metadata": {},
   "outputs": [
    {
     "name": "stdout",
     "output_type": "stream",
     "text": [
      "Enter a word:hello world\n",
      "The vowels in the Given word are: 3\n",
      "The Consonants in the Given word are: 8\n"
     ]
    }
   ],
   "source": [
    "#Count vowels and consonants in string\n",
    "str1=input(\"Enter a word:\")\n",
    "vowels=0\n",
    "consonants=0\n",
    "for i in str1:\n",
    "    if i in \"aeiouuAEIOU\":\n",
    "        vowels+=1\n",
    "    else:\n",
    "        consonants+=1\n",
    "print(\"The vowels in the Given word are:\",vowels)\n",
    "print(\"The Consonants in the Given word are:\",consonants)"
   ]
  },
  {
   "cell_type": "code",
   "execution_count": 58,
   "id": "817d08ce",
   "metadata": {},
   "outputs": [
    {
     "name": "stdout",
     "output_type": "stream",
     "text": [
      "Enter the string:hello world\n",
      "held\n"
     ]
    }
   ],
   "source": [
    "#Write a Python program to get a string made of the first 2 and the last 2 chars from a given a string.\n",
    "#If the string length is less than 2, return instead of the empty string. Go to the editor\n",
    "str1=input(\"Enter the string:\")\n",
    "if len(str1)<2:\n",
    "    print(\" \")\n",
    "else:\n",
    "    print(str1[:2]+str1[-2:])"
   ]
  },
  {
   "cell_type": "code",
   "execution_count": 59,
   "id": "773f0f69",
   "metadata": {},
   "outputs": [
    {
     "name": "stdout",
     "output_type": "stream",
     "text": [
      "Enter the string:Pavan IS From SRKR\n",
      "pAVAN is fROM srkr\n"
     ]
    }
   ],
   "source": [
    "#Write a Python script that takes input from the user and displays that \n",
    "#input back in upper and lower cases.\n",
    "str1=input(\"Enter the string:\")\n",
    "print(str1.swapcase())"
   ]
  },
  {
   "cell_type": "code",
   "execution_count": 62,
   "id": "befd7101",
   "metadata": {},
   "outputs": [
    {
     "name": "stdout",
     "output_type": "stream",
     "text": [
      "Enter the string:pavan\n",
      "navap\n",
      "navap\n"
     ]
    }
   ],
   "source": [
    "#Python: Reverse a string\n",
    "str1=input(\"Enter the string:\")\n",
    "str2=\"\"\n",
    "print(str1[::-1]) #Using Indexing\n",
    "for i in str1:\n",
    "    str2 = i+str2\n",
    "print(str2)"
   ]
  },
  {
   "cell_type": "code",
   "execution_count": 65,
   "id": "8d62744e",
   "metadata": {},
   "outputs": [
    {
     "name": "stdout",
     "output_type": "stream",
     "text": [
      "Enter the string:AIML\n",
      "the index of A is: 0\n",
      "the index of I is: 1\n",
      "the index of M is: 2\n",
      "the index of L is: 3\n"
     ]
    }
   ],
   "source": [
    "#Write a Python program to print the index of every character in a string.\n",
    "str1=input(\"Enter the string:\")\n",
    "for i in str1:\n",
    "    print(f\"the index of {i} is:\",str1.index(i))"
   ]
  },
  {
   "cell_type": "code",
   "execution_count": 66,
   "id": "fb137c51",
   "metadata": {},
   "outputs": [
    {
     "name": "stdout",
     "output_type": "stream",
     "text": [
      "Enter the string:pavan is from srkr\n",
      "['pavan', 'is', 'from', 'srkr']\n"
     ]
    }
   ],
   "source": [
    "#Write a Python program to convert a given string into a list of words\n",
    "str1=input(\"Enter the string:\")\n",
    "print(str1.split())"
   ]
  },
  {
   "cell_type": "code",
   "execution_count": 69,
   "id": "50f16fe7",
   "metadata": {},
   "outputs": [
    {
     "name": "stdout",
     "output_type": "stream",
     "text": [
      "Enter the string:pavan,kumar,varma\n",
      "pavan.kumar.varma\n"
     ]
    }
   ],
   "source": [
    "#Write a Python program to replace comma with dot in a string.\n",
    "str1=input(\"Enter the string:\")\n",
    "print(str1.replace(',','.'))"
   ]
  },
  {
   "cell_type": "code",
   "execution_count": null,
   "id": "de8aa50f",
   "metadata": {},
   "outputs": [],
   "source": []
  }
 ],
 "metadata": {
  "kernelspec": {
   "display_name": "Python 3 (ipykernel)",
   "language": "python",
   "name": "python3"
  },
  "language_info": {
   "codemirror_mode": {
    "name": "ipython",
    "version": 3
   },
   "file_extension": ".py",
   "mimetype": "text/x-python",
   "name": "python",
   "nbconvert_exporter": "python",
   "pygments_lexer": "ipython3",
   "version": "3.9.7"
  }
 },
 "nbformat": 4,
 "nbformat_minor": 5
}
