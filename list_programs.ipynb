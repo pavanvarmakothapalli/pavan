{
 "cells": [
  {
   "cell_type": "code",
   "execution_count": 1,
   "id": "05b8dddb",
   "metadata": {},
   "outputs": [],
   "source": [
    "x=[100,20,503,3,35,600,73,5,200,400,200,56,10,20,9,1801,300,45678,90] #List\n"
   ]
  },
  {
   "cell_type": "code",
   "execution_count": 2,
   "id": "e8cbda6f",
   "metadata": {},
   "outputs": [
    {
     "name": "stdout",
     "output_type": "stream",
     "text": [
      "The length of the given list is: 19\n"
     ]
    }
   ],
   "source": [
    "#find length without using len() function\n",
    "length=0\n",
    "for i in x:\n",
    "    length=length+1\n",
    "print(\"The length of the given list is:\",length)"
   ]
  },
  {
   "cell_type": "code",
   "execution_count": 4,
   "id": "d6f7659e",
   "metadata": {},
   "outputs": [
    {
     "name": "stdout",
     "output_type": "stream",
     "text": [
      "The Sum of the given list is: 50103\n"
     ]
    }
   ],
   "source": [
    "#find sum of elements without using sum() function\n",
    "sum=0\n",
    "for i in x:\n",
    "    sum=sum+i\n",
    "print(\"The Sum of the given list is:\",sum)"
   ]
  },
  {
   "cell_type": "code",
   "execution_count": 10,
   "id": "59b141c5",
   "metadata": {},
   "outputs": [
    {
     "name": "stdout",
     "output_type": "stream",
     "text": [
      "Enter the number to be searched in the list:456\n",
      "number not found\n"
     ]
    }
   ],
   "source": [
    "#accept number and diplay its index without index() method\n",
    "num=int(input(\"Enter the number to be searched in the list:\"))\n",
    "for i in range(len(x)):\n",
    "    if x[i]==num:\n",
    "        print(f\"the Number found at the index {i}\")\n",
    "        break\n",
    "else:\n",
    "    print(\"number not found\")"
   ]
  },
  {
   "cell_type": "code",
   "execution_count": 13,
   "id": "be20fbf0",
   "metadata": {},
   "outputs": [
    {
     "name": "stdout",
     "output_type": "stream",
     "text": [
      "Enter the number to be searched in the list:255\n",
      "The 255 not found in the list\n"
     ]
    }
   ],
   "source": [
    "#WAP accept a element and count total of no of occureneces without count() method\n",
    "num=int(input(\"Enter the number to be searched in the list:\"))\n",
    "count=0\n",
    "for i in range(len(x)):\n",
    "    if x[i]==num:\n",
    "        count+=1\n",
    "if count>=1:\n",
    "    print(f\"The {num} found {count} times in the list\")\n",
    "else:\n",
    "     print(f\"The {num} not found in the list\")"
   ]
  },
  {
   "cell_type": "code",
   "execution_count": 18,
   "id": "0cc3d861",
   "metadata": {},
   "outputs": [
    {
     "name": "stdout",
     "output_type": "stream",
     "text": [
      "[90, 45678, 300, 1801, 9, 20, 10, 56, 200, 400, 200, 5, 73, 600, 35, 3, 503, 20, 100]\n"
     ]
    }
   ],
   "source": [
    "#WAP print above list elements in reverse order without using reverse() method\n",
    "list2=[]\n",
    "for i in x[::-1]:\n",
    "    list2.append(i)\n",
    "print(list2)"
   ]
  },
  {
   "cell_type": "code",
   "execution_count": 21,
   "id": "e11091cd",
   "metadata": {},
   "outputs": [
    {
     "name": "stdout",
     "output_type": "stream",
     "text": [
      "The 1 Digit numbers are: [20, 3, 35, 73, 5, 56, 10, 20, 9, 90]\n",
      "The 2 Digit numbers are: [100, 503, 600, 200, 400, 200, 300]\n",
      "The 3 Digit numbers are: [1801]\n",
      "The remaining numbers are: [45678]\n"
     ]
    }
   ],
   "source": [
    "#WAP store all 1 digit numbers into one list and 2 digit numbersinto another list and and\n",
    "#3 digit numbers into another list other remaining numbers into another list display\n",
    "l1=[]\n",
    "l2=[]\n",
    "l3=[]\n",
    "l4=[]\n",
    "for i in x:\n",
    "    if i>=0 and i<100:\n",
    "        l1.append(i)\n",
    "    elif i>=100 and i<1000:\n",
    "        l2.append(i)\n",
    "    elif i>=1000 and i<10000:\n",
    "        l3.append(i)\n",
    "    else:\n",
    "        l4.append(i)\n",
    "print(\"The 1 Digit numbers are:\",l1)\n",
    "print(\"The 2 Digit numbers are:\",l2)\n",
    "print(\"The 3 Digit numbers are:\",l3)\n",
    "print(\"The remaining numbers are:\",l4)"
   ]
  },
  {
   "cell_type": "code",
   "execution_count": 22,
   "id": "a816d721",
   "metadata": {},
   "outputs": [
    {
     "name": "stdout",
     "output_type": "stream",
     "text": [
      "The Even numbers in the list are: [100, 20, 600, 200, 400, 200, 56, 10, 20, 300, 45678, 90]\n",
      "The ODD numbers in the list are: [503, 3, 35, 73, 5, 9, 1801]\n"
     ]
    }
   ],
   "source": [
    "even=[]\n",
    "odd=[]\n",
    "for i in x:\n",
    "    if i%2==0:\n",
    "        even.append(i)\n",
    "    else:\n",
    "        odd.append(i)\n",
    "print(\"The Even numbers in the list are:\",even)\n",
    "print(\"The ODD numbers in the list are:\",odd)"
   ]
  },
  {
   "cell_type": "code",
   "execution_count": 28,
   "id": "c2a0ec2b",
   "metadata": {},
   "outputs": [
    {
     "name": "stdout",
     "output_type": "stream",
     "text": [
      "[20, 200, 200, 20]\n",
      "The duplicate values in the list are: [20, 200]\n"
     ]
    }
   ],
   "source": [
    "#Write a function dups to find all duplicates in the list\n",
    "def dups():\n",
    "    dups=[]\n",
    "    for i in x:\n",
    "        if x.count(i)>1:\n",
    "            dups.append(i)\n",
    "    dups1=[]\n",
    "    print(dups)\n",
    "    #to delete repeated values\n",
    "    for i in dups:\n",
    "        if i not in dups1:\n",
    "            dups1.append(i)\n",
    "    print(\"The duplicate values in the list are:\",dups1)\n",
    "dups()"
   ]
  },
  {
   "cell_type": "code",
   "execution_count": 29,
   "id": "81c60bbc",
   "metadata": {},
   "outputs": [
    {
     "name": "stdout",
     "output_type": "stream",
     "text": [
      "The Unique values in the list are: [100, 503, 3, 35, 600, 73, 5, 400, 56, 10, 9, 1801, 300, 45678, 90]\n"
     ]
    }
   ],
   "source": [
    "#Write a function unique to find all the unique elements of a list\n",
    "def unique():\n",
    "    unique=[]\n",
    "    for i in x:\n",
    "        if x.count(i)==1:\n",
    "            unique.append(i)\n",
    "    print(\"The Unique values in the list are:\",unique)\n",
    "unique()"
   ]
  },
  {
   "cell_type": "code",
   "execution_count": 30,
   "id": "ae14cf34",
   "metadata": {},
   "outputs": [
    {
     "name": "stdout",
     "output_type": "stream",
     "text": [
      "[90, 45678, 300, 1801, 9, 20, 10, 56, 200, 400, 200, 5, 73, 600, 35, 3, 503, 20, 100]\n"
     ]
    }
   ],
   "source": [
    "#Write a function reverse to reverse a list. Without using the reverse function.\n",
    "def reverse():\n",
    "    reverse=[]\n",
    "    for i in x[::-1]:\n",
    "        reverse.append(i)\n",
    "    print(reverse)\n",
    "reverse()"
   ]
  },
  {
   "cell_type": "code",
   "execution_count": 33,
   "id": "3304f984",
   "metadata": {},
   "outputs": [
    {
     "name": "stdout",
     "output_type": "stream",
     "text": [
      "The 5 random numbers are: [136, 175, 153, 133, 106]\n"
     ]
    }
   ],
   "source": [
    "#Please write a program to generate a list with 5 random numbers between 100 and 200\n",
    "import random\n",
    "rand=[]\n",
    "for i in range(5):\n",
    "    rand.append(random.randrange(100,200))\n",
    "print(\"The 5 random numbers are:\",rand)"
   ]
  },
  {
   "cell_type": "code",
   "execution_count": 37,
   "id": "acd65fc6",
   "metadata": {},
   "outputs": [
    {
     "name": "stdout",
     "output_type": "stream",
     "text": [
      "Before Swap: [90, 20, 503, 3, 35, 600, 73, 5, 200, 400, 200, 56, 10, 20, 9, 1801, 300, 45678, 100]\n",
      "After Swap: [100, 20, 503, 3, 35, 600, 73, 5, 200, 400, 200, 56, 10, 20, 9, 1801, 300, 45678, 90]\n"
     ]
    }
   ],
   "source": [
    "#Python Program to Swap the First and Last Value of a List\n",
    "print(\"Before Swap:\",x)\n",
    "x[0],x[-1]=x[-1],x[0]\n",
    "print(\"After Swap:\",x)"
   ]
  },
  {
   "cell_type": "code",
   "execution_count": 41,
   "id": "1ec24dcb",
   "metadata": {},
   "outputs": [
    {
     "name": "stdout",
     "output_type": "stream",
     "text": [
      "[100, 20, 503, 3, 35, 600, 73, 5, 200, 400, 200, 56, 10, 20, 9, 1801, 300, 45678, 90]\n",
      "2637\n",
      "20\n",
      "90\n"
     ]
    }
   ],
   "source": [
    "#Find mean, median, mode for the given set of numbers in a list.\n",
    "import statistics\n",
    "print(x)\n",
    "print(statistics.mean(x))\n",
    "print(statistics.mode(x))\n",
    "print(statistics.median(x))"
   ]
  },
  {
   "cell_type": "code",
   "execution_count": 51,
   "id": "e5e00b14",
   "metadata": {},
   "outputs": [
    {
     "name": "stdout",
     "output_type": "stream",
     "text": [
      "The list is: [100, 20, 503, 3, 35, 600, 73, 5, 200, 400, 200, 56, 10, 20, 9, 1801, 300, 45678, 90]\n",
      "The length of the  list is: 19\n",
      "The mean of the list is: 2637\n"
     ]
    }
   ],
   "source": [
    "#mean without statistics module\n",
    "print(\"The list is:\",x)\n",
    "length=len(x)\n",
    "print(\"The length of the  list is:\",length)\n",
    "sum1=0\n",
    "for i in x:\n",
    "    sum1+=i\n",
    "mean=sum1//length\n",
    "print(\"The mean of the list is:\",mean)"
   ]
  },
  {
   "cell_type": "code",
   "execution_count": 57,
   "id": "0d5a6b01",
   "metadata": {},
   "outputs": [
    {
     "name": "stdout",
     "output_type": "stream",
     "text": [
      "The list is: [100, 20, 503, 3, 35, 600, 73, 5, 200, 400, 200, 56, 10, 20, 9, 1801, 300, 45678, 90]\n",
      "The Sorted list is: [3, 5, 9, 10, 20, 20, 35, 56, 73, 90, 100, 200, 200, 300, 400, 503, 600, 1801, 45678]\n",
      "the median is 90\n"
     ]
    }
   ],
   "source": [
    "#median without statistics module\n",
    "print(\"The list is:\",x)\n",
    "y=sorted(x)\n",
    "print(\"The Sorted list is:\",y)\n",
    "n=len(x)\n",
    "if n % 2 == 0:\n",
    "    median1 = y[n//2]\n",
    "    median2 = y[n//2 - 1]\n",
    "    median = (median1 + median2)/2\n",
    "else:\n",
    "    median = y[n//2]\n",
    "print(\"the median is\",median)"
   ]
  },
  {
   "cell_type": "code",
   "execution_count": 59,
   "id": "7ae2df6c",
   "metadata": {},
   "outputs": [
    {
     "name": "stdout",
     "output_type": "stream",
     "text": [
      "[20, 200, 200, 20]\n",
      "The Mode is: [20, 200]\n"
     ]
    }
   ],
   "source": [
    "dups=[]\n",
    "for i in x:\n",
    "    if x.count(i)>1:\n",
    "        dups.append(i)\n",
    "mode=[]\n",
    "print(dups)\n",
    "#to delete repeated values\n",
    "for i in dups:\n",
    "    if i not in mode:\n",
    "        mode.append(i)\n",
    "print(\"The Mode is:\",mode)"
   ]
  },
  {
   "cell_type": "code",
   "execution_count": 66,
   "id": "836ca38c",
   "metadata": {},
   "outputs": [
    {
     "name": "stdout",
     "output_type": "stream",
     "text": [
      "Original list: [1, 2, 3, 4]\n",
      "The Cumulative product of list is: [1, 2, 6, 24]\n"
     ]
    }
   ],
   "source": [
    "#Write a function cumulative_product to compute cumulative product of a list of numbers.\n",
    "def cumulative_product(list):\n",
    "    print(\"Original list:\",list)\n",
    "    cum_product=[]\n",
    "    p =1\n",
    "    for i in list:\n",
    "        p *= i\n",
    "        cum_product.append(p)\n",
    "    print(\"The Cumulative product of list is:\",cum_product)\n",
    "list= [1,2,3,4]\n",
    "cumulative_product(list) \n",
    "        "
   ]
  },
  {
   "cell_type": "code",
   "execution_count": null,
   "id": "de13c245",
   "metadata": {},
   "outputs": [],
   "source": []
  }
 ],
 "metadata": {
  "kernelspec": {
   "display_name": "Python 3 (ipykernel)",
   "language": "python",
   "name": "python3"
  },
  "language_info": {
   "codemirror_mode": {
    "name": "ipython",
    "version": 3
   },
   "file_extension": ".py",
   "mimetype": "text/x-python",
   "name": "python",
   "nbconvert_exporter": "python",
   "pygments_lexer": "ipython3",
   "version": "3.9.7"
  }
 },
 "nbformat": 4,
 "nbformat_minor": 5
}
