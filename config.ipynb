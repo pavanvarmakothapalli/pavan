{
 "cells": [
  {
   "cell_type": "code",
   "execution_count": 12,
   "id": "8d683a1f",
   "metadata": {},
   "outputs": [],
   "source": [
    "from configparser import ConfigParser\n",
    "#Get the configparser object config_object = ConfigParser()\n",
    "\n",
    "config_object = ConfigParser()\n",
    "\n",
    "#Assume we need 2 sections in the config file, let's call them USERINFO and SERVERCONFIG\n",
    "config_object[\"USERINFO\"] = { \n",
    "\"admin\": \"Pavan Varma Kothapalli\", \n",
    "\"loginid\": \"pavan1230\", \n",
    "\"password\": \"srkr@123\"\n",
    "}\n",
    "config_object[\"SERVERCONFIG\"] = {\n",
    "\"host\": \"srkr.com\",\n",
    "\"port\": \"8080\",\n",
    "\"ipaddr\": \"8.8.8.8\"\n",
    "}\n",
    "#Write the above sections to config.ini file \n",
    "with open('config.ini', 'w') as conf:\n",
    "    config_object.write(conf)"
   ]
  },
  {
   "cell_type": "code",
   "execution_count": 15,
   "id": "be1a10dd",
   "metadata": {},
   "outputs": [
    {
     "name": "stdout",
     "output_type": "stream",
     "text": [
      "Password is srkr@123\n"
     ]
    }
   ],
   "source": [
    "#Read config.ini file \n",
    "from configparser import ConfigParser\n",
    "config_object = ConfigParser() \n",
    "config_object.read(\"config.ini\")\n",
    "#Get the password\n",
    "userinfo = config_object[\"USERINFO\"] \n",
    "print(\"Password is {}\".format(userinfo[\"password\"])) "
   ]
  },
  {
   "cell_type": "code",
   "execution_count": 16,
   "id": "1bb373fb",
   "metadata": {},
   "outputs": [
    {
     "name": "stdout",
     "output_type": "stream",
     "text": [
      "Updated\n"
     ]
    }
   ],
   "source": [
    "#Updating\n",
    "from configparser import ConfigParser\n",
    "#Read config.ini file\n",
    "config_object = ConfigParser()\n",
    "config_object.read(\"config.ini\")\n",
    "#Get the USERINFO section\n",
    "userinfo = config_object[\"USERINFO\"]\n",
    "#Update the password\n",
    "userinfo[\"password\"] = \"newpassword\"\n",
    "#Write changes back to file\n",
    "with open('config.ini', 'w') as conf:\n",
    "    config_object.write(conf)\n",
    "    print(\"Updated\")"
   ]
  },
  {
   "cell_type": "code",
   "execution_count": null,
   "id": "387f17ad",
   "metadata": {},
   "outputs": [],
   "source": []
  }
 ],
 "metadata": {
  "kernelspec": {
   "display_name": "Python 3 (ipykernel)",
   "language": "python",
   "name": "python3"
  },
  "language_info": {
   "codemirror_mode": {
    "name": "ipython",
    "version": 3
   },
   "file_extension": ".py",
   "mimetype": "text/x-python",
   "name": "python",
   "nbconvert_exporter": "python",
   "pygments_lexer": "ipython3",
   "version": "3.9.7"
  }
 },
 "nbformat": 4,
 "nbformat_minor": 5
}
