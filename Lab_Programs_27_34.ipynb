{
 "cells": [
  {
   "cell_type": "code",
   "execution_count": 2,
   "id": "f4d87924",
   "metadata": {},
   "outputs": [
    {
     "name": "stdout",
     "output_type": "stream",
     "text": [
      "cost for 4 shoes = 4800\n",
      "remaining stock: 196\n",
      "\n",
      "cost for 12 shoes = 12960.0\n",
      "remaining stock: 184\n",
      "\n",
      "cost for 112 shoes = 107520.0\n",
      "remaining stock: 72\n",
      "\n"
     ]
    }
   ],
   "source": [
    "'''27.Write a class called Product. The class should have fields called name, amount, \n",
    "and price, holding the product's name, the number of items of that product in stock, and  \n",
    "the regular price of the product. There should be a method get_price that receives the\n",
    "number of items to be bought and returns a the cost of buying that many items, where\n",
    "the regular price is charged for orders of less than 10 items, a 10% discount is applied\n",
    "for orders of between 10 and 99 items, and a 20% discount is applied for orders of\n",
    "100 or more items. There should also be a method called make_purchase that receives\n",
    "   the number of items to be bought and decreases amount by that much.'''\n",
    "class Product:\n",
    "    def __init__(self,name,amount,price):\n",
    "        self.name=name\n",
    "        self.amount=amount\n",
    "        self.price=price\n",
    "        \n",
    "    def get_price(self,number_items):\n",
    "        if number_items<10:\n",
    "            return self.price*number_items\n",
    "        elif 10 <=number_items < 100:\n",
    "            return 0.9*self.price*number_items\n",
    "        else:return 0.8*self.price*number_items\n",
    "    \n",
    "    def make_purchase(self, quantity):\n",
    "        self.amount -= quantity\n",
    "\n",
    "name, amount, price = 'shoes', 200, 1200\n",
    "\n",
    "shoes = Product(name, amount, price)\n",
    "\n",
    "q1 = 4\n",
    "print(f'cost for {q1} {shoes.name} = {shoes.get_price(q1)}')\n",
    "shoes.make_purchase(q1)\n",
    "print(f'remaining stock: {shoes.amount}\\n')\n",
    "\n",
    "q2 = 12\n",
    "print(f'cost for {q2} {shoes.name} = {shoes.get_price(q2)}')\n",
    "shoes.make_purchase(q2)\n",
    "print(f'remaining stock: {shoes.amount}\\n')\n",
    "\n",
    "q3 = 112\n",
    "print(f'cost for {q3} {shoes.name} = {shoes.get_price(q3)}')\n",
    "shoes.make_purchase(q3)\n",
    "print(f'remaining stock: {shoes.amount}\\n')\n"
   ]
  },
  {
   "cell_type": "code",
   "execution_count": 3,
   "id": "845a1139",
   "metadata": {},
   "outputs": [
    {
     "name": "stdout",
     "output_type": "stream",
     "text": [
      "6:5 minutes\n",
      "6:5 minutes\n",
      "1.26 Hors\n",
      "1:15:20\n"
     ]
    }
   ],
   "source": [
    "''' 28 Write a class called Time whose only field is a time in seconds. It should have a\n",
    "method called convert_to_minutes that returns a string of minutes and seconds\n",
    "formatted as in the following example: if seconds is 230, the method should return\n",
    "'5:50'. It should also have a method called convert_to_hours that returns a string of\n",
    "    hours, minutes, and seconds formatted analogously to the previous method.'''\n",
    "class Time():\n",
    "   # constructor\n",
    "   def __init__(self, seconds):\n",
    "       self.seconds = seconds\n",
    "  \n",
    "   # function to convert and return a string of minutes and seconds\n",
    "   def convert_to_minutes(self):\n",
    "       mins = self.seconds//60 # get the total minutes in the given seconds\n",
    "       secs = self.seconds - (mins*60) # get the remaining seconds\n",
    "       print(\"{}:{} minutes\".format(self.seconds//60,self.seconds%60))\n",
    "       # return the string of minutes:seconds\n",
    "       return \"%d:%d minutes\" %(mins,secs)\n",
    "  \n",
    "   # function to convert and return string of hours, minutes, and seconds\n",
    "   def convert_to_hours(self):\n",
    "       secs = self.seconds\n",
    "       hours = secs//3600 # get the total hours in the given seconds\n",
    "       secs = secs - (hours*3600) # get the remaining seconds\n",
    "       mins = secs//60 # get the total minutes in the remaining seconds\n",
    "       secs = secs - (mins*60) # get the remaining seconds\n",
    "       print(\"{:.2f} Hors\".format(self.seconds/3600))\n",
    "       # return the string of hours:minutes:seconds\n",
    "       return \"%d:%d:%d\" %(hours,mins,secs)\n",
    "      \n",
    "time = Time(365)\n",
    "print(time.convert_to_minutes())\n",
    "time = Time(4520)\n",
    "print(time.convert_to_hours())"
   ]
  },
  {
   "cell_type": "code",
   "execution_count": 4,
   "id": "48503eab",
   "metadata": {},
   "outputs": [
    {
     "name": "stdout",
     "output_type": "stream",
     "text": [
      "enter feet/inches/cm/mm/km/miles: 6\n",
      "Feet to Inches value is  72.0\n",
      "miles to KM  is  9.656082527318667\n",
      "Feet to Yards value is  1.9998\n",
      "Feet to Miles value is  0.00113634\n"
     ]
    }
   ],
   "source": [
    "''' 29.Write a class called Converter. The user will pass a length and a unit when declaring\n",
    "an object from the class for example, c = Converter(9,'inches'). The possible units\n",
    "are inches, feet, yards, miles, kilometers, meters, centimeters, and millimeters. For\n",
    "each of these units there should be a method that returns the length converted into\n",
    "those units. For example, using the Converter object created above, the user could call\n",
    "    c.feet() and should get 0.75 as the result.'''\n",
    "class Converter:\n",
    "    def __init__(self, n,name):\n",
    "        self.value = n\n",
    "        self.name=name\n",
    "    \n",
    "    def FeettoInches(self):\n",
    "        Inches=self.value*12\n",
    "        print(\"Feet to Inches value is \", Inches)\n",
    "        \n",
    "    def milestokm(self):\n",
    "        km=self.value/0.62137\n",
    "        print(\"miles to KM  is \", km)\n",
    "            \n",
    "    def FeettoYards(self):\n",
    "        Yards= self.value * 0.3333\n",
    "        print(\"Feet to Yards value is \", Yards)\n",
    "    \n",
    "    def FeettoMiles(self):\n",
    "        Miles= self.value * 0.00018939\n",
    "        print(\"Feet to Miles value is \", Miles)     \n",
    "        \n",
    "n=float(input(\"enter feet/inches/cm/mm/km/miles: \"))\n",
    "x=Converter(n,'inches')\n",
    "\n",
    "x.FeettoInches()\n",
    "x.milestokm()\n",
    "x.FeettoYards()\n",
    "x.FeettoMiles()"
   ]
  },
  {
   "cell_type": "code",
   "execution_count": 5,
   "id": "812ee132",
   "metadata": {},
   "outputs": [
    {
     "name": "stdout",
     "output_type": "stream",
     "text": [
      "0.25\n",
      "243\n",
      "1\n"
     ]
    }
   ],
   "source": [
    "''' 30.Write a Python class to implement pow(x, n).'''\n",
    "class power:\n",
    "    \n",
    "    def pow1(self, x, n):\n",
    "        if x==0 or x==1 or n==1:\n",
    "            return x \n",
    "\n",
    "        if x==-1:\n",
    "            if n%2 ==0:\n",
    "                return 1\n",
    "            else:\n",
    "                return -1\n",
    "        if n==0:\n",
    "            return 1\n",
    "        if n<0:\n",
    "            return 1/self.pow1(x,-n)\n",
    "        val = self.pow1(x,n//2)\n",
    "        if n%2 ==0:\n",
    "            return val*val\n",
    "        return val*val*x\n",
    "\n",
    "x=power()\n",
    "print(x.pow1(2, -2))\n",
    "print(x.pow1(3, 5))\n",
    "print(x.pow1(100, 0))"
   ]
  },
  {
   "cell_type": "code",
   "execution_count": 10,
   "id": "1078d940",
   "metadata": {},
   "outputs": [
    {
     "data": {
      "text/plain": [
       "'Kothapalli Varma Pavan'"
      ]
     },
     "execution_count": 10,
     "metadata": {},
     "output_type": "execute_result"
    }
   ],
   "source": [
    "#31.Write a Python class to reverse a string word by word.\n",
    "\n",
    "class reverse:\n",
    "    def reverse_words(self, s):\n",
    "        return ' '.join(reversed(s.split()))\n",
    "\n",
    "a=reverse()\n",
    "a.reverse_words('Pavan Varma Kothapalli')"
   ]
  },
  {
   "cell_type": "code",
   "execution_count": 13,
   "id": "d8a5438e",
   "metadata": {},
   "outputs": [],
   "source": [
    "'''32. Write a program that opens a file dialog that allows you to select a text file. The\n",
    "   program then displays the contents of the file in a textbox.'''\n",
    "from tkinter import *\n",
    "from tkinter.filedialog import *\n",
    "from tkinter import filedialog\n",
    "from tkinter.scrolledtext import ScrolledText\n",
    "master = Tk()\n",
    "master.title('File dialog')\n",
    "textbox = ScrolledText()\n",
    "textbox.grid()\n",
    "\n",
    "def callback():\n",
    "    filename=askopenfilename()\n",
    "    s = open(filename).read()\n",
    "    textbox.insert(1.0, s)\n",
    " \n",
    "errmsg = 'Error!'\n",
    "bt=Button(text='File Open', command=callback)\n",
    "bt.grid(column=1, row=0)\n",
    "mainloop()"
   ]
  },
  {
   "cell_type": "code",
   "execution_count": 14,
   "id": "1b5edf61",
   "metadata": {},
   "outputs": [
    {
     "name": "stdout",
     "output_type": "stream",
     "text": [
      "Enter a number upto 100: 105\n",
      "105 is out of allowed range\n"
     ]
    }
   ],
   "source": [
    "'''33. Write a program to demonstrate Try/except/else '''\n",
    "try:\n",
    "    x=int(input('Enter a number upto 100: '))\n",
    "    if x > 100:\n",
    "        raise ValueError(x)\n",
    "except ValueError: \n",
    "    print(x, \"is out of allowed range\")\n",
    "else:\n",
    "    print(x, \"is within the allowed range\")"
   ]
  },
  {
   "cell_type": "code",
   "execution_count": 15,
   "id": "e103284b",
   "metadata": {},
   "outputs": [
    {
     "name": "stdout",
     "output_type": "stream",
     "text": [
      "try block\n",
      "Enter a number:5\n",
      "Enter another number:3\n",
      "else block\n",
      "Division =  1.6666666666666667\n",
      "finally block\n",
      "Out of try, except, else and finally blocks.\n"
     ]
    }
   ],
   "source": [
    "''' 34. Write a program to demonstrate try/finally and with/as'''\n",
    "# demonstrate try/finally\n",
    "try:\n",
    "    print('try block')\n",
    "    x=int(input(\"Enter a number:\"))\n",
    "    y=int(input(\"Enter another number:\"))\n",
    "    z=x/y\n",
    "except ZeroDivisionError:\n",
    "    print(\"except ZeroDivisionError block\") \n",
    "    print(\"Division by not accepted\")\n",
    "else:\n",
    "    print(\"else block\")\n",
    "    print(\"Division = \", z)\n",
    "finally:\n",
    "    print(\"finally block\")\n",
    "    \n",
    "print (\"Out of try, except, else and finally blocks.\" )"
   ]
  },
  {
   "cell_type": "code",
   "execution_count": 16,
   "id": "eaf85b29",
   "metadata": {},
   "outputs": [],
   "source": [
    "#1)without using with statement\n",
    "file=open('123.txt','w')\n",
    "file.write('hello world')\n",
    "file.close()\n",
    "\n",
    "#2)with try and finally\n",
    "file=open('123.txt','w')\n",
    "try:\n",
    "    file.write('hello world')\n",
    "finally:\n",
    "    file.close()\n",
    "    \n",
    "# demonstrate with / as statement\n",
    "with open('123.txt','w') as file:\n",
    "    file.write('hello world') "
   ]
  },
  {
   "cell_type": "code",
   "execution_count": null,
   "id": "598b5463",
   "metadata": {},
   "outputs": [],
   "source": []
  }
 ],
 "metadata": {
  "kernelspec": {
   "display_name": "Python 3 (ipykernel)",
   "language": "python",
   "name": "python3"
  },
  "language_info": {
   "codemirror_mode": {
    "name": "ipython",
    "version": 3
   },
   "file_extension": ".py",
   "mimetype": "text/x-python",
   "name": "python",
   "nbconvert_exporter": "python",
   "pygments_lexer": "ipython3",
   "version": "3.9.7"
  }
 },
 "nbformat": 4,
 "nbformat_minor": 5
}
