{
 "cells": [
  {
   "cell_type": "code",
   "execution_count": null,
   "id": "eb9c336f",
   "metadata": {},
   "outputs": [],
   "source": []
  },
  {
   "cell_type": "code",
   "execution_count": 6,
   "id": "b7d7ed54",
   "metadata": {},
   "outputs": [
    {
     "name": "stdout",
     "output_type": "stream",
     "text": [
      "Enter a:5\n",
      "Enter b:0\n",
      "<class 'Exception'>\n",
      "program ends\n"
     ]
    }
   ],
   "source": [
    "a=int(input(\"Enter a:\"))\n",
    "b=int(input(\"Enter b:\"))\n",
    "try:\n",
    "    c=a/b\n",
    "    print(c)\n",
    "except:\n",
    "    print(Exception)\n",
    "else:\n",
    "    print(\"No Exception\")\n",
    "finally:\n",
    "    print(\"program ends\")"
   ]
  },
  {
   "cell_type": "code",
   "execution_count": 8,
   "id": "35c08403",
   "metadata": {},
   "outputs": [
    {
     "name": "stdout",
     "output_type": "stream",
     "text": [
      "Enter a number:6\n",
      "unsupported operand type(s) for /: 'str' and 'int'\n"
     ]
    }
   ],
   "source": [
    "try:\n",
    "    a=input(\"Enter a number:\")\n",
    "    b=a/5\n",
    "except Exception as e:\n",
    "    print(e)"
   ]
  },
  {
   "cell_type": "code",
   "execution_count": 10,
   "id": "493418de",
   "metadata": {},
   "outputs": [
    {
     "name": "stdout",
     "output_type": "stream",
     "text": [
      "No module named 'pavan1'\n"
     ]
    }
   ],
   "source": [
    "try:\n",
    "    import pavan1\n",
    "except Exception as e:\n",
    "    print(e)"
   ]
  },
  {
   "cell_type": "code",
   "execution_count": 11,
   "id": "63d42cc4",
   "metadata": {},
   "outputs": [
    {
     "ename": "ModuleNotFoundError",
     "evalue": "No module named 'pavan1'",
     "output_type": "error",
     "traceback": [
      "\u001b[1;31m---------------------------------------------------------------------------\u001b[0m",
      "\u001b[1;31mModuleNotFoundError\u001b[0m                       Traceback (most recent call last)",
      "\u001b[1;32m~\\AppData\\Local\\Temp/ipykernel_8360/2712487402.py\u001b[0m in \u001b[0;36m<module>\u001b[1;34m\u001b[0m\n\u001b[1;32m----> 1\u001b[1;33m \u001b[1;32mimport\u001b[0m \u001b[0mpavan1\u001b[0m\u001b[1;33m\u001b[0m\u001b[1;33m\u001b[0m\u001b[0m\n\u001b[0m",
      "\u001b[1;31mModuleNotFoundError\u001b[0m: No module named 'pavan1'"
     ]
    }
   ],
   "source": [
    "import pavan1"
   ]
  },
  {
   "cell_type": "code",
   "execution_count": 12,
   "id": "62f4df31",
   "metadata": {},
   "outputs": [
    {
     "name": "stdout",
     "output_type": "stream",
     "text": [
      "Zero Error division by zero\n"
     ]
    }
   ],
   "source": [
    "try:\n",
    "    a=5\n",
    "    b=0\n",
    "    l=[1,2,3]\n",
    "    c=a/b\n",
    "    print(l[4])\n",
    "except Exception as e:\n",
    "    print(\"Zero Error\",e)\n",
    "except Exception as e:\n",
    "    print(\"Index Error\",e)"
   ]
  },
  {
   "cell_type": "code",
   "execution_count": 16,
   "id": "e385e551",
   "metadata": {},
   "outputs": [
    {
     "name": "stdout",
     "output_type": "stream",
     "text": [
      "Enter a:10\n",
      "Enter b:2\n",
      "4\n",
      "No error\n",
      "Program Ended\n"
     ]
    }
   ],
   "source": [
    "a=int(input(\"Enter a:\"))\n",
    "b=int(input(\"Enter b:\"))\n",
    "l=[1,2,3,4,5]\n",
    "try:\n",
    "    c=a/b\n",
    "    print(l[3])\n",
    "except ZeroDivisionError:\n",
    "    print(\"Error Due to Dividing by Zero\")\n",
    "except IndexError:\n",
    "    print(\"Index Out of range\")\n",
    "except:\n",
    "    print(\"Exception Raised\")\n",
    "else:\n",
    "    print(\"No error\")\n",
    "finally:\n",
    "    print(\"Program Ended\")\n",
    "    "
   ]
  },
  {
   "cell_type": "code",
   "execution_count": 18,
   "id": "a30650f9",
   "metadata": {},
   "outputs": [
    {
     "name": "stdout",
     "output_type": "stream",
     "text": [
      "Enter a:10\n",
      "Enter b:0\n",
      "Exception Raised\n",
      "Program Ended\n"
     ]
    }
   ],
   "source": [
    "a=int(input(\"Enter a:\"))\n",
    "b=int(input(\"Enter b:\"))\n",
    "l=[1,2,3,4,5]\n",
    "try:\n",
    "    c=a/b\n",
    "    print(l[5])\n",
    "except (ZeroDivisionError,IndexError):\n",
    "    print(\"Exception Raised\")\n",
    "else:\n",
    "    print(\"No error\")\n",
    "finally:\n",
    "    print(\"Program Ended\")\n",
    "    "
   ]
  },
  {
   "cell_type": "code",
   "execution_count": 1,
   "id": "cbc0fdb7",
   "metadata": {},
   "outputs": [
    {
     "name": "stdout",
     "output_type": "stream",
     "text": [
      "Enter a number: 5\n",
      "This value is too small, try again!\n",
      "\n",
      "Enter a number: 6\n",
      "This value is too small, try again!\n",
      "\n",
      "Enter a number: 11\n",
      "This value is too large, try again!\n",
      "\n",
      "Enter a number: 10\n",
      "Congratulations! You guessed it correctly.\n"
     ]
    }
   ],
   "source": [
    "# define Python user-defined exceptions\n",
    "class Error(Exception):\n",
    "    \"\"\"Base class for other exceptions\"\"\"\n",
    "    pass\n",
    "class ValueTooSmallError(Error):\n",
    "    \"\"\"Raised when the input value is too small\"\"\"\n",
    "    pass\n",
    "class ValueTooLargeError(Error):\n",
    "    \"\"\"Raised when the input value is too large\"\"\"\n",
    "    pass\n",
    "# you need to guess this number\n",
    "number = 10\n",
    "# user guesses a number until he/she gets it right\n",
    "while True:\n",
    "    try:\n",
    "        i_num = int(input(\"Enter a number: \"))\n",
    "        if i_num < number:\n",
    "            raise ValueTooSmallError\n",
    "        elif i_num > number:\n",
    "            raise ValueTooLargeError\n",
    "        break\n",
    "    except ValueTooSmallError:\n",
    "        print(\"This value is too small, try again!\")\n",
    "        print()\n",
    "    except ValueTooLargeError:\n",
    "        print(\"This value is too large, try again!\")\n",
    "        print()\n",
    "\n",
    "print(\"Congratulations! You guessed it correctly.\")"
   ]
  },
  {
   "cell_type": "raw",
   "id": "f6caf471",
   "metadata": {},
   "source": []
  },
  {
   "cell_type": "code",
   "execution_count": 8,
   "id": "79d2f436",
   "metadata": {},
   "outputs": [
    {
     "name": "stdout",
     "output_type": "stream",
     "text": [
      "Raise Exception\n",
      "Error\n"
     ]
    }
   ],
   "source": [
    "try:\n",
    "    print(\"Raise Exception\")\n",
    "    raise ZeroDivisionError\n",
    "    raise AttributeError\n",
    "except ZeroDivisionError:\n",
    "    print(\"Error\")\n",
    "except AttributeError:\n",
    "    print(\"ATT ERROR\")"
   ]
  },
  {
   "cell_type": "code",
   "execution_count": 14,
   "id": "b0d8f0d8",
   "metadata": {},
   "outputs": [
    {
     "name": "stdout",
     "output_type": "stream",
     "text": [
      "Enter a number:5\n",
      "Enter a number:0\n",
      "Zero Error\n"
     ]
    }
   ],
   "source": [
    "#Raise Keyword\n",
    "a=int(input(\"Enter a number:\"))\n",
    "b=int(input(\"Enter a number:\"))\n",
    "try:\n",
    "    if b==0:\n",
    "        raise Exception\n",
    "    else:\n",
    "        c=a//b\n",
    "        print(c)\n",
    "except:\n",
    "    print(\"Zero Error\")"
   ]
  },
  {
   "cell_type": "code",
   "execution_count": 13,
   "id": "2799d786",
   "metadata": {},
   "outputs": [
    {
     "name": "stdout",
     "output_type": "stream",
     "text": [
      "Enter a number:5\n",
      "Enter a number:0\n",
      "Divided by Zero\n"
     ]
    }
   ],
   "source": [
    "a=int(input(\"Enter a number:\"))\n",
    "b=int(input(\"Enter a number:\"))\n",
    "try:\n",
    "    if b==0:\n",
    "        raise ZeroDivisionError(\"Divided by Zero\")\n",
    "    else:\n",
    "        c=a//b\n",
    "        print(c)\n",
    "except ZeroDivisionError as e:\n",
    "    print(e)"
   ]
  },
  {
   "cell_type": "code",
   "execution_count": 16,
   "id": "8393010e",
   "metadata": {},
   "outputs": [
    {
     "name": "stdout",
     "output_type": "stream",
     "text": [
      "Enter marks:102\n",
      "Marks should be 0 to 100\n"
     ]
    }
   ],
   "source": [
    "class userdefined(Exception):\n",
    "    pass\n",
    "marks=int(input(\"Enter marks:\"))\n",
    "try:\n",
    "    if marks<0 or marks>100:\n",
    "        raise userdefined\n",
    "except userdefined:\n",
    "    print(\"Marks should be 0 to 100\")\n",
    "else:\n",
    "    print(\"Marks is \",marks)"
   ]
  },
  {
   "cell_type": "code",
   "execution_count": null,
   "id": "57600639",
   "metadata": {},
   "outputs": [],
   "source": []
  }
 ],
 "metadata": {
  "kernelspec": {
   "display_name": "Python 3 (ipykernel)",
   "language": "python",
   "name": "python3"
  },
  "language_info": {
   "codemirror_mode": {
    "name": "ipython",
    "version": 3
   },
   "file_extension": ".py",
   "mimetype": "text/x-python",
   "name": "python",
   "nbconvert_exporter": "python",
   "pygments_lexer": "ipython3",
   "version": "3.9.7"
  }
 },
 "nbformat": 4,
 "nbformat_minor": 5
}
