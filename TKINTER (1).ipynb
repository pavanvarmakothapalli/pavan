{
 "cells": [
  {
   "cell_type": "code",
   "execution_count": 1,
   "id": "c8c229df",
   "metadata": {},
   "outputs": [],
   "source": [
    "#Creation of a window/widget\n",
    "from tkinter import * \n",
    "window = Tk()\n",
    "window.title(\"Welcome to tkinter\") \n",
    "window.mainloop()"
   ]
  },
  {
   "cell_type": "code",
   "execution_count": 12,
   "id": "bf3831a6",
   "metadata": {},
   "outputs": [],
   "source": [
    "#Creating a window with specific dimensions and a label\n",
    "from tkinter import * \n",
    "window = Tk()\n",
    "window.geometry(\"800x800\") \n",
    "window.title(\"AIML\")\n",
    "lbl = Label(window, text=\"HelloWorld\",font=(\"Arial Bold\", 50)) \n",
    "lbl.grid(column=5, row=5)\n",
    "window.mainloop()"
   ]
  },
  {
   "cell_type": "code",
   "execution_count": 14,
   "id": "3b303788",
   "metadata": {},
   "outputs": [],
   "source": [
    "#Adding a Button to window/widget\n",
    "from tkinter import * \n",
    "window = Tk()\n",
    "window.geometry(\"300x300\") \n",
    "window.title(\"AIML\")\n",
    "lbl = Label(window, text=\"HelloWorld\") \n",
    "lbl.grid(column=0, row=0)\n",
    "btn = Button(window, text=\"Click Me\") \n",
    "btn.grid(column=1, row=0) \n",
    "window.mainloop()"
   ]
  },
  {
   "cell_type": "code",
   "execution_count": 18,
   "id": "3baa6786",
   "metadata": {},
   "outputs": [],
   "source": [
    "\"\"\"Creating 2 text fields to enter 2 numbers, and a button when clicked gives \n",
    "sum of the 2 numbers and displays it in 3rd text field\"\"\"\n",
    "\n",
    "from tkinter import * \n",
    "window = Tk() \n",
    "window.geometry('350x200')\n",
    "lbl1 = Label(window, text=\"enter the first value\") \n",
    "lbl1.grid(column=0, row=0)\n",
    "lbl2 = Label(window, text=\"enter the second value\") \n",
    "lbl2.grid(column=0, row=1)\n",
    "lbl3 = Label(window, text=\"SOLUTION\") \n",
    "lbl3.grid(column=0, row=2)\n",
    "txt1 = Entry(window,width=10) \n",
    "txt1.grid(column=1, row=0) \n",
    "txt2 = Entry(window,width=10) \n",
    "txt2.grid(column=1, row=1) \n",
    "txt3 = Entry(window,width=20) \n",
    "txt3.grid(column=1, row=2)\n",
    "def clicked():\n",
    "    res=int(txt1.get())+int(txt2.get()) \n",
    "    txt3.insert(0,\"Sum is {}\".format(res))\n",
    "btn = Button(window, text=\"Click Me\", command=clicked) \n",
    "btn.grid(column=2, row=1)\n",
    "window.mainloop()"
   ]
  },
  {
   "cell_type": "code",
   "execution_count": 22,
   "id": "16ce596b",
   "metadata": {},
   "outputs": [],
   "source": [
    "#Creating 2 checkboxes\n",
    "from tkinter import * \n",
    "window = Tk()\n",
    "window.geometry('350x200') \n",
    "chk_state = BooleanVar() \n",
    "chk_state.set(True) #set check state\n",
    "chk1 = Checkbutton(window, text='CSE A', var=chk_state) \n",
    "chk2 = Checkbutton(window, text='CSE B') \n",
    "chk1.grid(column=0, row=0)\n",
    "chk2.grid(column=0, row=1) \n",
    "window.mainloop()"
   ]
  },
  {
   "cell_type": "code",
   "execution_count": 33,
   "id": "05b850aa",
   "metadata": {},
   "outputs": [],
   "source": [
    "#PackMethod\n",
    "import tkinter as tk\n",
    "\n",
    "root = tk.Tk()\n",
    "root.title('Pack Demo')\n",
    "root.geometry(\"300x200\")\n",
    "\n",
    "# box 1\n",
    "box1 = Label(root,text=\"Box 1\",bg=\"green\",fg=\"black\")\n",
    "box1.pack(ipadx=10,ipady=10,side=\"left\")\n",
    "\n",
    "# box 2\n",
    "box2 = Label(root,text=\"Box 2\",bg=\"red\",fg=\"white\")\n",
    "box2.pack(ipadx=10,ipady=10)\n",
    "\n",
    "root.mainloop()"
   ]
  },
  {
   "cell_type": "code",
   "execution_count": 34,
   "id": "816dbf0b",
   "metadata": {},
   "outputs": [],
   "source": [
    "#Creating 3 radio buttons\n",
    "from tkinter import * \n",
    "window = Tk()\n",
    "window.geometry('350x200')\n",
    "rad1 = Radiobutton(window,text='First', value=1) \n",
    "rad2 = Radiobutton(window,text='Second', value=2) \n",
    "rad3 = Radiobutton(window,text='Third', value=3) \n",
    "rad1.grid(column=0, row=0)\n",
    "rad2.grid(column=1, row=0) \n",
    "rad3.grid(column=2, row=0) \n",
    "window.mainloop()"
   ]
  },
  {
   "cell_type": "code",
   "execution_count": 6,
   "id": "e717b3ff",
   "metadata": {},
   "outputs": [],
   "source": [
    "#7)\tCreating a message box on clicking a button\n",
    "from tkinter import * \n",
    "from tkinter import messagebox\n",
    "window = Tk() \n",
    "window.geometry('350x200') \n",
    "def clicked():\n",
    "    #messagebox.showinfo('Message title ', 'Message content') \n",
    "    #messagebox.showwarning('Message title ', 'Message content')\n",
    "    messagebox.showerror('Message title ', 'Message content') \n",
    "btn = Button(window,text='Click here', command=clicked) \n",
    "btn.grid(column=0,row=0)\n",
    "window.mainloop()\n"
   ]
  },
  {
   "cell_type": "code",
   "execution_count": 7,
   "id": "322a7408",
   "metadata": {},
   "outputs": [],
   "source": [
    "# Creating various message boxes\n",
    "from tkinter import messagebox\n",
    "res = messagebox.askquestion('Message title','Message content') \n",
    "res = messagebox.askyesno('Message title','Message content')\n",
    "res = messagebox.askyesnocancel('Message title','Message content') \n",
    "res = messagebox.askokcancel('Message title','Message content') \n",
    "res = messagebox.askretrycancel('Message title','Message content')\n",
    " \n"
   ]
  },
  {
   "cell_type": "code",
   "execution_count": 1,
   "id": "7e1a84fe",
   "metadata": {},
   "outputs": [],
   "source": [
    "#Creating a Spinbox\n",
    "from tkinter import * \n",
    "window = Tk()\n",
    "window.title(\"Welcome to tkinter\")\n",
    "spin = Spinbox(window, from_=0, to=100) \n",
    "spin.grid(column=0,row=0) \n",
    "window.mainloop()\n"
   ]
  },
  {
   "cell_type": "code",
   "execution_count": null,
   "id": "e40afcd0",
   "metadata": {},
   "outputs": [],
   "source": []
  }
 ],
 "metadata": {
  "kernelspec": {
   "display_name": "Python 3 (ipykernel)",
   "language": "python",
   "name": "python3"
  },
  "language_info": {
   "codemirror_mode": {
    "name": "ipython",
    "version": 3
   },
   "file_extension": ".py",
   "mimetype": "text/x-python",
   "name": "python",
   "nbconvert_exporter": "python",
   "pygments_lexer": "ipython3",
   "version": "3.9.7"
  }
 },
 "nbformat": 4,
 "nbformat_minor": 5
}
