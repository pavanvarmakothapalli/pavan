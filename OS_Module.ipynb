{
 "cells": [
  {
   "cell_type": "code",
   "execution_count": 6,
   "id": "5ff6483c",
   "metadata": {},
   "outputs": [
    {
     "name": "stdout",
     "output_type": "stream",
     "text": [
      "C:\\Users\n"
     ]
    }
   ],
   "source": [
    "#Getting the Current working directory\n",
    "import os\n",
    "print(os.getcwd())"
   ]
  },
  {
   "cell_type": "code",
   "execution_count": 17,
   "id": "e20ec792",
   "metadata": {
    "scrolled": true
   },
   "outputs": [
    {
     "name": "stdout",
     "output_type": "stream",
     "text": [
      "C:\\srkr\\WT\n",
      "['Analog-Signal-Vs-digital-Signal.jpg', 'apachetomcat.jpg', 'ASSIGNMENT.docx', 'BTECH_CSE_R17_MP.pdf', 'BTech_CSE_R17_Syllabus.pdf', 'BTECH_IT_R17_MP.pdf', 'DC-IMP.docx', 'DELOITTE.docx', 'demo.html', 'dt-it-a.xlsx', 'food_c101_n10099_r32x32x3.h5', 'getvspost.ppt', 'how-httpsession-works.jpg', 'Html-1.wmv', 'httpsession.jpg', 'Intro to Web Technologies.wmv', 'Introduction_to_Webtechnologies.wmv', 'latest', 'Life-Cycle-Methods-of-a-Servlet.jpg', 'login.html', 'material', 'ML-cse-syllabus.docx', 'MTECH_IT_R19_MP.pdf', 'multiplexing-fdm-23-638.jpg', 'namespace.xml', 'ppt-pdf', 'ppts', 'questionbank', 'sahaja-mini.docx', 'service.jpg', 'servlet-http-requests6.png', 'servlet-http-requests7.png', 'servletlife.jpg', 'WT-HTML-1.wmv', 'WT-HTML-2.wmv', 'WT-HTML-2_1.wmv', 'WT-HTML-3.wmv', 'WT-HTML-introduction - 1.ppt', 'Wt-Intro-Pavan.pptx', 'WT-Intro.docx', 'WT-Intro.pdf', 'WT-Syllabus-overview.ppt', 'Wt_programs', 'WT_Syllabus_Overview.wmv', 'WT_Syllabus_Overview1.wmv', 'xml']\n"
     ]
    }
   ],
   "source": [
    "#Changing the Current working directory\n",
    "import os\n",
    "os.chdir(\"C:/srkr/WT\")\n",
    "print(os.getcwd())\n",
    "print(os.listdir())"
   ]
  },
  {
   "cell_type": "code",
   "execution_count": null,
   "id": "afa35c6c",
   "metadata": {},
   "outputs": [],
   "source": [
    "#Write a program that allows the user to obtain information about the file system.\n",
    "import os, os.path\n",
    "QUIT = '7'\n",
    "COMMANDS = ('1', '2', '3', '4', '5', '6', '7')\n",
    "MENU = \"\"\"1 List the current directory\n",
    "2 Move up\n",
    "3 Move down\n",
    "4 Number of files in the directory\n",
    "5 Size of the directory in bytes\n",
    "6 Search for a filename\n",
    "7 Quit the program\"\"\"\n",
    "def main():\n",
    "    while True:\n",
    "        print(os.getcwd())\n",
    "        print(MENU)\n",
    "        command = acceptCommand() #takes choice\n",
    "        runCommand(command)\n",
    "        if command == QUIT:\n",
    "            print(\"Have a nice day!\")\n",
    "            break\n",
    "def acceptCommand():\n",
    "    \"\"\"Inputs and returns a legitimate command number.\"\"\"\n",
    "    command = input(\"Enter a number: \")\n",
    "    if command in COMMANDS:\n",
    "        return command\n",
    "    else:\n",
    "        print(\"Error: command not recognized\")\n",
    "        return acceptCommand()\n",
    "def runCommand(command):\n",
    "    \"\"\"Selects and runs a command.\"\"\"\n",
    "    if command == '1':\n",
    "        listCurrentDir(os.getcwd())\n",
    "    elif command == '2':\n",
    "        moveUp()\n",
    "    elif command == '3':\n",
    "        moveDown(os.getcwd())\n",
    "    elif command == '4':\n",
    "        print(\"The total number of files is\", \\\n",
    "        countFiles(os.getcwd()))\n",
    "    elif command == '5':\n",
    "        print(\"The total number of bytes is\", \\\n",
    "        countBytes(os.getcwd()))\n",
    "    elif command == '6':\n",
    "        target = input(\"Enter the search string: \")\n",
    "        fileList = findFiles(target, os.getcwd())\n",
    "\n",
    "def listCurrentDir(dirName):\n",
    "    \"\"\"Prints a list of the cwd's contents.\"\"\"\n",
    "    lyst = os.listdir(dirName)\n",
    "    for element in lyst:\n",
    "        print(element)\n",
    "def moveUp():\n",
    "    \"\"\"Moves up to the parent directory.\"\"\"\n",
    "    os.chdir(\"..\")\n",
    "def moveDown(currentDir):\n",
    "    \"\"\"Moves down to the named subdirectory if it exists.\"\"\"\n",
    "    newDir = input(\"Enter the directory name: \")\n",
    "    if os.path.exists(currentDir + os.sep + newDir) and os.path.isdir(newDir):\n",
    "        os.chdir(newDir)\n",
    "    else:\n",
    "        print(\"ERROR: no such name\")\n",
    "def countFiles(path):\n",
    "    \"\"\"Returns the number of files in the cwd and all its subdirectories.\"\"\"\n",
    "    count = 0\n",
    "    lyst = os.listdir(path)\n",
    "    for element in lyst:\n",
    "        if os.path.isfile(element):\n",
    "            count += 1\n",
    "        else:\n",
    "            os.chdir(element)\n",
    "            count += countFiles(os.getcwd())\n",
    "            os.chdir(\"..\")\n",
    "    return count\n",
    "def countBytes(path):\n",
    "    \"\"\"Returns the number of bytes in the cwd and all its subdirectories.\"\"\"\n",
    "    count = 0\n",
    "    lyst = os.listdir(path)\n",
    "    for element in lyst:\n",
    "        if os.path.isfile(element):\n",
    "            count += os.path.getsize(element)\n",
    "        else:\n",
    "            os.chdir(element)\n",
    "            count += countBytes(os.getcwd())\n",
    "            os.chdir(\"..\")\n",
    "    return count\n",
    "def findFiles(target, path):\n",
    "    \"\"\"Returns a list of the filenames that contain the target string in the cwd and all its subdirectories.\"\"\"\n",
    "    lyst = os.listdir(path)\n",
    "    # print(lyst)\n",
    "    if target in lyst:\n",
    "        print('File found')\n",
    "    else:\n",
    "        print('File not found')\n",
    "main()"
   ]
  }
 ],
 "metadata": {
  "kernelspec": {
   "display_name": "Python 3 (ipykernel)",
   "language": "python",
   "name": "python3"
  },
  "language_info": {
   "codemirror_mode": {
    "name": "ipython",
    "version": 3
   },
   "file_extension": ".py",
   "mimetype": "text/x-python",
   "name": "python",
   "nbconvert_exporter": "python",
   "pygments_lexer": "ipython3",
   "version": "3.9.7"
  }
 },
 "nbformat": 4,
 "nbformat_minor": 5
}
